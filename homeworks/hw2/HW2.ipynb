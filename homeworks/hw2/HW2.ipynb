{
 "cells": [
  {
   "cell_type": "code",
   "execution_count": 10,
   "id": "a7717906-3914-4949-908f-8828adddcf99",
   "metadata": {},
   "outputs": [],
   "source": [
    "import numpy as np\n",
    "import pandas as pd\n",
    "from sklearn.model_selection import train_test_split\n",
    "from sklearn.datasets import make_blobs\n",
    "import numpy as np\n",
    "import matplotlib.pyplot as plt\n",
    "from matplotlib import colors\n",
    "%matplotlib inline"
   ]
  },
  {
   "cell_type": "markdown",
   "id": "de3a6754-5248-425b-8c3c-3a9e75fb220e",
   "metadata": {},
   "source": [
    "## PART 1"
   ]
  },
  {
   "cell_type": "code",
   "execution_count": 12,
   "id": "a32c7bca-ab54-40e0-8a05-31d495089059",
   "metadata": {},
   "outputs": [],
   "source": [
    "df = pd.read_csv('home_data.csv')"
   ]
  },
  {
   "cell_type": "code",
   "execution_count": 13,
   "id": "bbb98a04-f8eb-478a-af39-52770c40636e",
   "metadata": {},
   "outputs": [
    {
     "data": {
      "text/html": [
       "<div>\n",
       "<style scoped>\n",
       "    .dataframe tbody tr th:only-of-type {\n",
       "        vertical-align: middle;\n",
       "    }\n",
       "\n",
       "    .dataframe tbody tr th {\n",
       "        vertical-align: top;\n",
       "    }\n",
       "\n",
       "    .dataframe thead th {\n",
       "        text-align: right;\n",
       "    }\n",
       "</style>\n",
       "<table border=\"1\" class=\"dataframe\">\n",
       "  <thead>\n",
       "    <tr style=\"text-align: right;\">\n",
       "      <th></th>\n",
       "      <th>id</th>\n",
       "      <th>date</th>\n",
       "      <th>price</th>\n",
       "      <th>bedrooms</th>\n",
       "      <th>bathrooms</th>\n",
       "      <th>sqft_living</th>\n",
       "      <th>sqft_lot</th>\n",
       "      <th>floors</th>\n",
       "      <th>waterfront</th>\n",
       "      <th>view</th>\n",
       "      <th>...</th>\n",
       "      <th>grade</th>\n",
       "      <th>sqft_above</th>\n",
       "      <th>sqft_basement</th>\n",
       "      <th>yr_built</th>\n",
       "      <th>yr_renovated</th>\n",
       "      <th>zipcode</th>\n",
       "      <th>lat</th>\n",
       "      <th>long</th>\n",
       "      <th>sqft_living15</th>\n",
       "      <th>sqft_lot15</th>\n",
       "    </tr>\n",
       "  </thead>\n",
       "  <tbody>\n",
       "    <tr>\n",
       "      <th>0</th>\n",
       "      <td>7129300520</td>\n",
       "      <td>20141013T000000</td>\n",
       "      <td>221900</td>\n",
       "      <td>3</td>\n",
       "      <td>1.00</td>\n",
       "      <td>1180</td>\n",
       "      <td>5650</td>\n",
       "      <td>1.0</td>\n",
       "      <td>0</td>\n",
       "      <td>0</td>\n",
       "      <td>...</td>\n",
       "      <td>7</td>\n",
       "      <td>1180</td>\n",
       "      <td>0</td>\n",
       "      <td>1955</td>\n",
       "      <td>0</td>\n",
       "      <td>98178</td>\n",
       "      <td>47.5112</td>\n",
       "      <td>-122.257</td>\n",
       "      <td>1340</td>\n",
       "      <td>5650</td>\n",
       "    </tr>\n",
       "    <tr>\n",
       "      <th>1</th>\n",
       "      <td>6414100192</td>\n",
       "      <td>20141209T000000</td>\n",
       "      <td>538000</td>\n",
       "      <td>3</td>\n",
       "      <td>2.25</td>\n",
       "      <td>2570</td>\n",
       "      <td>7242</td>\n",
       "      <td>2.0</td>\n",
       "      <td>0</td>\n",
       "      <td>0</td>\n",
       "      <td>...</td>\n",
       "      <td>7</td>\n",
       "      <td>2170</td>\n",
       "      <td>400</td>\n",
       "      <td>1951</td>\n",
       "      <td>1991</td>\n",
       "      <td>98125</td>\n",
       "      <td>47.7210</td>\n",
       "      <td>-122.319</td>\n",
       "      <td>1690</td>\n",
       "      <td>7639</td>\n",
       "    </tr>\n",
       "    <tr>\n",
       "      <th>2</th>\n",
       "      <td>5631500400</td>\n",
       "      <td>20150225T000000</td>\n",
       "      <td>180000</td>\n",
       "      <td>2</td>\n",
       "      <td>1.00</td>\n",
       "      <td>770</td>\n",
       "      <td>10000</td>\n",
       "      <td>1.0</td>\n",
       "      <td>0</td>\n",
       "      <td>0</td>\n",
       "      <td>...</td>\n",
       "      <td>6</td>\n",
       "      <td>770</td>\n",
       "      <td>0</td>\n",
       "      <td>1933</td>\n",
       "      <td>0</td>\n",
       "      <td>98028</td>\n",
       "      <td>47.7379</td>\n",
       "      <td>-122.233</td>\n",
       "      <td>2720</td>\n",
       "      <td>8062</td>\n",
       "    </tr>\n",
       "    <tr>\n",
       "      <th>3</th>\n",
       "      <td>2487200875</td>\n",
       "      <td>20141209T000000</td>\n",
       "      <td>604000</td>\n",
       "      <td>4</td>\n",
       "      <td>3.00</td>\n",
       "      <td>1960</td>\n",
       "      <td>5000</td>\n",
       "      <td>1.0</td>\n",
       "      <td>0</td>\n",
       "      <td>0</td>\n",
       "      <td>...</td>\n",
       "      <td>7</td>\n",
       "      <td>1050</td>\n",
       "      <td>910</td>\n",
       "      <td>1965</td>\n",
       "      <td>0</td>\n",
       "      <td>98136</td>\n",
       "      <td>47.5208</td>\n",
       "      <td>-122.393</td>\n",
       "      <td>1360</td>\n",
       "      <td>5000</td>\n",
       "    </tr>\n",
       "    <tr>\n",
       "      <th>4</th>\n",
       "      <td>1954400510</td>\n",
       "      <td>20150218T000000</td>\n",
       "      <td>510000</td>\n",
       "      <td>3</td>\n",
       "      <td>2.00</td>\n",
       "      <td>1680</td>\n",
       "      <td>8080</td>\n",
       "      <td>1.0</td>\n",
       "      <td>0</td>\n",
       "      <td>0</td>\n",
       "      <td>...</td>\n",
       "      <td>8</td>\n",
       "      <td>1680</td>\n",
       "      <td>0</td>\n",
       "      <td>1987</td>\n",
       "      <td>0</td>\n",
       "      <td>98074</td>\n",
       "      <td>47.6168</td>\n",
       "      <td>-122.045</td>\n",
       "      <td>1800</td>\n",
       "      <td>7503</td>\n",
       "    </tr>\n",
       "  </tbody>\n",
       "</table>\n",
       "<p>5 rows × 21 columns</p>\n",
       "</div>"
      ],
      "text/plain": [
       "           id             date   price  bedrooms  bathrooms  sqft_living  \\\n",
       "0  7129300520  20141013T000000  221900         3       1.00         1180   \n",
       "1  6414100192  20141209T000000  538000         3       2.25         2570   \n",
       "2  5631500400  20150225T000000  180000         2       1.00          770   \n",
       "3  2487200875  20141209T000000  604000         4       3.00         1960   \n",
       "4  1954400510  20150218T000000  510000         3       2.00         1680   \n",
       "\n",
       "   sqft_lot  floors  waterfront  view  ...  grade  sqft_above  sqft_basement  \\\n",
       "0      5650     1.0           0     0  ...      7        1180              0   \n",
       "1      7242     2.0           0     0  ...      7        2170            400   \n",
       "2     10000     1.0           0     0  ...      6         770              0   \n",
       "3      5000     1.0           0     0  ...      7        1050            910   \n",
       "4      8080     1.0           0     0  ...      8        1680              0   \n",
       "\n",
       "   yr_built  yr_renovated  zipcode      lat     long  sqft_living15  \\\n",
       "0      1955             0    98178  47.5112 -122.257           1340   \n",
       "1      1951          1991    98125  47.7210 -122.319           1690   \n",
       "2      1933             0    98028  47.7379 -122.233           2720   \n",
       "3      1965             0    98136  47.5208 -122.393           1360   \n",
       "4      1987             0    98074  47.6168 -122.045           1800   \n",
       "\n",
       "   sqft_lot15  \n",
       "0        5650  \n",
       "1        7639  \n",
       "2        8062  \n",
       "3        5000  \n",
       "4        7503  \n",
       "\n",
       "[5 rows x 21 columns]"
      ]
     },
     "execution_count": 13,
     "metadata": {},
     "output_type": "execute_result"
    }
   ],
   "source": [
    "df.head()"
   ]
  },
  {
   "cell_type": "markdown",
   "id": "a03dd0f2-f173-43e4-8e16-dedf09a2aa02",
   "metadata": {},
   "source": [
    "#### Question 1: Adding four new variables"
   ]
  },
  {
   "cell_type": "code",
   "execution_count": 15,
   "id": "526374fa-253e-4b8f-8adf-ea111a640e88",
   "metadata": {},
   "outputs": [],
   "source": [
    "df['bedrooms_squared'] = df['bedrooms'] ** 2\n",
    "df['bed_bath_rooms'] = df['bedrooms'] * df['bathrooms']\n",
    "df['log_sqft_living'] = np.log(df['sqft_living'])\n",
    "df['lat_plus_long'] = df['lat'] + df['long']"
   ]
  },
  {
   "cell_type": "code",
   "execution_count": 16,
   "id": "5afaf5b6-0b93-417a-a1a3-556af06cc7ec",
   "metadata": {},
   "outputs": [
    {
     "data": {
      "text/html": [
       "<div>\n",
       "<style scoped>\n",
       "    .dataframe tbody tr th:only-of-type {\n",
       "        vertical-align: middle;\n",
       "    }\n",
       "\n",
       "    .dataframe tbody tr th {\n",
       "        vertical-align: top;\n",
       "    }\n",
       "\n",
       "    .dataframe thead th {\n",
       "        text-align: right;\n",
       "    }\n",
       "</style>\n",
       "<table border=\"1\" class=\"dataframe\">\n",
       "  <thead>\n",
       "    <tr style=\"text-align: right;\">\n",
       "      <th></th>\n",
       "      <th>id</th>\n",
       "      <th>date</th>\n",
       "      <th>price</th>\n",
       "      <th>bedrooms</th>\n",
       "      <th>bathrooms</th>\n",
       "      <th>sqft_living</th>\n",
       "      <th>sqft_lot</th>\n",
       "      <th>floors</th>\n",
       "      <th>waterfront</th>\n",
       "      <th>view</th>\n",
       "      <th>...</th>\n",
       "      <th>yr_renovated</th>\n",
       "      <th>zipcode</th>\n",
       "      <th>lat</th>\n",
       "      <th>long</th>\n",
       "      <th>sqft_living15</th>\n",
       "      <th>sqft_lot15</th>\n",
       "      <th>bedrooms_squared</th>\n",
       "      <th>bed_bath_rooms</th>\n",
       "      <th>log_sqft_living</th>\n",
       "      <th>lat_plus_long</th>\n",
       "    </tr>\n",
       "  </thead>\n",
       "  <tbody>\n",
       "    <tr>\n",
       "      <th>0</th>\n",
       "      <td>7129300520</td>\n",
       "      <td>20141013T000000</td>\n",
       "      <td>221900</td>\n",
       "      <td>3</td>\n",
       "      <td>1.00</td>\n",
       "      <td>1180</td>\n",
       "      <td>5650</td>\n",
       "      <td>1.0</td>\n",
       "      <td>0</td>\n",
       "      <td>0</td>\n",
       "      <td>...</td>\n",
       "      <td>0</td>\n",
       "      <td>98178</td>\n",
       "      <td>47.5112</td>\n",
       "      <td>-122.257</td>\n",
       "      <td>1340</td>\n",
       "      <td>5650</td>\n",
       "      <td>9</td>\n",
       "      <td>3.00</td>\n",
       "      <td>7.073270</td>\n",
       "      <td>-74.7458</td>\n",
       "    </tr>\n",
       "    <tr>\n",
       "      <th>1</th>\n",
       "      <td>6414100192</td>\n",
       "      <td>20141209T000000</td>\n",
       "      <td>538000</td>\n",
       "      <td>3</td>\n",
       "      <td>2.25</td>\n",
       "      <td>2570</td>\n",
       "      <td>7242</td>\n",
       "      <td>2.0</td>\n",
       "      <td>0</td>\n",
       "      <td>0</td>\n",
       "      <td>...</td>\n",
       "      <td>1991</td>\n",
       "      <td>98125</td>\n",
       "      <td>47.7210</td>\n",
       "      <td>-122.319</td>\n",
       "      <td>1690</td>\n",
       "      <td>7639</td>\n",
       "      <td>9</td>\n",
       "      <td>6.75</td>\n",
       "      <td>7.851661</td>\n",
       "      <td>-74.5980</td>\n",
       "    </tr>\n",
       "    <tr>\n",
       "      <th>2</th>\n",
       "      <td>5631500400</td>\n",
       "      <td>20150225T000000</td>\n",
       "      <td>180000</td>\n",
       "      <td>2</td>\n",
       "      <td>1.00</td>\n",
       "      <td>770</td>\n",
       "      <td>10000</td>\n",
       "      <td>1.0</td>\n",
       "      <td>0</td>\n",
       "      <td>0</td>\n",
       "      <td>...</td>\n",
       "      <td>0</td>\n",
       "      <td>98028</td>\n",
       "      <td>47.7379</td>\n",
       "      <td>-122.233</td>\n",
       "      <td>2720</td>\n",
       "      <td>8062</td>\n",
       "      <td>4</td>\n",
       "      <td>2.00</td>\n",
       "      <td>6.646391</td>\n",
       "      <td>-74.4951</td>\n",
       "    </tr>\n",
       "    <tr>\n",
       "      <th>3</th>\n",
       "      <td>2487200875</td>\n",
       "      <td>20141209T000000</td>\n",
       "      <td>604000</td>\n",
       "      <td>4</td>\n",
       "      <td>3.00</td>\n",
       "      <td>1960</td>\n",
       "      <td>5000</td>\n",
       "      <td>1.0</td>\n",
       "      <td>0</td>\n",
       "      <td>0</td>\n",
       "      <td>...</td>\n",
       "      <td>0</td>\n",
       "      <td>98136</td>\n",
       "      <td>47.5208</td>\n",
       "      <td>-122.393</td>\n",
       "      <td>1360</td>\n",
       "      <td>5000</td>\n",
       "      <td>16</td>\n",
       "      <td>12.00</td>\n",
       "      <td>7.580700</td>\n",
       "      <td>-74.8722</td>\n",
       "    </tr>\n",
       "    <tr>\n",
       "      <th>4</th>\n",
       "      <td>1954400510</td>\n",
       "      <td>20150218T000000</td>\n",
       "      <td>510000</td>\n",
       "      <td>3</td>\n",
       "      <td>2.00</td>\n",
       "      <td>1680</td>\n",
       "      <td>8080</td>\n",
       "      <td>1.0</td>\n",
       "      <td>0</td>\n",
       "      <td>0</td>\n",
       "      <td>...</td>\n",
       "      <td>0</td>\n",
       "      <td>98074</td>\n",
       "      <td>47.6168</td>\n",
       "      <td>-122.045</td>\n",
       "      <td>1800</td>\n",
       "      <td>7503</td>\n",
       "      <td>9</td>\n",
       "      <td>6.00</td>\n",
       "      <td>7.426549</td>\n",
       "      <td>-74.4282</td>\n",
       "    </tr>\n",
       "  </tbody>\n",
       "</table>\n",
       "<p>5 rows × 25 columns</p>\n",
       "</div>"
      ],
      "text/plain": [
       "           id             date   price  bedrooms  bathrooms  sqft_living  \\\n",
       "0  7129300520  20141013T000000  221900         3       1.00         1180   \n",
       "1  6414100192  20141209T000000  538000         3       2.25         2570   \n",
       "2  5631500400  20150225T000000  180000         2       1.00          770   \n",
       "3  2487200875  20141209T000000  604000         4       3.00         1960   \n",
       "4  1954400510  20150218T000000  510000         3       2.00         1680   \n",
       "\n",
       "   sqft_lot  floors  waterfront  view  ...  yr_renovated  zipcode      lat  \\\n",
       "0      5650     1.0           0     0  ...             0    98178  47.5112   \n",
       "1      7242     2.0           0     0  ...          1991    98125  47.7210   \n",
       "2     10000     1.0           0     0  ...             0    98028  47.7379   \n",
       "3      5000     1.0           0     0  ...             0    98136  47.5208   \n",
       "4      8080     1.0           0     0  ...             0    98074  47.6168   \n",
       "\n",
       "      long  sqft_living15  sqft_lot15  bedrooms_squared  bed_bath_rooms  \\\n",
       "0 -122.257           1340        5650                 9            3.00   \n",
       "1 -122.319           1690        7639                 9            6.75   \n",
       "2 -122.233           2720        8062                 4            2.00   \n",
       "3 -122.393           1360        5000                16           12.00   \n",
       "4 -122.045           1800        7503                 9            6.00   \n",
       "\n",
       "   log_sqft_living  lat_plus_long  \n",
       "0         7.073270       -74.7458  \n",
       "1         7.851661       -74.5980  \n",
       "2         6.646391       -74.4951  \n",
       "3         7.580700       -74.8722  \n",
       "4         7.426549       -74.4282  \n",
       "\n",
       "[5 rows x 25 columns]"
      ]
     },
     "execution_count": 16,
     "metadata": {},
     "output_type": "execute_result"
    }
   ],
   "source": [
    "df.head()"
   ]
  },
  {
   "cell_type": "markdown",
   "id": "33d13565-6779-4eb3-954b-e4ab2a747f57",
   "metadata": {},
   "source": [
    "#### What are the mean (arithmetic average) values of your 4 new variables? (round to 2 digits)"
   ]
  },
  {
   "cell_type": "code",
   "execution_count": 18,
   "id": "175a3e9e-110c-43b9-9a98-40ada4855328",
   "metadata": {},
   "outputs": [
    {
     "data": {
      "text/plain": [
       "{'bedrooms_squared': 12.23,\n",
       " 'bed_bath_rooms': 7.5,\n",
       " 'log_sqft_living': 7.55,\n",
       " 'lat_plus_long': -74.65}"
      ]
     },
     "execution_count": 18,
     "metadata": {},
     "output_type": "execute_result"
    }
   ],
   "source": [
    "mean_values = {\n",
    "    'bedrooms_squared': round(df['bedrooms_squared'].mean(), 2),\n",
    "    'bed_bath_rooms': round(df['bed_bath_rooms'].mean(), 2),\n",
    "    'log_sqft_living': round(df['log_sqft_living'].mean(), 2),\n",
    "    'lat_plus_long': round(df['lat_plus_long'].mean(), 2)\n",
    "}\n",
    "mean_values\n"
   ]
  },
  {
   "cell_type": "markdown",
   "id": "fb4f9fba-e885-451b-8165-761b11031c68",
   "metadata": {},
   "source": [
    "#### Question 2: Split the data into training set (80%) and test set (20%) with random state = 0. "
   ]
  },
  {
   "cell_type": "code",
   "execution_count": 20,
   "id": "37ae5289-52d8-46e5-bed8-0881f2c54c5e",
   "metadata": {},
   "outputs": [],
   "source": [
    "train_data, test_data = train_test_split(df, test_size=0.2, random_state=0)"
   ]
  },
  {
   "cell_type": "code",
   "execution_count": 21,
   "id": "c2cb959e-dbd5-4384-af41-e261ac272eb5",
   "metadata": {},
   "outputs": [
    {
     "data": {
      "text/plain": [
       "(17290, 25)"
      ]
     },
     "execution_count": 21,
     "metadata": {},
     "output_type": "execute_result"
    }
   ],
   "source": [
    "train_data.shape"
   ]
  },
  {
   "cell_type": "code",
   "execution_count": 22,
   "id": "f94ee25a-b081-4552-a5d6-ebc48f167146",
   "metadata": {},
   "outputs": [
    {
     "data": {
      "text/plain": [
       "(4323, 25)"
      ]
     },
     "execution_count": 22,
     "metadata": {},
     "output_type": "execute_result"
    }
   ],
   "source": [
    "test_data.shape"
   ]
  },
  {
   "cell_type": "code",
   "execution_count": 23,
   "id": "2e33ffff-12c5-4e9b-92ee-e23a80fad801",
   "metadata": {},
   "outputs": [
    {
     "data": {
      "text/plain": [
       "(21613, 25)"
      ]
     },
     "execution_count": 23,
     "metadata": {},
     "output_type": "execute_result"
    }
   ],
   "source": [
    "df.shape"
   ]
  },
  {
   "cell_type": "markdown",
   "id": "3352d810-a816-43a0-935a-bc17708ea757",
   "metadata": {},
   "source": [
    "#### Question 3: Estimate the regression coefficients/weights for predicting ‘price’ for the following three models"
   ]
  },
  {
   "cell_type": "code",
   "execution_count": 25,
   "id": "4d4e957a-2137-4de8-915b-b46b62314f66",
   "metadata": {},
   "outputs": [],
   "source": [
    "y = train_data['price']"
   ]
  },
  {
   "cell_type": "markdown",
   "id": "8c57b1f7-9c3c-49cc-ba40-7c8680434b06",
   "metadata": {},
   "source": [
    "### Model 1"
   ]
  },
  {
   "cell_type": "code",
   "execution_count": 27,
   "id": "f7def519-dac9-4d43-8af5-9c896df5e83d",
   "metadata": {},
   "outputs": [],
   "source": [
    "feature1 = ['sqft_living', 'bedrooms', 'bathrooms', 'lat', 'long']"
   ]
  },
  {
   "cell_type": "code",
   "execution_count": 28,
   "id": "e803759a-66e6-4cb3-9417-af86868de3c0",
   "metadata": {},
   "outputs": [],
   "source": [
    "X1 = train_data[feature1]"
   ]
  },
  {
   "cell_type": "code",
   "execution_count": 29,
   "id": "c803c47b-12ab-4c4f-8775-f74540f67e8e",
   "metadata": {},
   "outputs": [],
   "source": [
    "from sklearn.linear_model import LinearRegression"
   ]
  },
  {
   "cell_type": "code",
   "execution_count": 30,
   "id": "48496a47-e2b7-4a4d-91cc-94addb015eec",
   "metadata": {},
   "outputs": [],
   "source": [
    "linreg1 = LinearRegression().fit(X1, y)"
   ]
  },
  {
   "cell_type": "code",
   "execution_count": 31,
   "id": "33fbb292-8a38-4448-8548-1f5bdc29a878",
   "metadata": {
    "scrolled": true
   },
   "outputs": [
    {
     "name": "stdout",
     "output_type": "stream",
     "text": [
      "linear model1 coeff (w): [ 3.12942011e+02 -5.30962684e+04  1.47770422e+04  6.53983345e+05\n",
      " -3.25707345e+05]\n",
      "linear model1 intercept (b): -70870847.444\n",
      "R-squared score: 0.591\n"
     ]
    }
   ],
   "source": [
    "print('linear model1 coeff (w): {}'\n",
    "     .format(linreg1.coef_))\n",
    "print('linear model1 intercept (b): {:.3f}'\n",
    "     .format(linreg1.intercept_))\n",
    "print('R-squared score: {:.3f}'\n",
    "     .format(linreg1.score(X1, y)))"
   ]
  },
  {
   "cell_type": "markdown",
   "id": "07a92014-4aec-4ff6-abc7-d1a29015a726",
   "metadata": {},
   "source": [
    "### Model 2"
   ]
  },
  {
   "cell_type": "code",
   "execution_count": 33,
   "id": "7cc28fc2-e2e0-48b4-99ac-b837749b4c09",
   "metadata": {},
   "outputs": [],
   "source": [
    "feature2 = feature1 + ['bed_bath_rooms']"
   ]
  },
  {
   "cell_type": "code",
   "execution_count": 34,
   "id": "89af98d9-7833-4b25-afa7-c433cad271ce",
   "metadata": {},
   "outputs": [],
   "source": [
    "X2 = train_data[feature2]"
   ]
  },
  {
   "cell_type": "code",
   "execution_count": 35,
   "id": "dfd02af2-7520-4aa6-b89b-5804fc8a85ee",
   "metadata": {},
   "outputs": [
    {
     "name": "stdout",
     "output_type": "stream",
     "text": [
      "linear model2 coeff (w): [ 3.06819574e+02 -1.04604713e+05 -7.01815223e+04  6.50590954e+05\n",
      " -3.09965761e+05  2.49441476e+04]\n",
      "linear model2 intercept (b): -68606821.793\n",
      "R-squared score: 0.595\n"
     ]
    }
   ],
   "source": [
    "linreg2 = LinearRegression().fit(X2, y)\n",
    "print('linear model2 coeff (w): {}'\n",
    "     .format(linreg2.coef_))\n",
    "print('linear model2 intercept (b): {:.3f}'\n",
    "     .format(linreg2.intercept_))\n",
    "print('R-squared score: {:.3f}'\n",
    "     .format(linreg2.score(X2, y)))"
   ]
  },
  {
   "cell_type": "markdown",
   "id": "b1927e47-3bf9-4135-96f5-f15ecfd46461",
   "metadata": {},
   "source": [
    "### Model 3"
   ]
  },
  {
   "cell_type": "code",
   "execution_count": 37,
   "id": "b9791905-c577-4abe-a75f-6aad83b32f41",
   "metadata": {},
   "outputs": [],
   "source": [
    "feature3 = feature2 + ['bedrooms_squared', 'log_sqft_living', 'lat_plus_long']"
   ]
  },
  {
   "cell_type": "code",
   "execution_count": 38,
   "id": "eb954687-c0e6-49af-b107-a2a9b5a2f0e4",
   "metadata": {},
   "outputs": [],
   "source": [
    "X3 = train_data[feature3]"
   ]
  },
  {
   "cell_type": "code",
   "execution_count": 39,
   "id": "9b8a622f-6f7e-4c8c-9e66-b7fe644ae5e2",
   "metadata": {},
   "outputs": [
    {
     "name": "stdout",
     "output_type": "stream",
     "text": [
      "linear model3 coeff (w): [ 5.37808087e+02  2.78048472e+03  1.01363772e+05  5.30798411e+05\n",
      " -4.09655443e+05 -1.81822573e+04  7.24579880e+02 -5.71030023e+05\n",
      "  1.21142968e+05]\n",
      "linear model3 intercept (b): -62628451.678\n",
      "R-squared score: 0.619\n"
     ]
    }
   ],
   "source": [
    "linreg3 = LinearRegression().fit(X3, y)\n",
    "print('linear model3 coeff (w): {}'\n",
    "     .format(linreg3.coef_))\n",
    "print('linear model3 intercept (b): {:.3f}'\n",
    "     .format(linreg3.intercept_))\n",
    "print('R-squared score: {:.3f}'\n",
    "     .format(linreg3.score(X3, y)))"
   ]
  },
  {
   "cell_type": "markdown",
   "id": "1e5cadfd-852b-4890-ab46-00c7d199c905",
   "metadata": {},
   "source": [
    "What is the sign (positive or negative) for the coefficient/weight for ‘bathrooms’ in Model 1?\n",
    "- positive (1.47770422e+04)"
   ]
  },
  {
   "cell_type": "markdown",
   "id": "a40f1b31-abec-4904-b5e1-6341df93556d",
   "metadata": {},
   "source": [
    "What is the sign (positive or negative) for the coefficient/weight for ‘bathrooms’ in Model 2?\n",
    "- negative (-7.01815223e+04)"
   ]
  },
  {
   "cell_type": "markdown",
   "id": "effe1929-5b83-4c92-ba84-fce0a89464eb",
   "metadata": {},
   "source": [
    "Is the sign for the coefficient the same in both models? Think about why this might be the case.\n",
    "\n",
    "- The signs are different between Model 1 and Model 2 due to the addition of ['bed_bath_rooms'] in Model 2. The added feature causes multicollinearity as it correlates highly to the independent bedroom and bathroom features already present in the model leading to potential overfitting. "
   ]
  },
  {
   "cell_type": "markdown",
   "id": "8131bb82-255c-49db-b1b0-a21bceac190f",
   "metadata": {},
   "source": [
    "#### Question 4: Now using your three estimated models compute the RSS (Residual Sum of Squares) on the Training data. Which model (1, 2 or 3) had the lowest RSS on TRAINING data?\n",
    "- Model 3 has the lowest RSS on training data."
   ]
  },
  {
   "cell_type": "code",
   "execution_count": 44,
   "id": "b8878dca-a179-4c2b-b03f-515033b506b0",
   "metadata": {},
   "outputs": [
    {
     "name": "stdout",
     "output_type": "stream",
     "text": [
      "Model 1 Residual Sum of Squares: 979843599527789.2\n"
     ]
    }
   ],
   "source": [
    "y_pred1 = linreg1.predict(X1)\n",
    "residuals1 = y - y_pred1\n",
    "rss1 = np.sum(residuals1**2)\n",
    "print(\"Model 1 Residual Sum of Squares:\", rss1)"
   ]
  },
  {
   "cell_type": "code",
   "execution_count": 45,
   "id": "2def7403-8d0f-46e8-a47a-cf1a9a805668",
   "metadata": {},
   "outputs": [
    {
     "name": "stdout",
     "output_type": "stream",
     "text": [
      "Model 2 Residual Sum of Squares: 970799203211191.2\n"
     ]
    }
   ],
   "source": [
    "y_pred2 = linreg2.predict(X2)\n",
    "residuals2 = y - y_pred2\n",
    "rss2 = np.sum(residuals2**2)\n",
    "print(\"Model 2 Residual Sum of Squares:\", rss2)"
   ]
  },
  {
   "cell_type": "code",
   "execution_count": 46,
   "id": "31d54ef6-a384-4d8c-92a0-d0623769fa3e",
   "metadata": {},
   "outputs": [
    {
     "name": "stdout",
     "output_type": "stream",
     "text": [
      "Model 3 Residual Sum of Squares: 913653648613736.9\n"
     ]
    }
   ],
   "source": [
    "y_pred3 = linreg3.predict(X3)\n",
    "residuals3 = y - y_pred3\n",
    "rss3 = np.sum(residuals3**2)\n",
    "print(\"Model 3 Residual Sum of Squares:\", rss3)"
   ]
  },
  {
   "cell_type": "markdown",
   "id": "a1eddd8c-e7b6-48b4-bf31-1972e7e56314",
   "metadata": {},
   "source": [
    "#### Question 5: Now using your three estimated models compute the RSS on the Testing data. Which model (1, 2, or 3) had the lowest RSS on TESTING data?\n",
    "- Model 3 has the lowest RSS on testing data as well. "
   ]
  },
  {
   "cell_type": "code",
   "execution_count": 48,
   "id": "a943bbff-0805-43ad-988b-8b0f42e5a863",
   "metadata": {},
   "outputs": [],
   "source": [
    "y2 = test_data['price']"
   ]
  },
  {
   "cell_type": "markdown",
   "id": "b6688f70-7af7-4220-913e-0b866ff1dfb8",
   "metadata": {},
   "source": [
    "#### Model 1 "
   ]
  },
  {
   "cell_type": "code",
   "execution_count": 50,
   "id": "1b2f8924-6e62-4e29-b343-d5628bf2ddb0",
   "metadata": {},
   "outputs": [],
   "source": [
    "X4 = test_data[feature1]"
   ]
  },
  {
   "cell_type": "code",
   "execution_count": 51,
   "id": "77e54b02-4360-4d59-a575-fdb3c65a8d60",
   "metadata": {},
   "outputs": [
    {
     "name": "stdout",
     "output_type": "stream",
     "text": [
      "Model 1 (Test) Residual Sum of Squares: 213487129853768.56\n"
     ]
    }
   ],
   "source": [
    "y_pred4 = linreg1.predict(X4)\n",
    "residuals4 = y2 - y_pred4\n",
    "rss4 = np.sum(residuals4**2)\n",
    "print(\"Model 1 (Test) Residual Sum of Squares:\", rss4)"
   ]
  },
  {
   "cell_type": "markdown",
   "id": "41646d6a-c88f-4630-960f-bf3fd701388c",
   "metadata": {},
   "source": [
    "#### Model 2"
   ]
  },
  {
   "cell_type": "code",
   "execution_count": 53,
   "id": "9e2fd756-f11f-4469-96ef-f4cf20b92b8f",
   "metadata": {},
   "outputs": [],
   "source": [
    "X5 = test_data[feature2]"
   ]
  },
  {
   "cell_type": "code",
   "execution_count": 54,
   "id": "fe5b89a7-4580-4757-a94a-4047742e8ba8",
   "metadata": {},
   "outputs": [
    {
     "name": "stdout",
     "output_type": "stream",
     "text": [
      "Model 2 (Test) Residual Sum of Squares: 210778545075244.62\n"
     ]
    }
   ],
   "source": [
    "y_pred5 = linreg2.predict(X5)\n",
    "residuals5 = y2 - y_pred5\n",
    "rss5 = np.sum(residuals5**2)\n",
    "print(\"Model 2 (Test) Residual Sum of Squares:\", rss5)"
   ]
  },
  {
   "cell_type": "markdown",
   "id": "4694c3c2-c94b-4467-8a4d-88a47860051f",
   "metadata": {},
   "source": [
    "#### Model 3"
   ]
  },
  {
   "cell_type": "code",
   "execution_count": 56,
   "id": "bd8c7c29-832b-4d7b-b1c5-fd8417101e4c",
   "metadata": {},
   "outputs": [],
   "source": [
    "X6 = test_data[feature3]"
   ]
  },
  {
   "cell_type": "code",
   "execution_count": 57,
   "id": "e6c379bf-445d-48fd-87b8-d3f97ab215ca",
   "metadata": {},
   "outputs": [
    {
     "name": "stdout",
     "output_type": "stream",
     "text": [
      "Model 3 (Test) Residual Sum of Squares: 203972055451345.88\n"
     ]
    }
   ],
   "source": [
    "y_pred6 = linreg3.predict(X6)\n",
    "residuals6 = y2 - y_pred6\n",
    "rss6 = np.sum(residuals6**2)\n",
    "print(\"Model 3 (Test) Residual Sum of Squares:\", rss6)"
   ]
  },
  {
   "cell_type": "markdown",
   "id": "36d4239e-68b6-4d69-9173-2b5273201d50",
   "metadata": {},
   "source": [
    "#### Question 6: Train-Validate-Test \n",
    "- Split the original data into train-validate set (90%) and test set (10%) using random state = 0.\n",
    "- Use GridSearchCV and 5-fold cross validation to compare the performance of the following polynomial regression models on the train- validation set.\n",
    "- Build the following polynomial regression models to predict house prices using just ‘sqft_living’\n",
    "- Polynomial degree in [1, 2, 3, 4, 5, 6, 7, 8, 9, 10, 11, 12, 13, 14, 15] \n",
    "\n",
    "Which model is the best? Report best model’s performance on the test set.\n",
    "- Model 6 had the best performance on test set. "
   ]
  },
  {
   "cell_type": "code",
   "execution_count": 59,
   "id": "9820c986-6520-42a4-873b-02caa23bc724",
   "metadata": {},
   "outputs": [],
   "source": [
    "train_data2, test_data2 = train_test_split(df, test_size=0.1, random_state=0)"
   ]
  },
  {
   "cell_type": "code",
   "execution_count": 60,
   "id": "8a361222-52a9-4ad6-bf95-c399f8197250",
   "metadata": {},
   "outputs": [],
   "source": [
    "X7 = train_data2[[\"sqft_living\"]]"
   ]
  },
  {
   "cell_type": "code",
   "execution_count": 61,
   "id": "4ed35763-3df3-4d83-913c-4bc23a159170",
   "metadata": {},
   "outputs": [],
   "source": [
    "y3 = train_data2['price']"
   ]
  },
  {
   "cell_type": "code",
   "execution_count": 62,
   "id": "565cd9d5-ea9d-4b2f-b4e5-d7301c0e135d",
   "metadata": {},
   "outputs": [],
   "source": [
    "X7_train, X7_test, y3_train, y3_test = train_test_split(X7, y3, test_size=0.1, random_state=0)"
   ]
  },
  {
   "cell_type": "code",
   "execution_count": 63,
   "id": "2c3ee576-0789-4461-ab61-09135b71ad45",
   "metadata": {},
   "outputs": [
    {
     "data": {
      "text/html": [
       "<style>#sk-container-id-1 {\n",
       "  /* Definition of color scheme common for light and dark mode */\n",
       "  --sklearn-color-text: black;\n",
       "  --sklearn-color-line: gray;\n",
       "  /* Definition of color scheme for unfitted estimators */\n",
       "  --sklearn-color-unfitted-level-0: #fff5e6;\n",
       "  --sklearn-color-unfitted-level-1: #f6e4d2;\n",
       "  --sklearn-color-unfitted-level-2: #ffe0b3;\n",
       "  --sklearn-color-unfitted-level-3: chocolate;\n",
       "  /* Definition of color scheme for fitted estimators */\n",
       "  --sklearn-color-fitted-level-0: #f0f8ff;\n",
       "  --sklearn-color-fitted-level-1: #d4ebff;\n",
       "  --sklearn-color-fitted-level-2: #b3dbfd;\n",
       "  --sklearn-color-fitted-level-3: cornflowerblue;\n",
       "\n",
       "  /* Specific color for light theme */\n",
       "  --sklearn-color-text-on-default-background: var(--sg-text-color, var(--theme-code-foreground, var(--jp-content-font-color1, black)));\n",
       "  --sklearn-color-background: var(--sg-background-color, var(--theme-background, var(--jp-layout-color0, white)));\n",
       "  --sklearn-color-border-box: var(--sg-text-color, var(--theme-code-foreground, var(--jp-content-font-color1, black)));\n",
       "  --sklearn-color-icon: #696969;\n",
       "\n",
       "  @media (prefers-color-scheme: dark) {\n",
       "    /* Redefinition of color scheme for dark theme */\n",
       "    --sklearn-color-text-on-default-background: var(--sg-text-color, var(--theme-code-foreground, var(--jp-content-font-color1, white)));\n",
       "    --sklearn-color-background: var(--sg-background-color, var(--theme-background, var(--jp-layout-color0, #111)));\n",
       "    --sklearn-color-border-box: var(--sg-text-color, var(--theme-code-foreground, var(--jp-content-font-color1, white)));\n",
       "    --sklearn-color-icon: #878787;\n",
       "  }\n",
       "}\n",
       "\n",
       "#sk-container-id-1 {\n",
       "  color: var(--sklearn-color-text);\n",
       "}\n",
       "\n",
       "#sk-container-id-1 pre {\n",
       "  padding: 0;\n",
       "}\n",
       "\n",
       "#sk-container-id-1 input.sk-hidden--visually {\n",
       "  border: 0;\n",
       "  clip: rect(1px 1px 1px 1px);\n",
       "  clip: rect(1px, 1px, 1px, 1px);\n",
       "  height: 1px;\n",
       "  margin: -1px;\n",
       "  overflow: hidden;\n",
       "  padding: 0;\n",
       "  position: absolute;\n",
       "  width: 1px;\n",
       "}\n",
       "\n",
       "#sk-container-id-1 div.sk-dashed-wrapped {\n",
       "  border: 1px dashed var(--sklearn-color-line);\n",
       "  margin: 0 0.4em 0.5em 0.4em;\n",
       "  box-sizing: border-box;\n",
       "  padding-bottom: 0.4em;\n",
       "  background-color: var(--sklearn-color-background);\n",
       "}\n",
       "\n",
       "#sk-container-id-1 div.sk-container {\n",
       "  /* jupyter's `normalize.less` sets `[hidden] { display: none; }`\n",
       "     but bootstrap.min.css set `[hidden] { display: none !important; }`\n",
       "     so we also need the `!important` here to be able to override the\n",
       "     default hidden behavior on the sphinx rendered scikit-learn.org.\n",
       "     See: https://github.com/scikit-learn/scikit-learn/issues/21755 */\n",
       "  display: inline-block !important;\n",
       "  position: relative;\n",
       "}\n",
       "\n",
       "#sk-container-id-1 div.sk-text-repr-fallback {\n",
       "  display: none;\n",
       "}\n",
       "\n",
       "div.sk-parallel-item,\n",
       "div.sk-serial,\n",
       "div.sk-item {\n",
       "  /* draw centered vertical line to link estimators */\n",
       "  background-image: linear-gradient(var(--sklearn-color-text-on-default-background), var(--sklearn-color-text-on-default-background));\n",
       "  background-size: 2px 100%;\n",
       "  background-repeat: no-repeat;\n",
       "  background-position: center center;\n",
       "}\n",
       "\n",
       "/* Parallel-specific style estimator block */\n",
       "\n",
       "#sk-container-id-1 div.sk-parallel-item::after {\n",
       "  content: \"\";\n",
       "  width: 100%;\n",
       "  border-bottom: 2px solid var(--sklearn-color-text-on-default-background);\n",
       "  flex-grow: 1;\n",
       "}\n",
       "\n",
       "#sk-container-id-1 div.sk-parallel {\n",
       "  display: flex;\n",
       "  align-items: stretch;\n",
       "  justify-content: center;\n",
       "  background-color: var(--sklearn-color-background);\n",
       "  position: relative;\n",
       "}\n",
       "\n",
       "#sk-container-id-1 div.sk-parallel-item {\n",
       "  display: flex;\n",
       "  flex-direction: column;\n",
       "}\n",
       "\n",
       "#sk-container-id-1 div.sk-parallel-item:first-child::after {\n",
       "  align-self: flex-end;\n",
       "  width: 50%;\n",
       "}\n",
       "\n",
       "#sk-container-id-1 div.sk-parallel-item:last-child::after {\n",
       "  align-self: flex-start;\n",
       "  width: 50%;\n",
       "}\n",
       "\n",
       "#sk-container-id-1 div.sk-parallel-item:only-child::after {\n",
       "  width: 0;\n",
       "}\n",
       "\n",
       "/* Serial-specific style estimator block */\n",
       "\n",
       "#sk-container-id-1 div.sk-serial {\n",
       "  display: flex;\n",
       "  flex-direction: column;\n",
       "  align-items: center;\n",
       "  background-color: var(--sklearn-color-background);\n",
       "  padding-right: 1em;\n",
       "  padding-left: 1em;\n",
       "}\n",
       "\n",
       "\n",
       "/* Toggleable style: style used for estimator/Pipeline/ColumnTransformer box that is\n",
       "clickable and can be expanded/collapsed.\n",
       "- Pipeline and ColumnTransformer use this feature and define the default style\n",
       "- Estimators will overwrite some part of the style using the `sk-estimator` class\n",
       "*/\n",
       "\n",
       "/* Pipeline and ColumnTransformer style (default) */\n",
       "\n",
       "#sk-container-id-1 div.sk-toggleable {\n",
       "  /* Default theme specific background. It is overwritten whether we have a\n",
       "  specific estimator or a Pipeline/ColumnTransformer */\n",
       "  background-color: var(--sklearn-color-background);\n",
       "}\n",
       "\n",
       "/* Toggleable label */\n",
       "#sk-container-id-1 label.sk-toggleable__label {\n",
       "  cursor: pointer;\n",
       "  display: block;\n",
       "  width: 100%;\n",
       "  margin-bottom: 0;\n",
       "  padding: 0.5em;\n",
       "  box-sizing: border-box;\n",
       "  text-align: center;\n",
       "}\n",
       "\n",
       "#sk-container-id-1 label.sk-toggleable__label-arrow:before {\n",
       "  /* Arrow on the left of the label */\n",
       "  content: \"▸\";\n",
       "  float: left;\n",
       "  margin-right: 0.25em;\n",
       "  color: var(--sklearn-color-icon);\n",
       "}\n",
       "\n",
       "#sk-container-id-1 label.sk-toggleable__label-arrow:hover:before {\n",
       "  color: var(--sklearn-color-text);\n",
       "}\n",
       "\n",
       "/* Toggleable content - dropdown */\n",
       "\n",
       "#sk-container-id-1 div.sk-toggleable__content {\n",
       "  max-height: 0;\n",
       "  max-width: 0;\n",
       "  overflow: hidden;\n",
       "  text-align: left;\n",
       "  /* unfitted */\n",
       "  background-color: var(--sklearn-color-unfitted-level-0);\n",
       "}\n",
       "\n",
       "#sk-container-id-1 div.sk-toggleable__content.fitted {\n",
       "  /* fitted */\n",
       "  background-color: var(--sklearn-color-fitted-level-0);\n",
       "}\n",
       "\n",
       "#sk-container-id-1 div.sk-toggleable__content pre {\n",
       "  margin: 0.2em;\n",
       "  border-radius: 0.25em;\n",
       "  color: var(--sklearn-color-text);\n",
       "  /* unfitted */\n",
       "  background-color: var(--sklearn-color-unfitted-level-0);\n",
       "}\n",
       "\n",
       "#sk-container-id-1 div.sk-toggleable__content.fitted pre {\n",
       "  /* unfitted */\n",
       "  background-color: var(--sklearn-color-fitted-level-0);\n",
       "}\n",
       "\n",
       "#sk-container-id-1 input.sk-toggleable__control:checked~div.sk-toggleable__content {\n",
       "  /* Expand drop-down */\n",
       "  max-height: 200px;\n",
       "  max-width: 100%;\n",
       "  overflow: auto;\n",
       "}\n",
       "\n",
       "#sk-container-id-1 input.sk-toggleable__control:checked~label.sk-toggleable__label-arrow:before {\n",
       "  content: \"▾\";\n",
       "}\n",
       "\n",
       "/* Pipeline/ColumnTransformer-specific style */\n",
       "\n",
       "#sk-container-id-1 div.sk-label input.sk-toggleable__control:checked~label.sk-toggleable__label {\n",
       "  color: var(--sklearn-color-text);\n",
       "  background-color: var(--sklearn-color-unfitted-level-2);\n",
       "}\n",
       "\n",
       "#sk-container-id-1 div.sk-label.fitted input.sk-toggleable__control:checked~label.sk-toggleable__label {\n",
       "  background-color: var(--sklearn-color-fitted-level-2);\n",
       "}\n",
       "\n",
       "/* Estimator-specific style */\n",
       "\n",
       "/* Colorize estimator box */\n",
       "#sk-container-id-1 div.sk-estimator input.sk-toggleable__control:checked~label.sk-toggleable__label {\n",
       "  /* unfitted */\n",
       "  background-color: var(--sklearn-color-unfitted-level-2);\n",
       "}\n",
       "\n",
       "#sk-container-id-1 div.sk-estimator.fitted input.sk-toggleable__control:checked~label.sk-toggleable__label {\n",
       "  /* fitted */\n",
       "  background-color: var(--sklearn-color-fitted-level-2);\n",
       "}\n",
       "\n",
       "#sk-container-id-1 div.sk-label label.sk-toggleable__label,\n",
       "#sk-container-id-1 div.sk-label label {\n",
       "  /* The background is the default theme color */\n",
       "  color: var(--sklearn-color-text-on-default-background);\n",
       "}\n",
       "\n",
       "/* On hover, darken the color of the background */\n",
       "#sk-container-id-1 div.sk-label:hover label.sk-toggleable__label {\n",
       "  color: var(--sklearn-color-text);\n",
       "  background-color: var(--sklearn-color-unfitted-level-2);\n",
       "}\n",
       "\n",
       "/* Label box, darken color on hover, fitted */\n",
       "#sk-container-id-1 div.sk-label.fitted:hover label.sk-toggleable__label.fitted {\n",
       "  color: var(--sklearn-color-text);\n",
       "  background-color: var(--sklearn-color-fitted-level-2);\n",
       "}\n",
       "\n",
       "/* Estimator label */\n",
       "\n",
       "#sk-container-id-1 div.sk-label label {\n",
       "  font-family: monospace;\n",
       "  font-weight: bold;\n",
       "  display: inline-block;\n",
       "  line-height: 1.2em;\n",
       "}\n",
       "\n",
       "#sk-container-id-1 div.sk-label-container {\n",
       "  text-align: center;\n",
       "}\n",
       "\n",
       "/* Estimator-specific */\n",
       "#sk-container-id-1 div.sk-estimator {\n",
       "  font-family: monospace;\n",
       "  border: 1px dotted var(--sklearn-color-border-box);\n",
       "  border-radius: 0.25em;\n",
       "  box-sizing: border-box;\n",
       "  margin-bottom: 0.5em;\n",
       "  /* unfitted */\n",
       "  background-color: var(--sklearn-color-unfitted-level-0);\n",
       "}\n",
       "\n",
       "#sk-container-id-1 div.sk-estimator.fitted {\n",
       "  /* fitted */\n",
       "  background-color: var(--sklearn-color-fitted-level-0);\n",
       "}\n",
       "\n",
       "/* on hover */\n",
       "#sk-container-id-1 div.sk-estimator:hover {\n",
       "  /* unfitted */\n",
       "  background-color: var(--sklearn-color-unfitted-level-2);\n",
       "}\n",
       "\n",
       "#sk-container-id-1 div.sk-estimator.fitted:hover {\n",
       "  /* fitted */\n",
       "  background-color: var(--sklearn-color-fitted-level-2);\n",
       "}\n",
       "\n",
       "/* Specification for estimator info (e.g. \"i\" and \"?\") */\n",
       "\n",
       "/* Common style for \"i\" and \"?\" */\n",
       "\n",
       ".sk-estimator-doc-link,\n",
       "a:link.sk-estimator-doc-link,\n",
       "a:visited.sk-estimator-doc-link {\n",
       "  float: right;\n",
       "  font-size: smaller;\n",
       "  line-height: 1em;\n",
       "  font-family: monospace;\n",
       "  background-color: var(--sklearn-color-background);\n",
       "  border-radius: 1em;\n",
       "  height: 1em;\n",
       "  width: 1em;\n",
       "  text-decoration: none !important;\n",
       "  margin-left: 1ex;\n",
       "  /* unfitted */\n",
       "  border: var(--sklearn-color-unfitted-level-1) 1pt solid;\n",
       "  color: var(--sklearn-color-unfitted-level-1);\n",
       "}\n",
       "\n",
       ".sk-estimator-doc-link.fitted,\n",
       "a:link.sk-estimator-doc-link.fitted,\n",
       "a:visited.sk-estimator-doc-link.fitted {\n",
       "  /* fitted */\n",
       "  border: var(--sklearn-color-fitted-level-1) 1pt solid;\n",
       "  color: var(--sklearn-color-fitted-level-1);\n",
       "}\n",
       "\n",
       "/* On hover */\n",
       "div.sk-estimator:hover .sk-estimator-doc-link:hover,\n",
       ".sk-estimator-doc-link:hover,\n",
       "div.sk-label-container:hover .sk-estimator-doc-link:hover,\n",
       ".sk-estimator-doc-link:hover {\n",
       "  /* unfitted */\n",
       "  background-color: var(--sklearn-color-unfitted-level-3);\n",
       "  color: var(--sklearn-color-background);\n",
       "  text-decoration: none;\n",
       "}\n",
       "\n",
       "div.sk-estimator.fitted:hover .sk-estimator-doc-link.fitted:hover,\n",
       ".sk-estimator-doc-link.fitted:hover,\n",
       "div.sk-label-container:hover .sk-estimator-doc-link.fitted:hover,\n",
       ".sk-estimator-doc-link.fitted:hover {\n",
       "  /* fitted */\n",
       "  background-color: var(--sklearn-color-fitted-level-3);\n",
       "  color: var(--sklearn-color-background);\n",
       "  text-decoration: none;\n",
       "}\n",
       "\n",
       "/* Span, style for the box shown on hovering the info icon */\n",
       ".sk-estimator-doc-link span {\n",
       "  display: none;\n",
       "  z-index: 9999;\n",
       "  position: relative;\n",
       "  font-weight: normal;\n",
       "  right: .2ex;\n",
       "  padding: .5ex;\n",
       "  margin: .5ex;\n",
       "  width: min-content;\n",
       "  min-width: 20ex;\n",
       "  max-width: 50ex;\n",
       "  color: var(--sklearn-color-text);\n",
       "  box-shadow: 2pt 2pt 4pt #999;\n",
       "  /* unfitted */\n",
       "  background: var(--sklearn-color-unfitted-level-0);\n",
       "  border: .5pt solid var(--sklearn-color-unfitted-level-3);\n",
       "}\n",
       "\n",
       ".sk-estimator-doc-link.fitted span {\n",
       "  /* fitted */\n",
       "  background: var(--sklearn-color-fitted-level-0);\n",
       "  border: var(--sklearn-color-fitted-level-3);\n",
       "}\n",
       "\n",
       ".sk-estimator-doc-link:hover span {\n",
       "  display: block;\n",
       "}\n",
       "\n",
       "/* \"?\"-specific style due to the `<a>` HTML tag */\n",
       "\n",
       "#sk-container-id-1 a.estimator_doc_link {\n",
       "  float: right;\n",
       "  font-size: 1rem;\n",
       "  line-height: 1em;\n",
       "  font-family: monospace;\n",
       "  background-color: var(--sklearn-color-background);\n",
       "  border-radius: 1rem;\n",
       "  height: 1rem;\n",
       "  width: 1rem;\n",
       "  text-decoration: none;\n",
       "  /* unfitted */\n",
       "  color: var(--sklearn-color-unfitted-level-1);\n",
       "  border: var(--sklearn-color-unfitted-level-1) 1pt solid;\n",
       "}\n",
       "\n",
       "#sk-container-id-1 a.estimator_doc_link.fitted {\n",
       "  /* fitted */\n",
       "  border: var(--sklearn-color-fitted-level-1) 1pt solid;\n",
       "  color: var(--sklearn-color-fitted-level-1);\n",
       "}\n",
       "\n",
       "/* On hover */\n",
       "#sk-container-id-1 a.estimator_doc_link:hover {\n",
       "  /* unfitted */\n",
       "  background-color: var(--sklearn-color-unfitted-level-3);\n",
       "  color: var(--sklearn-color-background);\n",
       "  text-decoration: none;\n",
       "}\n",
       "\n",
       "#sk-container-id-1 a.estimator_doc_link.fitted:hover {\n",
       "  /* fitted */\n",
       "  background-color: var(--sklearn-color-fitted-level-3);\n",
       "}\n",
       "</style><div id=\"sk-container-id-1\" class=\"sk-top-container\"><div class=\"sk-text-repr-fallback\"><pre>GridSearchCV(cv=5,\n",
       "             estimator=Pipeline(steps=[(&#x27;polynomialfeatures&#x27;,\n",
       "                                        PolynomialFeatures()),\n",
       "                                       (&#x27;standardscaler&#x27;, StandardScaler()),\n",
       "                                       (&#x27;linearregression&#x27;,\n",
       "                                        LinearRegression())]),\n",
       "             n_jobs=-1, param_grid={&#x27;polynomialfeatures__degree&#x27;: range(1, 16)},\n",
       "             return_train_score=True)</pre><b>In a Jupyter environment, please rerun this cell to show the HTML representation or trust the notebook. <br />On GitHub, the HTML representation is unable to render, please try loading this page with nbviewer.org.</b></div><div class=\"sk-container\" hidden><div class=\"sk-item sk-dashed-wrapped\"><div class=\"sk-label-container\"><div class=\"sk-label fitted sk-toggleable\"><input class=\"sk-toggleable__control sk-hidden--visually\" id=\"sk-estimator-id-1\" type=\"checkbox\" ><label for=\"sk-estimator-id-1\" class=\"sk-toggleable__label fitted sk-toggleable__label-arrow fitted\">&nbsp;&nbsp;GridSearchCV<a class=\"sk-estimator-doc-link fitted\" rel=\"noreferrer\" target=\"_blank\" href=\"https://scikit-learn.org/1.4/modules/generated/sklearn.model_selection.GridSearchCV.html\">?<span>Documentation for GridSearchCV</span></a><span class=\"sk-estimator-doc-link fitted\">i<span>Fitted</span></span></label><div class=\"sk-toggleable__content fitted\"><pre>GridSearchCV(cv=5,\n",
       "             estimator=Pipeline(steps=[(&#x27;polynomialfeatures&#x27;,\n",
       "                                        PolynomialFeatures()),\n",
       "                                       (&#x27;standardscaler&#x27;, StandardScaler()),\n",
       "                                       (&#x27;linearregression&#x27;,\n",
       "                                        LinearRegression())]),\n",
       "             n_jobs=-1, param_grid={&#x27;polynomialfeatures__degree&#x27;: range(1, 16)},\n",
       "             return_train_score=True)</pre></div> </div></div><div class=\"sk-parallel\"><div class=\"sk-parallel-item\"><div class=\"sk-item\"><div class=\"sk-label-container\"><div class=\"sk-label fitted sk-toggleable\"><input class=\"sk-toggleable__control sk-hidden--visually\" id=\"sk-estimator-id-2\" type=\"checkbox\" ><label for=\"sk-estimator-id-2\" class=\"sk-toggleable__label fitted sk-toggleable__label-arrow fitted\">estimator: Pipeline</label><div class=\"sk-toggleable__content fitted\"><pre>Pipeline(steps=[(&#x27;polynomialfeatures&#x27;, PolynomialFeatures()),\n",
       "                (&#x27;standardscaler&#x27;, StandardScaler()),\n",
       "                (&#x27;linearregression&#x27;, LinearRegression())])</pre></div> </div></div><div class=\"sk-serial\"><div class=\"sk-item\"><div class=\"sk-serial\"><div class=\"sk-item\"><div class=\"sk-estimator fitted sk-toggleable\"><input class=\"sk-toggleable__control sk-hidden--visually\" id=\"sk-estimator-id-3\" type=\"checkbox\" ><label for=\"sk-estimator-id-3\" class=\"sk-toggleable__label fitted sk-toggleable__label-arrow fitted\">&nbsp;PolynomialFeatures<a class=\"sk-estimator-doc-link fitted\" rel=\"noreferrer\" target=\"_blank\" href=\"https://scikit-learn.org/1.4/modules/generated/sklearn.preprocessing.PolynomialFeatures.html\">?<span>Documentation for PolynomialFeatures</span></a></label><div class=\"sk-toggleable__content fitted\"><pre>PolynomialFeatures()</pre></div> </div></div><div class=\"sk-item\"><div class=\"sk-estimator fitted sk-toggleable\"><input class=\"sk-toggleable__control sk-hidden--visually\" id=\"sk-estimator-id-4\" type=\"checkbox\" ><label for=\"sk-estimator-id-4\" class=\"sk-toggleable__label fitted sk-toggleable__label-arrow fitted\">&nbsp;StandardScaler<a class=\"sk-estimator-doc-link fitted\" rel=\"noreferrer\" target=\"_blank\" href=\"https://scikit-learn.org/1.4/modules/generated/sklearn.preprocessing.StandardScaler.html\">?<span>Documentation for StandardScaler</span></a></label><div class=\"sk-toggleable__content fitted\"><pre>StandardScaler()</pre></div> </div></div><div class=\"sk-item\"><div class=\"sk-estimator fitted sk-toggleable\"><input class=\"sk-toggleable__control sk-hidden--visually\" id=\"sk-estimator-id-5\" type=\"checkbox\" ><label for=\"sk-estimator-id-5\" class=\"sk-toggleable__label fitted sk-toggleable__label-arrow fitted\">&nbsp;LinearRegression<a class=\"sk-estimator-doc-link fitted\" rel=\"noreferrer\" target=\"_blank\" href=\"https://scikit-learn.org/1.4/modules/generated/sklearn.linear_model.LinearRegression.html\">?<span>Documentation for LinearRegression</span></a></label><div class=\"sk-toggleable__content fitted\"><pre>LinearRegression()</pre></div> </div></div></div></div></div></div></div></div></div></div></div>"
      ],
      "text/plain": [
       "GridSearchCV(cv=5,\n",
       "             estimator=Pipeline(steps=[('polynomialfeatures',\n",
       "                                        PolynomialFeatures()),\n",
       "                                       ('standardscaler', StandardScaler()),\n",
       "                                       ('linearregression',\n",
       "                                        LinearRegression())]),\n",
       "             n_jobs=-1, param_grid={'polynomialfeatures__degree': range(1, 16)},\n",
       "             return_train_score=True)"
      ]
     },
     "execution_count": 63,
     "metadata": {},
     "output_type": "execute_result"
    }
   ],
   "source": [
    "from sklearn.model_selection import GridSearchCV\n",
    "from sklearn.pipeline import make_pipeline\n",
    "from sklearn.preprocessing import StandardScaler\n",
    "from sklearn.preprocessing import PolynomialFeatures\n",
    "\n",
    "pipe = make_pipeline(PolynomialFeatures(), StandardScaler(),LinearRegression())\n",
    "param_grid = {'polynomialfeatures__degree': range(1,16)} \n",
    "\n",
    "grid = GridSearchCV(pipe, param_grid=param_grid, cv=5, n_jobs=-1,return_train_score=True)\n",
    "grid.fit(X7_train, y3_train) "
   ]
  },
  {
   "cell_type": "code",
   "execution_count": 64,
   "id": "0ac2d3cd-b3f9-43fc-a90b-2492a4e3f452",
   "metadata": {},
   "outputs": [
    {
     "data": {
      "text/html": [
       "<div>\n",
       "<style scoped>\n",
       "    .dataframe tbody tr th:only-of-type {\n",
       "        vertical-align: middle;\n",
       "    }\n",
       "\n",
       "    .dataframe tbody tr th {\n",
       "        vertical-align: top;\n",
       "    }\n",
       "\n",
       "    .dataframe thead th {\n",
       "        text-align: right;\n",
       "    }\n",
       "</style>\n",
       "<table border=\"1\" class=\"dataframe\">\n",
       "  <thead>\n",
       "    <tr style=\"text-align: right;\">\n",
       "      <th></th>\n",
       "      <th>mean_fit_time</th>\n",
       "      <th>std_fit_time</th>\n",
       "      <th>mean_score_time</th>\n",
       "      <th>std_score_time</th>\n",
       "      <th>param_polynomialfeatures__degree</th>\n",
       "      <th>params</th>\n",
       "      <th>split0_test_score</th>\n",
       "      <th>split1_test_score</th>\n",
       "      <th>split2_test_score</th>\n",
       "      <th>split3_test_score</th>\n",
       "      <th>...</th>\n",
       "      <th>mean_test_score</th>\n",
       "      <th>std_test_score</th>\n",
       "      <th>rank_test_score</th>\n",
       "      <th>split0_train_score</th>\n",
       "      <th>split1_train_score</th>\n",
       "      <th>split2_train_score</th>\n",
       "      <th>split3_train_score</th>\n",
       "      <th>split4_train_score</th>\n",
       "      <th>mean_train_score</th>\n",
       "      <th>std_train_score</th>\n",
       "    </tr>\n",
       "  </thead>\n",
       "  <tbody>\n",
       "    <tr>\n",
       "      <th>0</th>\n",
       "      <td>0.013121</td>\n",
       "      <td>0.000545</td>\n",
       "      <td>0.002790</td>\n",
       "      <td>0.000054</td>\n",
       "      <td>1</td>\n",
       "      <td>{'polynomialfeatures__degree': 1}</td>\n",
       "      <td>0.485486</td>\n",
       "      <td>5.080663e-01</td>\n",
       "      <td>0.513275</td>\n",
       "      <td>0.465037</td>\n",
       "      <td>...</td>\n",
       "      <td>4.894502e-01</td>\n",
       "      <td>1.856729e-02</td>\n",
       "      <td>6</td>\n",
       "      <td>0.493952</td>\n",
       "      <td>0.488075</td>\n",
       "      <td>0.485670</td>\n",
       "      <td>0.497372</td>\n",
       "      <td>0.496445</td>\n",
       "      <td>0.492303</td>\n",
       "      <td>0.004636</td>\n",
       "    </tr>\n",
       "    <tr>\n",
       "      <th>1</th>\n",
       "      <td>0.012996</td>\n",
       "      <td>0.001104</td>\n",
       "      <td>0.003027</td>\n",
       "      <td>0.000305</td>\n",
       "      <td>2</td>\n",
       "      <td>{'polynomialfeatures__degree': 2}</td>\n",
       "      <td>0.522916</td>\n",
       "      <td>5.068109e-01</td>\n",
       "      <td>0.577594</td>\n",
       "      <td>0.492049</td>\n",
       "      <td>...</td>\n",
       "      <td>5.195595e-01</td>\n",
       "      <td>3.080627e-02</td>\n",
       "      <td>2</td>\n",
       "      <td>0.528333</td>\n",
       "      <td>0.530235</td>\n",
       "      <td>0.511252</td>\n",
       "      <td>0.534143</td>\n",
       "      <td>0.534394</td>\n",
       "      <td>0.527671</td>\n",
       "      <td>0.008529</td>\n",
       "    </tr>\n",
       "    <tr>\n",
       "      <th>2</th>\n",
       "      <td>0.014587</td>\n",
       "      <td>0.000564</td>\n",
       "      <td>0.003900</td>\n",
       "      <td>0.001295</td>\n",
       "      <td>3</td>\n",
       "      <td>{'polynomialfeatures__degree': 3}</td>\n",
       "      <td>0.525314</td>\n",
       "      <td>5.184372e-01</td>\n",
       "      <td>0.566592</td>\n",
       "      <td>0.478117</td>\n",
       "      <td>...</td>\n",
       "      <td>5.182948e-01</td>\n",
       "      <td>2.908513e-02</td>\n",
       "      <td>3</td>\n",
       "      <td>0.538128</td>\n",
       "      <td>0.530322</td>\n",
       "      <td>0.524303</td>\n",
       "      <td>0.546392</td>\n",
       "      <td>0.543582</td>\n",
       "      <td>0.536545</td>\n",
       "      <td>0.008217</td>\n",
       "    </tr>\n",
       "    <tr>\n",
       "      <th>3</th>\n",
       "      <td>0.015504</td>\n",
       "      <td>0.001880</td>\n",
       "      <td>0.003569</td>\n",
       "      <td>0.000717</td>\n",
       "      <td>4</td>\n",
       "      <td>{'polynomialfeatures__degree': 4}</td>\n",
       "      <td>0.522937</td>\n",
       "      <td>4.259198e-01</td>\n",
       "      <td>0.568702</td>\n",
       "      <td>0.477608</td>\n",
       "      <td>...</td>\n",
       "      <td>4.983180e-01</td>\n",
       "      <td>4.740031e-02</td>\n",
       "      <td>5</td>\n",
       "      <td>0.540995</td>\n",
       "      <td>0.532084</td>\n",
       "      <td>0.526516</td>\n",
       "      <td>0.548846</td>\n",
       "      <td>0.547323</td>\n",
       "      <td>0.539153</td>\n",
       "      <td>0.008646</td>\n",
       "    </tr>\n",
       "    <tr>\n",
       "      <th>4</th>\n",
       "      <td>0.013163</td>\n",
       "      <td>0.000919</td>\n",
       "      <td>0.003243</td>\n",
       "      <td>0.000381</td>\n",
       "      <td>5</td>\n",
       "      <td>{'polynomialfeatures__degree': 5}</td>\n",
       "      <td>0.517946</td>\n",
       "      <td>2.762395e-01</td>\n",
       "      <td>0.578762</td>\n",
       "      <td>0.484397</td>\n",
       "      <td>...</td>\n",
       "      <td>4.700789e-01</td>\n",
       "      <td>1.023813e-01</td>\n",
       "      <td>7</td>\n",
       "      <td>0.546126</td>\n",
       "      <td>0.532825</td>\n",
       "      <td>0.528448</td>\n",
       "      <td>0.551381</td>\n",
       "      <td>0.552313</td>\n",
       "      <td>0.542219</td>\n",
       "      <td>0.009788</td>\n",
       "    </tr>\n",
       "    <tr>\n",
       "      <th>5</th>\n",
       "      <td>0.010494</td>\n",
       "      <td>0.000996</td>\n",
       "      <td>0.002897</td>\n",
       "      <td>0.000568</td>\n",
       "      <td>6</td>\n",
       "      <td>{'polynomialfeatures__degree': 6}</td>\n",
       "      <td>0.525893</td>\n",
       "      <td>5.774185e-01</td>\n",
       "      <td>0.580694</td>\n",
       "      <td>0.486102</td>\n",
       "      <td>...</td>\n",
       "      <td>5.348993e-01</td>\n",
       "      <td>3.820519e-02</td>\n",
       "      <td>1</td>\n",
       "      <td>0.552671</td>\n",
       "      <td>0.535212</td>\n",
       "      <td>0.534816</td>\n",
       "      <td>0.558744</td>\n",
       "      <td>0.557782</td>\n",
       "      <td>0.547845</td>\n",
       "      <td>0.010679</td>\n",
       "    </tr>\n",
       "    <tr>\n",
       "      <th>6</th>\n",
       "      <td>0.011090</td>\n",
       "      <td>0.000859</td>\n",
       "      <td>0.002862</td>\n",
       "      <td>0.000347</td>\n",
       "      <td>7</td>\n",
       "      <td>{'polynomialfeatures__degree': 7}</td>\n",
       "      <td>0.523283</td>\n",
       "      <td>-8.005209e-01</td>\n",
       "      <td>0.543602</td>\n",
       "      <td>0.484986</td>\n",
       "      <td>...</td>\n",
       "      <td>2.511010e-01</td>\n",
       "      <td>5.261724e-01</td>\n",
       "      <td>8</td>\n",
       "      <td>0.553105</td>\n",
       "      <td>0.535883</td>\n",
       "      <td>0.535155</td>\n",
       "      <td>0.558787</td>\n",
       "      <td>0.557913</td>\n",
       "      <td>0.548168</td>\n",
       "      <td>0.010511</td>\n",
       "    </tr>\n",
       "    <tr>\n",
       "      <th>7</th>\n",
       "      <td>0.013568</td>\n",
       "      <td>0.000748</td>\n",
       "      <td>0.002965</td>\n",
       "      <td>0.000308</td>\n",
       "      <td>8</td>\n",
       "      <td>{'polynomialfeatures__degree': 8}</td>\n",
       "      <td>0.522562</td>\n",
       "      <td>4.862671e-01</td>\n",
       "      <td>0.579836</td>\n",
       "      <td>0.482926</td>\n",
       "      <td>...</td>\n",
       "      <td>5.155847e-01</td>\n",
       "      <td>3.518104e-02</td>\n",
       "      <td>4</td>\n",
       "      <td>0.554091</td>\n",
       "      <td>0.535921</td>\n",
       "      <td>0.535197</td>\n",
       "      <td>0.559959</td>\n",
       "      <td>0.558165</td>\n",
       "      <td>0.548667</td>\n",
       "      <td>0.010872</td>\n",
       "    </tr>\n",
       "    <tr>\n",
       "      <th>8</th>\n",
       "      <td>0.017404</td>\n",
       "      <td>0.003623</td>\n",
       "      <td>0.003431</td>\n",
       "      <td>0.000191</td>\n",
       "      <td>9</td>\n",
       "      <td>{'polynomialfeatures__degree': 9}</td>\n",
       "      <td>0.522647</td>\n",
       "      <td>-6.658094e+01</td>\n",
       "      <td>0.586661</td>\n",
       "      <td>0.480996</td>\n",
       "      <td>...</td>\n",
       "      <td>-1.289684e+01</td>\n",
       "      <td>2.684208e+01</td>\n",
       "      <td>9</td>\n",
       "      <td>0.554101</td>\n",
       "      <td>0.536227</td>\n",
       "      <td>0.535198</td>\n",
       "      <td>0.560226</td>\n",
       "      <td>0.558173</td>\n",
       "      <td>0.548785</td>\n",
       "      <td>0.010859</td>\n",
       "    </tr>\n",
       "    <tr>\n",
       "      <th>9</th>\n",
       "      <td>0.015612</td>\n",
       "      <td>0.001880</td>\n",
       "      <td>0.003172</td>\n",
       "      <td>0.000407</td>\n",
       "      <td>10</td>\n",
       "      <td>{'polynomialfeatures__degree': 10}</td>\n",
       "      <td>0.522733</td>\n",
       "      <td>-1.664453e+02</td>\n",
       "      <td>-0.817473</td>\n",
       "      <td>0.480676</td>\n",
       "      <td>...</td>\n",
       "      <td>-3.315061e+01</td>\n",
       "      <td>6.664931e+01</td>\n",
       "      <td>10</td>\n",
       "      <td>0.554117</td>\n",
       "      <td>0.536237</td>\n",
       "      <td>0.535325</td>\n",
       "      <td>0.560326</td>\n",
       "      <td>0.558176</td>\n",
       "      <td>0.548836</td>\n",
       "      <td>0.010848</td>\n",
       "    </tr>\n",
       "    <tr>\n",
       "      <th>10</th>\n",
       "      <td>0.015590</td>\n",
       "      <td>0.000419</td>\n",
       "      <td>0.003768</td>\n",
       "      <td>0.000616</td>\n",
       "      <td>11</td>\n",
       "      <td>{'polynomialfeatures__degree': 11}</td>\n",
       "      <td>0.521939</td>\n",
       "      <td>-1.657665e+03</td>\n",
       "      <td>-11.473863</td>\n",
       "      <td>0.480832</td>\n",
       "      <td>...</td>\n",
       "      <td>-3.335260e+02</td>\n",
       "      <td>6.620858e+02</td>\n",
       "      <td>11</td>\n",
       "      <td>0.554348</td>\n",
       "      <td>0.536267</td>\n",
       "      <td>0.535402</td>\n",
       "      <td>0.560329</td>\n",
       "      <td>0.558290</td>\n",
       "      <td>0.548927</td>\n",
       "      <td>0.010865</td>\n",
       "    </tr>\n",
       "    <tr>\n",
       "      <th>11</th>\n",
       "      <td>0.018993</td>\n",
       "      <td>0.001627</td>\n",
       "      <td>0.003922</td>\n",
       "      <td>0.000460</td>\n",
       "      <td>12</td>\n",
       "      <td>{'polynomialfeatures__degree': 12}</td>\n",
       "      <td>0.522396</td>\n",
       "      <td>-3.859123e+05</td>\n",
       "      <td>-3.989035</td>\n",
       "      <td>0.475305</td>\n",
       "      <td>...</td>\n",
       "      <td>-7.718295e+04</td>\n",
       "      <td>1.543647e+05</td>\n",
       "      <td>13</td>\n",
       "      <td>0.554670</td>\n",
       "      <td>0.537287</td>\n",
       "      <td>0.535406</td>\n",
       "      <td>0.561072</td>\n",
       "      <td>0.558610</td>\n",
       "      <td>0.549409</td>\n",
       "      <td>0.010875</td>\n",
       "    </tr>\n",
       "    <tr>\n",
       "      <th>12</th>\n",
       "      <td>0.019013</td>\n",
       "      <td>0.001840</td>\n",
       "      <td>0.004032</td>\n",
       "      <td>0.000189</td>\n",
       "      <td>13</td>\n",
       "      <td>{'polynomialfeatures__degree': 13}</td>\n",
       "      <td>0.518524</td>\n",
       "      <td>-3.955814e+06</td>\n",
       "      <td>-1282.833252</td>\n",
       "      <td>0.473924</td>\n",
       "      <td>...</td>\n",
       "      <td>-7.914190e+05</td>\n",
       "      <td>1.582197e+06</td>\n",
       "      <td>14</td>\n",
       "      <td>0.555169</td>\n",
       "      <td>0.537748</td>\n",
       "      <td>0.535862</td>\n",
       "      <td>0.561109</td>\n",
       "      <td>0.558628</td>\n",
       "      <td>0.549703</td>\n",
       "      <td>0.010716</td>\n",
       "    </tr>\n",
       "    <tr>\n",
       "      <th>13</th>\n",
       "      <td>0.022001</td>\n",
       "      <td>0.001038</td>\n",
       "      <td>0.004239</td>\n",
       "      <td>0.000063</td>\n",
       "      <td>14</td>\n",
       "      <td>{'polynomialfeatures__degree': 14}</td>\n",
       "      <td>0.504742</td>\n",
       "      <td>-1.338076e+05</td>\n",
       "      <td>-16462.974856</td>\n",
       "      <td>0.474206</td>\n",
       "      <td>...</td>\n",
       "      <td>-3.005382e+04</td>\n",
       "      <td>5.226728e+04</td>\n",
       "      <td>12</td>\n",
       "      <td>0.556168</td>\n",
       "      <td>0.537861</td>\n",
       "      <td>0.536425</td>\n",
       "      <td>0.561128</td>\n",
       "      <td>0.558653</td>\n",
       "      <td>0.550047</td>\n",
       "      <td>0.010662</td>\n",
       "    </tr>\n",
       "    <tr>\n",
       "      <th>14</th>\n",
       "      <td>0.022387</td>\n",
       "      <td>0.001165</td>\n",
       "      <td>0.003620</td>\n",
       "      <td>0.000785</td>\n",
       "      <td>15</td>\n",
       "      <td>{'polynomialfeatures__degree': 15}</td>\n",
       "      <td>0.507270</td>\n",
       "      <td>-1.044802e+07</td>\n",
       "      <td>-8491.205220</td>\n",
       "      <td>0.462712</td>\n",
       "      <td>...</td>\n",
       "      <td>-2.091303e+06</td>\n",
       "      <td>4.178362e+06</td>\n",
       "      <td>15</td>\n",
       "      <td>0.556184</td>\n",
       "      <td>0.537873</td>\n",
       "      <td>0.536438</td>\n",
       "      <td>0.562367</td>\n",
       "      <td>0.559118</td>\n",
       "      <td>0.550396</td>\n",
       "      <td>0.010996</td>\n",
       "    </tr>\n",
       "  </tbody>\n",
       "</table>\n",
       "<p>15 rows × 21 columns</p>\n",
       "</div>"
      ],
      "text/plain": [
       "    mean_fit_time  std_fit_time  mean_score_time  std_score_time  \\\n",
       "0        0.013121      0.000545         0.002790        0.000054   \n",
       "1        0.012996      0.001104         0.003027        0.000305   \n",
       "2        0.014587      0.000564         0.003900        0.001295   \n",
       "3        0.015504      0.001880         0.003569        0.000717   \n",
       "4        0.013163      0.000919         0.003243        0.000381   \n",
       "5        0.010494      0.000996         0.002897        0.000568   \n",
       "6        0.011090      0.000859         0.002862        0.000347   \n",
       "7        0.013568      0.000748         0.002965        0.000308   \n",
       "8        0.017404      0.003623         0.003431        0.000191   \n",
       "9        0.015612      0.001880         0.003172        0.000407   \n",
       "10       0.015590      0.000419         0.003768        0.000616   \n",
       "11       0.018993      0.001627         0.003922        0.000460   \n",
       "12       0.019013      0.001840         0.004032        0.000189   \n",
       "13       0.022001      0.001038         0.004239        0.000063   \n",
       "14       0.022387      0.001165         0.003620        0.000785   \n",
       "\n",
       "   param_polynomialfeatures__degree                              params  \\\n",
       "0                                 1   {'polynomialfeatures__degree': 1}   \n",
       "1                                 2   {'polynomialfeatures__degree': 2}   \n",
       "2                                 3   {'polynomialfeatures__degree': 3}   \n",
       "3                                 4   {'polynomialfeatures__degree': 4}   \n",
       "4                                 5   {'polynomialfeatures__degree': 5}   \n",
       "5                                 6   {'polynomialfeatures__degree': 6}   \n",
       "6                                 7   {'polynomialfeatures__degree': 7}   \n",
       "7                                 8   {'polynomialfeatures__degree': 8}   \n",
       "8                                 9   {'polynomialfeatures__degree': 9}   \n",
       "9                                10  {'polynomialfeatures__degree': 10}   \n",
       "10                               11  {'polynomialfeatures__degree': 11}   \n",
       "11                               12  {'polynomialfeatures__degree': 12}   \n",
       "12                               13  {'polynomialfeatures__degree': 13}   \n",
       "13                               14  {'polynomialfeatures__degree': 14}   \n",
       "14                               15  {'polynomialfeatures__degree': 15}   \n",
       "\n",
       "    split0_test_score  split1_test_score  split2_test_score  \\\n",
       "0            0.485486       5.080663e-01           0.513275   \n",
       "1            0.522916       5.068109e-01           0.577594   \n",
       "2            0.525314       5.184372e-01           0.566592   \n",
       "3            0.522937       4.259198e-01           0.568702   \n",
       "4            0.517946       2.762395e-01           0.578762   \n",
       "5            0.525893       5.774185e-01           0.580694   \n",
       "6            0.523283      -8.005209e-01           0.543602   \n",
       "7            0.522562       4.862671e-01           0.579836   \n",
       "8            0.522647      -6.658094e+01           0.586661   \n",
       "9            0.522733      -1.664453e+02          -0.817473   \n",
       "10           0.521939      -1.657665e+03         -11.473863   \n",
       "11           0.522396      -3.859123e+05          -3.989035   \n",
       "12           0.518524      -3.955814e+06       -1282.833252   \n",
       "13           0.504742      -1.338076e+05      -16462.974856   \n",
       "14           0.507270      -1.044802e+07       -8491.205220   \n",
       "\n",
       "    split3_test_score  ...  mean_test_score  std_test_score  rank_test_score  \\\n",
       "0            0.465037  ...     4.894502e-01    1.856729e-02                6   \n",
       "1            0.492049  ...     5.195595e-01    3.080627e-02                2   \n",
       "2            0.478117  ...     5.182948e-01    2.908513e-02                3   \n",
       "3            0.477608  ...     4.983180e-01    4.740031e-02                5   \n",
       "4            0.484397  ...     4.700789e-01    1.023813e-01                7   \n",
       "5            0.486102  ...     5.348993e-01    3.820519e-02                1   \n",
       "6            0.484986  ...     2.511010e-01    5.261724e-01                8   \n",
       "7            0.482926  ...     5.155847e-01    3.518104e-02                4   \n",
       "8            0.480996  ...    -1.289684e+01    2.684208e+01                9   \n",
       "9            0.480676  ...    -3.315061e+01    6.664931e+01               10   \n",
       "10           0.480832  ...    -3.335260e+02    6.620858e+02               11   \n",
       "11           0.475305  ...    -7.718295e+04    1.543647e+05               13   \n",
       "12           0.473924  ...    -7.914190e+05    1.582197e+06               14   \n",
       "13           0.474206  ...    -3.005382e+04    5.226728e+04               12   \n",
       "14           0.462712  ...    -2.091303e+06    4.178362e+06               15   \n",
       "\n",
       "    split0_train_score  split1_train_score  split2_train_score  \\\n",
       "0             0.493952            0.488075            0.485670   \n",
       "1             0.528333            0.530235            0.511252   \n",
       "2             0.538128            0.530322            0.524303   \n",
       "3             0.540995            0.532084            0.526516   \n",
       "4             0.546126            0.532825            0.528448   \n",
       "5             0.552671            0.535212            0.534816   \n",
       "6             0.553105            0.535883            0.535155   \n",
       "7             0.554091            0.535921            0.535197   \n",
       "8             0.554101            0.536227            0.535198   \n",
       "9             0.554117            0.536237            0.535325   \n",
       "10            0.554348            0.536267            0.535402   \n",
       "11            0.554670            0.537287            0.535406   \n",
       "12            0.555169            0.537748            0.535862   \n",
       "13            0.556168            0.537861            0.536425   \n",
       "14            0.556184            0.537873            0.536438   \n",
       "\n",
       "    split3_train_score  split4_train_score  mean_train_score  std_train_score  \n",
       "0             0.497372            0.496445          0.492303         0.004636  \n",
       "1             0.534143            0.534394          0.527671         0.008529  \n",
       "2             0.546392            0.543582          0.536545         0.008217  \n",
       "3             0.548846            0.547323          0.539153         0.008646  \n",
       "4             0.551381            0.552313          0.542219         0.009788  \n",
       "5             0.558744            0.557782          0.547845         0.010679  \n",
       "6             0.558787            0.557913          0.548168         0.010511  \n",
       "7             0.559959            0.558165          0.548667         0.010872  \n",
       "8             0.560226            0.558173          0.548785         0.010859  \n",
       "9             0.560326            0.558176          0.548836         0.010848  \n",
       "10            0.560329            0.558290          0.548927         0.010865  \n",
       "11            0.561072            0.558610          0.549409         0.010875  \n",
       "12            0.561109            0.558628          0.549703         0.010716  \n",
       "13            0.561128            0.558653          0.550047         0.010662  \n",
       "14            0.562367            0.559118          0.550396         0.010996  \n",
       "\n",
       "[15 rows x 21 columns]"
      ]
     },
     "execution_count": 64,
     "metadata": {},
     "output_type": "execute_result"
    }
   ],
   "source": [
    "df_grid = pd.DataFrame(grid.cv_results_)\n",
    "df_grid"
   ]
  },
  {
   "cell_type": "code",
   "execution_count": 65,
   "id": "19f8d00b-2dba-4acf-b674-a2fc25dd6af3",
   "metadata": {},
   "outputs": [
    {
     "name": "stdout",
     "output_type": "stream",
     "text": [
      "Score with poly features: 0.60\n",
      "Best polynomial degree: 6\n"
     ]
    }
   ],
   "source": [
    "print(\"Score with poly features: {:.2f}\".format(grid.score(X7_test, y3_test)))\n",
    "print(\"Best polynomial degree: {:.0f}\".format(grid.best_params_['polynomialfeatures__degree']))"
   ]
  },
  {
   "cell_type": "markdown",
   "id": "a351e522-9901-4993-ad5a-5705cdd233a8",
   "metadata": {},
   "source": [
    "# PART 2"
   ]
  },
  {
   "cell_type": "markdown",
   "id": "55476a80-c632-4583-9216-6a0621be47d9",
   "metadata": {},
   "source": [
    "#### Question 1: Load the breast cancer dataset. Import the functions `load_breast_cancer` from `sklearn.datasets`."
   ]
  },
  {
   "cell_type": "code",
   "execution_count": 68,
   "id": "2b6b19e1-8362-410a-99f4-afb1f659b374",
   "metadata": {},
   "outputs": [],
   "source": [
    "from sklearn.datasets import load_breast_cancer"
   ]
  },
  {
   "cell_type": "code",
   "execution_count": 69,
   "id": "770c227a-7e28-4cbe-9428-77b15181bae6",
   "metadata": {},
   "outputs": [],
   "source": [
    "bc = load_breast_cancer()\n",
    "df2 = pd.DataFrame(bc.data, columns=bc.feature_names)\n",
    "df2['target'] = bc.target"
   ]
  },
  {
   "cell_type": "code",
   "execution_count": 70,
   "id": "a10d923c-a708-47d7-bc9a-c2b82117a677",
   "metadata": {},
   "outputs": [
    {
     "data": {
      "text/plain": [
       "(569, 31)"
      ]
     },
     "execution_count": 70,
     "metadata": {},
     "output_type": "execute_result"
    }
   ],
   "source": [
    "df2.shape"
   ]
  },
  {
   "cell_type": "markdown",
   "id": "1fe8d754-8a23-4a0e-befd-a043aca42891",
   "metadata": {},
   "source": [
    "#### Question 2: Split the data into train-validate set (90%) and test set (10%) using random_state = 0.\n"
   ]
  },
  {
   "cell_type": "code",
   "execution_count": 72,
   "id": "53647fdd-63c1-482e-a0a8-493120dd2d61",
   "metadata": {},
   "outputs": [],
   "source": [
    "X_trainval, X_test, y_trainval, y_test = train_test_split(\n",
    "    bc['data'], bc['target'],test_size=0.1, random_state=0)"
   ]
  },
  {
   "cell_type": "code",
   "execution_count": 73,
   "id": "2f878c02-da55-4acc-8e20-738caf49b8d7",
   "metadata": {},
   "outputs": [
    {
     "data": {
      "text/plain": [
       "(512, 30)"
      ]
     },
     "execution_count": 73,
     "metadata": {},
     "output_type": "execute_result"
    }
   ],
   "source": [
    "X_trainval.shape"
   ]
  },
  {
   "cell_type": "code",
   "execution_count": 74,
   "id": "710d5d24-65ff-4acf-a918-e0de3efc860f",
   "metadata": {},
   "outputs": [
    {
     "data": {
      "text/plain": [
       "(512,)"
      ]
     },
     "execution_count": 74,
     "metadata": {},
     "output_type": "execute_result"
    }
   ],
   "source": [
    "y_trainval.shape"
   ]
  },
  {
   "cell_type": "markdown",
   "id": "1ec1f66e-cc3a-4f0f-8403-ec9707ae5817",
   "metadata": {},
   "source": [
    "#### Question 3: Split the train-validate set into training set (80%) and validation set (20%) using random_state = 0. Build KNN models with n_neighbors = {1, 3, 5, 7, 9} using the training set. Compare their performance on the validation set and pick the best model. Report the best model’s performance on the test set.\n",
    "-  model performance on test-set: 0.947"
   ]
  },
  {
   "cell_type": "code",
   "execution_count": 76,
   "id": "733c8be4-4e7f-462d-b9ed-fde4397b492f",
   "metadata": {},
   "outputs": [],
   "source": [
    "X_train, X_val, y_train, y_val = train_test_split(X_trainval, y_trainval, test_size=0.2, random_state = 0)"
   ]
  },
  {
   "cell_type": "code",
   "execution_count": 77,
   "id": "e437d7ea-fff9-495d-918d-955c31d2a068",
   "metadata": {},
   "outputs": [
    {
     "data": {
      "text/plain": [
       "(409, 30)"
      ]
     },
     "execution_count": 77,
     "metadata": {},
     "output_type": "execute_result"
    }
   ],
   "source": [
    "X_train.shape"
   ]
  },
  {
   "cell_type": "code",
   "execution_count": 78,
   "id": "6563f7cc-627a-48a2-bb6f-18a6690829dd",
   "metadata": {},
   "outputs": [
    {
     "data": {
      "text/plain": [
       "(409,)"
      ]
     },
     "execution_count": 78,
     "metadata": {},
     "output_type": "execute_result"
    }
   ],
   "source": [
    "y_train.shape"
   ]
  },
  {
   "cell_type": "code",
   "execution_count": 80,
   "id": "300e9666-63aa-498d-9978-10ff83e5eb17",
   "metadata": {},
   "outputs": [
    {
     "name": "stdout",
     "output_type": "stream",
     "text": [
      "Best validation score: 0.951\n",
      "Best n_neighbors: 7\n"
     ]
    }
   ],
   "source": [
    "val_scores = []\n",
    "neighbors = np.array([1, 3, 5, 7, 9])\n",
    "from sklearn.neighbors import KNeighborsClassifier\n",
    "\n",
    "for i in neighbors:\n",
    "    knn = KNeighborsClassifier(n_neighbors=i)\n",
    "    knn.fit(X_train, y_train) \n",
    "    val_scores.append(knn.score(X_val, y_val)) \n",
    "\n",
    "print(f\"Best validation score: {np.max(val_scores):.3f}\") \n",
    "best_n_neighbors = neighbors[np.argmax(val_scores)] \n",
    "print(\"Best n_neighbors:\", best_n_neighbors)"
   ]
  },
  {
   "cell_type": "code",
   "execution_count": 82,
   "id": "d792758d-6edd-4a71-bb22-5225b0f464f6",
   "metadata": {
    "scrolled": true
   },
   "outputs": [
    {
     "name": "stdout",
     "output_type": "stream",
     "text": [
      "test-set score: 0.947\n"
     ]
    }
   ],
   "source": [
    "print(f\"test-set score: {knn.score(X_test, y_test):.3f}\")"
   ]
  },
  {
   "cell_type": "markdown",
   "id": "5a66c096-c6d7-4f6b-b11b-a59842004946",
   "metadata": {},
   "source": [
    "#### Question 4: Use GridSearchCV and 5-fold cross validation to build and compare KNN models with n_neighbors = {1, 3, 5, 7, 9, 11, 13, 15, 17, 19} using the train-validate set. Report the best model’s performance on the test set."
   ]
  },
  {
   "cell_type": "code",
   "execution_count": 84,
   "id": "bceb2744-afa6-4213-9191-cc74770d66c8",
   "metadata": {},
   "outputs": [
    {
     "name": "stdout",
     "output_type": "stream",
     "text": [
      "best parameters: 9\n",
      "test-set score: 0.947\n"
     ]
    }
   ],
   "source": [
    "param_grid2 = {'n_neighbors':  np.array([1, 3, 5, 7, 9, 11,13,15,17,19])} \n",
    "grid2 = GridSearchCV(KNeighborsClassifier(), param_grid=param_grid2, cv=5,\n",
    "                   return_train_score=True) \n",
    "grid2.fit(X_trainval, y_trainval) \n",
    "print(f\"best parameters: {grid2.best_params_['n_neighbors']}\")\n",
    "print(f\"test-set score: {grid2.score(X_test, y_test):.3f}\")"
   ]
  }
 ],
 "metadata": {
  "kernelspec": {
   "display_name": "Python 3 (ipykernel)",
   "language": "python",
   "name": "python3"
  },
  "language_info": {
   "codemirror_mode": {
    "name": "ipython",
    "version": 3
   },
   "file_extension": ".py",
   "mimetype": "text/x-python",
   "name": "python",
   "nbconvert_exporter": "python",
   "pygments_lexer": "ipython3",
   "version": "3.12.2"
  }
 },
 "nbformat": 4,
 "nbformat_minor": 5
}
