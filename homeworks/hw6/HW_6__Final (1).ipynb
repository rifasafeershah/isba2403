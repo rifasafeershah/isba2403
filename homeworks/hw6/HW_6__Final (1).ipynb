{
  "cells": [
    {
      "cell_type": "code",
      "execution_count": 1,
      "id": "3344fba9-712b-4191-bd57-627d5c12a57b",
      "metadata": {
        "id": "3344fba9-712b-4191-bd57-627d5c12a57b"
      },
      "outputs": [],
      "source": [
        "import numpy as np\n",
        "import matplotlib.pyplot as plt\n",
        "%matplotlib inline\n",
        "np.set_printoptions(precision=3)\n",
        "import pandas as pd\n",
        "from sklearn.model_selection import train_test_split\n",
        "from sklearn.pipeline import make_pipeline\n",
        "from sklearn.preprocessing import scale, StandardScaler"
      ]
    },
    {
      "cell_type": "markdown",
      "id": "ef767e95-a3f9-40f2-9cb5-39a970f90dd4",
      "metadata": {
        "id": "ef767e95-a3f9-40f2-9cb5-39a970f90dd4"
      },
      "source": [
        "## Load data and explore"
      ]
    },
    {
      "cell_type": "code",
      "execution_count": 2,
      "id": "0a5ed32a-5fcc-4ba0-bf2b-c2ce1cca0d6a",
      "metadata": {
        "id": "0a5ed32a-5fcc-4ba0-bf2b-c2ce1cca0d6a"
      },
      "outputs": [],
      "source": [
        "df = pd.read_csv('lending-club-data.csv', low_memory=False)"
      ]
    },
    {
      "cell_type": "code",
      "execution_count": 3,
      "id": "a1b2aace-f5b1-41f3-9f96-728ddd9584eb",
      "metadata": {
        "id": "a1b2aace-f5b1-41f3-9f96-728ddd9584eb",
        "colab": {
          "base_uri": "https://localhost:8080/"
        },
        "outputId": "28c9e97d-2756-4d5f-af92-7c5fc90d3f2d"
      },
      "outputs": [
        {
          "output_type": "execute_result",
          "data": {
            "text/plain": [
              "Index(['id', 'member_id', 'loan_amnt', 'funded_amnt', 'funded_amnt_inv',\n",
              "       'term', 'int_rate', 'installment', 'grade', 'sub_grade', 'emp_title',\n",
              "       'emp_length', 'home_ownership', 'annual_inc', 'is_inc_v', 'issue_d',\n",
              "       'loan_status', 'pymnt_plan', 'url', 'desc', 'purpose', 'title',\n",
              "       'zip_code', 'addr_state', 'dti', 'delinq_2yrs', 'earliest_cr_line',\n",
              "       'inq_last_6mths', 'mths_since_last_delinq', 'mths_since_last_record',\n",
              "       'open_acc', 'pub_rec', 'revol_bal', 'revol_util', 'total_acc',\n",
              "       'initial_list_status', 'out_prncp', 'out_prncp_inv', 'total_pymnt',\n",
              "       'total_pymnt_inv', 'total_rec_prncp', 'total_rec_int',\n",
              "       'total_rec_late_fee', 'recoveries', 'collection_recovery_fee',\n",
              "       'last_pymnt_d', 'last_pymnt_amnt', 'next_pymnt_d', 'last_credit_pull_d',\n",
              "       'collections_12_mths_ex_med', 'mths_since_last_major_derog',\n",
              "       'policy_code', 'not_compliant', 'status', 'inactive_loans', 'bad_loans',\n",
              "       'emp_length_num', 'grade_num', 'sub_grade_num', 'delinq_2yrs_zero',\n",
              "       'pub_rec_zero', 'collections_12_mths_zero', 'short_emp',\n",
              "       'payment_inc_ratio', 'final_d', 'last_delinq_none', 'last_record_none',\n",
              "       'last_major_derog_none'],\n",
              "      dtype='object')"
            ]
          },
          "metadata": {},
          "execution_count": 3
        }
      ],
      "source": [
        "df.columns"
      ]
    },
    {
      "cell_type": "code",
      "execution_count": 4,
      "id": "dcc0059e-a588-4b1b-a942-34768d8225d1",
      "metadata": {
        "colab": {
          "base_uri": "https://localhost:8080/",
          "height": 313
        },
        "id": "dcc0059e-a588-4b1b-a942-34768d8225d1",
        "outputId": "84b7fb87-1fed-4d3d-d820-c753eaad4c47",
        "scrolled": true
      },
      "outputs": [
        {
          "output_type": "execute_result",
          "data": {
            "text/plain": [
              "  grade sub_grade  short_emp  emp_length_num home_ownership    dti  \\\n",
              "0     B        B2        0.0            11.0           RENT  27.65   \n",
              "1     C        C4        1.0             1.0           RENT   1.00   \n",
              "2     C        C5        0.0            11.0           RENT   8.72   \n",
              "3     C        C1        0.0            11.0           RENT  20.00   \n",
              "4     A        A4        0.0             4.0           RENT  11.20   \n",
              "\n",
              "          purpose        term  last_delinq_none  last_major_derog_none  \\\n",
              "0     credit_card   36 months               1.0                    1.0   \n",
              "1             car   60 months               1.0                    1.0   \n",
              "2  small_business   36 months               1.0                    1.0   \n",
              "3           other   36 months               0.0                    1.0   \n",
              "4         wedding   36 months               1.0                    1.0   \n",
              "\n",
              "   revol_util  total_rec_late_fee  \n",
              "0        83.7                0.00  \n",
              "1         9.4                0.00  \n",
              "2        98.5                0.00  \n",
              "3        21.0               16.97  \n",
              "4        28.3                0.00  "
            ],
            "text/html": [
              "\n",
              "  <div id=\"df-670ca95c-4e2e-4083-b2c6-4ab929dc89ff\" class=\"colab-df-container\">\n",
              "    <div>\n",
              "<style scoped>\n",
              "    .dataframe tbody tr th:only-of-type {\n",
              "        vertical-align: middle;\n",
              "    }\n",
              "\n",
              "    .dataframe tbody tr th {\n",
              "        vertical-align: top;\n",
              "    }\n",
              "\n",
              "    .dataframe thead th {\n",
              "        text-align: right;\n",
              "    }\n",
              "</style>\n",
              "<table border=\"1\" class=\"dataframe\">\n",
              "  <thead>\n",
              "    <tr style=\"text-align: right;\">\n",
              "      <th></th>\n",
              "      <th>grade</th>\n",
              "      <th>sub_grade</th>\n",
              "      <th>short_emp</th>\n",
              "      <th>emp_length_num</th>\n",
              "      <th>home_ownership</th>\n",
              "      <th>dti</th>\n",
              "      <th>purpose</th>\n",
              "      <th>term</th>\n",
              "      <th>last_delinq_none</th>\n",
              "      <th>last_major_derog_none</th>\n",
              "      <th>revol_util</th>\n",
              "      <th>total_rec_late_fee</th>\n",
              "    </tr>\n",
              "  </thead>\n",
              "  <tbody>\n",
              "    <tr>\n",
              "      <th>0</th>\n",
              "      <td>B</td>\n",
              "      <td>B2</td>\n",
              "      <td>0.0</td>\n",
              "      <td>11.0</td>\n",
              "      <td>RENT</td>\n",
              "      <td>27.65</td>\n",
              "      <td>credit_card</td>\n",
              "      <td>36 months</td>\n",
              "      <td>1.0</td>\n",
              "      <td>1.0</td>\n",
              "      <td>83.7</td>\n",
              "      <td>0.00</td>\n",
              "    </tr>\n",
              "    <tr>\n",
              "      <th>1</th>\n",
              "      <td>C</td>\n",
              "      <td>C4</td>\n",
              "      <td>1.0</td>\n",
              "      <td>1.0</td>\n",
              "      <td>RENT</td>\n",
              "      <td>1.00</td>\n",
              "      <td>car</td>\n",
              "      <td>60 months</td>\n",
              "      <td>1.0</td>\n",
              "      <td>1.0</td>\n",
              "      <td>9.4</td>\n",
              "      <td>0.00</td>\n",
              "    </tr>\n",
              "    <tr>\n",
              "      <th>2</th>\n",
              "      <td>C</td>\n",
              "      <td>C5</td>\n",
              "      <td>0.0</td>\n",
              "      <td>11.0</td>\n",
              "      <td>RENT</td>\n",
              "      <td>8.72</td>\n",
              "      <td>small_business</td>\n",
              "      <td>36 months</td>\n",
              "      <td>1.0</td>\n",
              "      <td>1.0</td>\n",
              "      <td>98.5</td>\n",
              "      <td>0.00</td>\n",
              "    </tr>\n",
              "    <tr>\n",
              "      <th>3</th>\n",
              "      <td>C</td>\n",
              "      <td>C1</td>\n",
              "      <td>0.0</td>\n",
              "      <td>11.0</td>\n",
              "      <td>RENT</td>\n",
              "      <td>20.00</td>\n",
              "      <td>other</td>\n",
              "      <td>36 months</td>\n",
              "      <td>0.0</td>\n",
              "      <td>1.0</td>\n",
              "      <td>21.0</td>\n",
              "      <td>16.97</td>\n",
              "    </tr>\n",
              "    <tr>\n",
              "      <th>4</th>\n",
              "      <td>A</td>\n",
              "      <td>A4</td>\n",
              "      <td>0.0</td>\n",
              "      <td>4.0</td>\n",
              "      <td>RENT</td>\n",
              "      <td>11.20</td>\n",
              "      <td>wedding</td>\n",
              "      <td>36 months</td>\n",
              "      <td>1.0</td>\n",
              "      <td>1.0</td>\n",
              "      <td>28.3</td>\n",
              "      <td>0.00</td>\n",
              "    </tr>\n",
              "  </tbody>\n",
              "</table>\n",
              "</div>\n",
              "    <div class=\"colab-df-buttons\">\n",
              "\n",
              "  <div class=\"colab-df-container\">\n",
              "    <button class=\"colab-df-convert\" onclick=\"convertToInteractive('df-670ca95c-4e2e-4083-b2c6-4ab929dc89ff')\"\n",
              "            title=\"Convert this dataframe to an interactive table.\"\n",
              "            style=\"display:none;\">\n",
              "\n",
              "  <svg xmlns=\"http://www.w3.org/2000/svg\" height=\"24px\" viewBox=\"0 -960 960 960\">\n",
              "    <path d=\"M120-120v-720h720v720H120Zm60-500h600v-160H180v160Zm220 220h160v-160H400v160Zm0 220h160v-160H400v160ZM180-400h160v-160H180v160Zm440 0h160v-160H620v160ZM180-180h160v-160H180v160Zm440 0h160v-160H620v160Z\"/>\n",
              "  </svg>\n",
              "    </button>\n",
              "\n",
              "  <style>\n",
              "    .colab-df-container {\n",
              "      display:flex;\n",
              "      gap: 12px;\n",
              "    }\n",
              "\n",
              "    .colab-df-convert {\n",
              "      background-color: #E8F0FE;\n",
              "      border: none;\n",
              "      border-radius: 50%;\n",
              "      cursor: pointer;\n",
              "      display: none;\n",
              "      fill: #1967D2;\n",
              "      height: 32px;\n",
              "      padding: 0 0 0 0;\n",
              "      width: 32px;\n",
              "    }\n",
              "\n",
              "    .colab-df-convert:hover {\n",
              "      background-color: #E2EBFA;\n",
              "      box-shadow: 0px 1px 2px rgba(60, 64, 67, 0.3), 0px 1px 3px 1px rgba(60, 64, 67, 0.15);\n",
              "      fill: #174EA6;\n",
              "    }\n",
              "\n",
              "    .colab-df-buttons div {\n",
              "      margin-bottom: 4px;\n",
              "    }\n",
              "\n",
              "    [theme=dark] .colab-df-convert {\n",
              "      background-color: #3B4455;\n",
              "      fill: #D2E3FC;\n",
              "    }\n",
              "\n",
              "    [theme=dark] .colab-df-convert:hover {\n",
              "      background-color: #434B5C;\n",
              "      box-shadow: 0px 1px 3px 1px rgba(0, 0, 0, 0.15);\n",
              "      filter: drop-shadow(0px 1px 2px rgba(0, 0, 0, 0.3));\n",
              "      fill: #FFFFFF;\n",
              "    }\n",
              "  </style>\n",
              "\n",
              "    <script>\n",
              "      const buttonEl =\n",
              "        document.querySelector('#df-670ca95c-4e2e-4083-b2c6-4ab929dc89ff button.colab-df-convert');\n",
              "      buttonEl.style.display =\n",
              "        google.colab.kernel.accessAllowed ? 'block' : 'none';\n",
              "\n",
              "      async function convertToInteractive(key) {\n",
              "        const element = document.querySelector('#df-670ca95c-4e2e-4083-b2c6-4ab929dc89ff');\n",
              "        const dataTable =\n",
              "          await google.colab.kernel.invokeFunction('convertToInteractive',\n",
              "                                                    [key], {});\n",
              "        if (!dataTable) return;\n",
              "\n",
              "        const docLinkHtml = 'Like what you see? Visit the ' +\n",
              "          '<a target=\"_blank\" href=https://colab.research.google.com/notebooks/data_table.ipynb>data table notebook</a>'\n",
              "          + ' to learn more about interactive tables.';\n",
              "        element.innerHTML = '';\n",
              "        dataTable['output_type'] = 'display_data';\n",
              "        await google.colab.output.renderOutput(dataTable, element);\n",
              "        const docLink = document.createElement('div');\n",
              "        docLink.innerHTML = docLinkHtml;\n",
              "        element.appendChild(docLink);\n",
              "      }\n",
              "    </script>\n",
              "  </div>\n",
              "\n",
              "\n",
              "<div id=\"df-3fbda49e-2846-42b0-adb0-b4cf95bf32ef\">\n",
              "  <button class=\"colab-df-quickchart\" onclick=\"quickchart('df-3fbda49e-2846-42b0-adb0-b4cf95bf32ef')\"\n",
              "            title=\"Suggest charts\"\n",
              "            style=\"display:none;\">\n",
              "\n",
              "<svg xmlns=\"http://www.w3.org/2000/svg\" height=\"24px\"viewBox=\"0 0 24 24\"\n",
              "     width=\"24px\">\n",
              "    <g>\n",
              "        <path d=\"M19 3H5c-1.1 0-2 .9-2 2v14c0 1.1.9 2 2 2h14c1.1 0 2-.9 2-2V5c0-1.1-.9-2-2-2zM9 17H7v-7h2v7zm4 0h-2V7h2v10zm4 0h-2v-4h2v4z\"/>\n",
              "    </g>\n",
              "</svg>\n",
              "  </button>\n",
              "\n",
              "<style>\n",
              "  .colab-df-quickchart {\n",
              "      --bg-color: #E8F0FE;\n",
              "      --fill-color: #1967D2;\n",
              "      --hover-bg-color: #E2EBFA;\n",
              "      --hover-fill-color: #174EA6;\n",
              "      --disabled-fill-color: #AAA;\n",
              "      --disabled-bg-color: #DDD;\n",
              "  }\n",
              "\n",
              "  [theme=dark] .colab-df-quickchart {\n",
              "      --bg-color: #3B4455;\n",
              "      --fill-color: #D2E3FC;\n",
              "      --hover-bg-color: #434B5C;\n",
              "      --hover-fill-color: #FFFFFF;\n",
              "      --disabled-bg-color: #3B4455;\n",
              "      --disabled-fill-color: #666;\n",
              "  }\n",
              "\n",
              "  .colab-df-quickchart {\n",
              "    background-color: var(--bg-color);\n",
              "    border: none;\n",
              "    border-radius: 50%;\n",
              "    cursor: pointer;\n",
              "    display: none;\n",
              "    fill: var(--fill-color);\n",
              "    height: 32px;\n",
              "    padding: 0;\n",
              "    width: 32px;\n",
              "  }\n",
              "\n",
              "  .colab-df-quickchart:hover {\n",
              "    background-color: var(--hover-bg-color);\n",
              "    box-shadow: 0 1px 2px rgba(60, 64, 67, 0.3), 0 1px 3px 1px rgba(60, 64, 67, 0.15);\n",
              "    fill: var(--button-hover-fill-color);\n",
              "  }\n",
              "\n",
              "  .colab-df-quickchart-complete:disabled,\n",
              "  .colab-df-quickchart-complete:disabled:hover {\n",
              "    background-color: var(--disabled-bg-color);\n",
              "    fill: var(--disabled-fill-color);\n",
              "    box-shadow: none;\n",
              "  }\n",
              "\n",
              "  .colab-df-spinner {\n",
              "    border: 2px solid var(--fill-color);\n",
              "    border-color: transparent;\n",
              "    border-bottom-color: var(--fill-color);\n",
              "    animation:\n",
              "      spin 1s steps(1) infinite;\n",
              "  }\n",
              "\n",
              "  @keyframes spin {\n",
              "    0% {\n",
              "      border-color: transparent;\n",
              "      border-bottom-color: var(--fill-color);\n",
              "      border-left-color: var(--fill-color);\n",
              "    }\n",
              "    20% {\n",
              "      border-color: transparent;\n",
              "      border-left-color: var(--fill-color);\n",
              "      border-top-color: var(--fill-color);\n",
              "    }\n",
              "    30% {\n",
              "      border-color: transparent;\n",
              "      border-left-color: var(--fill-color);\n",
              "      border-top-color: var(--fill-color);\n",
              "      border-right-color: var(--fill-color);\n",
              "    }\n",
              "    40% {\n",
              "      border-color: transparent;\n",
              "      border-right-color: var(--fill-color);\n",
              "      border-top-color: var(--fill-color);\n",
              "    }\n",
              "    60% {\n",
              "      border-color: transparent;\n",
              "      border-right-color: var(--fill-color);\n",
              "    }\n",
              "    80% {\n",
              "      border-color: transparent;\n",
              "      border-right-color: var(--fill-color);\n",
              "      border-bottom-color: var(--fill-color);\n",
              "    }\n",
              "    90% {\n",
              "      border-color: transparent;\n",
              "      border-bottom-color: var(--fill-color);\n",
              "    }\n",
              "  }\n",
              "</style>\n",
              "\n",
              "  <script>\n",
              "    async function quickchart(key) {\n",
              "      const quickchartButtonEl =\n",
              "        document.querySelector('#' + key + ' button');\n",
              "      quickchartButtonEl.disabled = true;  // To prevent multiple clicks.\n",
              "      quickchartButtonEl.classList.add('colab-df-spinner');\n",
              "      try {\n",
              "        const charts = await google.colab.kernel.invokeFunction(\n",
              "            'suggestCharts', [key], {});\n",
              "      } catch (error) {\n",
              "        console.error('Error during call to suggestCharts:', error);\n",
              "      }\n",
              "      quickchartButtonEl.classList.remove('colab-df-spinner');\n",
              "      quickchartButtonEl.classList.add('colab-df-quickchart-complete');\n",
              "    }\n",
              "    (() => {\n",
              "      let quickchartButtonEl =\n",
              "        document.querySelector('#df-3fbda49e-2846-42b0-adb0-b4cf95bf32ef button');\n",
              "      quickchartButtonEl.style.display =\n",
              "        google.colab.kernel.accessAllowed ? 'block' : 'none';\n",
              "    })();\n",
              "  </script>\n",
              "</div>\n",
              "\n",
              "    </div>\n",
              "  </div>\n"
            ],
            "application/vnd.google.colaboratory.intrinsic+json": {
              "type": "dataframe",
              "variable_name": "df2",
              "summary": "{\n  \"name\": \"df2\",\n  \"rows\": 61015,\n  \"fields\": [\n    {\n      \"column\": \"grade\",\n      \"properties\": {\n        \"dtype\": \"category\",\n        \"num_unique_values\": 7,\n        \"samples\": [\n          \"B\",\n          \"C\",\n          \"D\"\n        ],\n        \"semantic_type\": \"\",\n        \"description\": \"\"\n      }\n    },\n    {\n      \"column\": \"sub_grade\",\n      \"properties\": {\n        \"dtype\": \"category\",\n        \"num_unique_values\": 35,\n        \"samples\": [\n          \"E5\",\n          \"B4\",\n          \"E3\"\n        ],\n        \"semantic_type\": \"\",\n        \"description\": \"\"\n      }\n    },\n    {\n      \"column\": \"short_emp\",\n      \"properties\": {\n        \"dtype\": \"number\",\n        \"std\": 0.34132285250285394,\n        \"min\": 0.0,\n        \"max\": 1.0,\n        \"num_unique_values\": 2,\n        \"samples\": [\n          1.0,\n          0.0\n        ],\n        \"semantic_type\": \"\",\n        \"description\": \"\"\n      }\n    },\n    {\n      \"column\": \"emp_length_num\",\n      \"properties\": {\n        \"dtype\": \"number\",\n        \"std\": 3.7232029378125535,\n        \"min\": 0.0,\n        \"max\": 11.0,\n        \"num_unique_values\": 12,\n        \"samples\": [\n          9.0,\n          8.0\n        ],\n        \"semantic_type\": \"\",\n        \"description\": \"\"\n      }\n    },\n    {\n      \"column\": \"home_ownership\",\n      \"properties\": {\n        \"dtype\": \"category\",\n        \"num_unique_values\": 4,\n        \"samples\": [\n          \"OWN\",\n          \"OTHER\"\n        ],\n        \"semantic_type\": \"\",\n        \"description\": \"\"\n      }\n    },\n    {\n      \"column\": \"dti\",\n      \"properties\": {\n        \"dtype\": \"number\",\n        \"std\": 7.248794723451293,\n        \"min\": 0.0,\n        \"max\": 34.99,\n        \"num_unique_values\": 3412,\n        \"samples\": [\n          0.16,\n          25.5\n        ],\n        \"semantic_type\": \"\",\n        \"description\": \"\"\n      }\n    },\n    {\n      \"column\": \"purpose\",\n      \"properties\": {\n        \"dtype\": \"category\",\n        \"num_unique_values\": 12,\n        \"samples\": [\n          \"vacation\",\n          \"moving\"\n        ],\n        \"semantic_type\": \"\",\n        \"description\": \"\"\n      }\n    },\n    {\n      \"column\": \"term\",\n      \"properties\": {\n        \"dtype\": \"category\",\n        \"num_unique_values\": 2,\n        \"samples\": [\n          \" 60 months\",\n          \" 36 months\"\n        ],\n        \"semantic_type\": \"\",\n        \"description\": \"\"\n      }\n    },\n    {\n      \"column\": \"last_delinq_none\",\n      \"properties\": {\n        \"dtype\": \"number\",\n        \"std\": 0.4897103413469032,\n        \"min\": 0.0,\n        \"max\": 1.0,\n        \"num_unique_values\": 2,\n        \"samples\": [\n          0.0,\n          1.0\n        ],\n        \"semantic_type\": \"\",\n        \"description\": \"\"\n      }\n    },\n    {\n      \"column\": \"last_major_derog_none\",\n      \"properties\": {\n        \"dtype\": \"number\",\n        \"std\": 0.27401131933117506,\n        \"min\": 0.0,\n        \"max\": 1.0,\n        \"num_unique_values\": 2,\n        \"samples\": [\n          0.0,\n          1.0\n        ],\n        \"semantic_type\": \"\",\n        \"description\": \"\"\n      }\n    },\n    {\n      \"column\": \"revol_util\",\n      \"properties\": {\n        \"dtype\": \"number\",\n        \"std\": 26.902893181135347,\n        \"min\": 0.0,\n        \"max\": 128.1,\n        \"num_unique_values\": 1132,\n        \"samples\": [\n          96.5,\n          7.5\n        ],\n        \"semantic_type\": \"\",\n        \"description\": \"\"\n      }\n    },\n    {\n      \"column\": \"total_rec_late_fee\",\n      \"properties\": {\n        \"dtype\": \"number\",\n        \"std\": 6.351623818213529,\n        \"min\": 0.0,\n        \"max\": 208.82,\n        \"num_unique_values\": 1823,\n        \"samples\": [\n          14.8761,\n          24.183\n        ],\n        \"semantic_type\": \"\",\n        \"description\": \"\"\n      }\n    }\n  ]\n}"
            }
          },
          "metadata": {},
          "execution_count": 4
        }
      ],
      "source": [
        "features = ['grade', 'sub_grade', 'short_emp', 'emp_length_num', 'home_ownership',\n",
        "    'dti', 'purpose', 'term', 'last_delinq_none', 'last_major_derog_none',\n",
        "    'revol_util', 'total_rec_late_fee']\n",
        "df2 = df[features].dropna()\n",
        "df2.head()"
      ]
    },
    {
      "cell_type": "code",
      "execution_count": 5,
      "id": "c2dfbef8-4007-412f-a5ce-0068868e431f",
      "metadata": {
        "id": "c2dfbef8-4007-412f-a5ce-0068868e431f"
      },
      "outputs": [],
      "source": [
        "df2['short_emp'] = df2['short_emp'].astype(np.int8)\n",
        "df2['last_delinq_none'] = df2['last_delinq_none'].astype(np.int8)\n",
        "df2['last_major_derog_none'] = df2['last_major_derog_none'].astype(np.int8)"
      ]
    },
    {
      "cell_type": "code",
      "execution_count": 6,
      "id": "59a16918-e8cf-4e47-8cbb-1667e28bef6d",
      "metadata": {
        "colab": {
          "base_uri": "https://localhost:8080/"
        },
        "id": "59a16918-e8cf-4e47-8cbb-1667e28bef6d",
        "outputId": "93fb515e-d867-4ca7-92bf-780a34967bb4"
      },
      "outputs": [
        {
          "output_type": "stream",
          "name": "stdout",
          "text": [
            "<class 'pandas.core.frame.DataFrame'>\n",
            "Index: 61015 entries, 0 to 61014\n",
            "Data columns (total 12 columns):\n",
            " #   Column                 Non-Null Count  Dtype  \n",
            "---  ------                 --------------  -----  \n",
            " 0   grade                  61015 non-null  object \n",
            " 1   sub_grade              61015 non-null  object \n",
            " 2   short_emp              61015 non-null  int8   \n",
            " 3   emp_length_num         61015 non-null  float64\n",
            " 4   home_ownership         61015 non-null  object \n",
            " 5   dti                    61015 non-null  float64\n",
            " 6   purpose                61015 non-null  object \n",
            " 7   term                   61015 non-null  object \n",
            " 8   last_delinq_none       61015 non-null  int8   \n",
            " 9   last_major_derog_none  61015 non-null  int8   \n",
            " 10  revol_util             61015 non-null  float64\n",
            " 11  total_rec_late_fee     61015 non-null  float64\n",
            "dtypes: float64(4), int8(3), object(5)\n",
            "memory usage: 4.8+ MB\n"
          ]
        }
      ],
      "source": [
        "df2.info()"
      ]
    },
    {
      "cell_type": "code",
      "execution_count": 7,
      "id": "4474e7bd-8468-4345-9ca8-4916e1fcdc6d",
      "metadata": {
        "colab": {
          "base_uri": "https://localhost:8080/"
        },
        "id": "4474e7bd-8468-4345-9ca8-4916e1fcdc6d",
        "outputId": "33491c36-43f5-406a-deb1-44efea479d51"
      },
      "outputs": [
        {
          "output_type": "stream",
          "name": "stdout",
          "text": [
            "Safe Loans (0): 82.52%\n",
            "Risky Loans (1): 17.48%\n"
          ]
        }
      ],
      "source": [
        "loan_counts = df['bad_loans'].value_counts(normalize=True) * 100\n",
        "\n",
        "print(f\"Safe Loans (0): {loan_counts.get(0, 0):.2f}%\")\n",
        "print(f\"Risky Loans (1): {loan_counts.get(1, 0):.2f}%\")"
      ]
    },
    {
      "cell_type": "markdown",
      "id": "2ca9156d-b40d-4045-ae45-9df12b802f4d",
      "metadata": {
        "id": "2ca9156d-b40d-4045-ae45-9df12b802f4d"
      },
      "source": [
        "## Sample data to balance classes"
      ]
    },
    {
      "cell_type": "code",
      "execution_count": 8,
      "id": "6cdaef74-70e5-435e-ae5d-e842f72d7f11",
      "metadata": {
        "id": "6cdaef74-70e5-435e-ae5d-e842f72d7f11"
      },
      "outputs": [],
      "source": [
        "safe_loans_raw = df[df['bad_loans'] == 0]\n",
        "risky_loans_raw = df[df['bad_loans'] == 1]"
      ]
    },
    {
      "cell_type": "code",
      "execution_count": 9,
      "id": "5fdd1bbb-2899-4b1e-a1cd-29632b98fcc0",
      "metadata": {
        "colab": {
          "base_uri": "https://localhost:8080/",
          "height": 617
        },
        "id": "5fdd1bbb-2899-4b1e-a1cd-29632b98fcc0",
        "outputId": "c02c251b-f7a3-4e9a-ea95-a831cbd4d8f0"
      },
      "outputs": [
        {
          "output_type": "execute_result",
          "data": {
            "text/plain": [
              "            id  member_id  loan_amnt  funded_amnt  funded_amnt_inv  \\\n",
              "0      1077430    1314167     2500.0       2500.0           2500.0   \n",
              "1      1071795    1306957     5600.0       5600.0           5600.0   \n",
              "2      1071570    1306721     5375.0       5375.0           5350.0   \n",
              "3      1064687    1298717     9000.0       9000.0           9000.0   \n",
              "4      1069057    1303503    10000.0      10000.0          10000.0   \n",
              "...        ...        ...        ...          ...              ...   \n",
              "21325  9815256   11667322    17000.0      17000.0          17000.0   \n",
              "21326  6548871    8100956    16000.0      16000.0          16000.0   \n",
              "21327  6316162    4671703     2200.0       2200.0           2200.0   \n",
              "21328   521621     674547    25000.0      15625.0          15561.0   \n",
              "21329  5949680    7422154    35000.0      35000.0          35000.0   \n",
              "\n",
              "             term  int_rate  installment grade sub_grade  ... sub_grade_num  \\\n",
              "0       60 months     15.27        59.83     C        C4  ...           0.8   \n",
              "1       60 months     21.28       152.39     F        F2  ...           0.4   \n",
              "2       60 months     12.69       121.45     B        B5  ...           1.0   \n",
              "3       36 months     13.49       305.38     C        C1  ...           0.2   \n",
              "4       36 months     10.65       325.74     B        B2  ...           0.4   \n",
              "...           ...       ...          ...   ...       ...  ...           ...   \n",
              "21325   60 months     15.61       409.90     C        C4  ...           0.8   \n",
              "21326   60 months     15.22       382.49     C        C3  ...           0.6   \n",
              "21327   36 months     13.05        74.18     B        B5  ...           1.0   \n",
              "21328   60 months     10.99       339.65     B        B4  ...           0.8   \n",
              "21329   60 months     22.70       980.65     E        E5  ...           1.0   \n",
              "\n",
              "      delinq_2yrs_zero pub_rec_zero  collections_12_mths_zero short_emp  \\\n",
              "0                  1.0          1.0                       1.0       1.0   \n",
              "1                  1.0          1.0                       1.0       0.0   \n",
              "2                  1.0          1.0                       1.0       1.0   \n",
              "3                  1.0          1.0                       1.0       1.0   \n",
              "4                  1.0          1.0                       1.0       0.0   \n",
              "...                ...          ...                       ...       ...   \n",
              "21325              1.0          1.0                       1.0       0.0   \n",
              "21326              1.0          1.0                       1.0       0.0   \n",
              "21327              1.0          1.0                       1.0       0.0   \n",
              "21328              1.0          1.0                       1.0       0.0   \n",
              "21329              1.0          1.0                       1.0       0.0   \n",
              "\n",
              "      payment_inc_ratio          final_d last_delinq_none last_record_none  \\\n",
              "0               2.39320  20161201T000000              1.0              1.0   \n",
              "1               4.57170  20161201T000000              1.0              1.0   \n",
              "2               9.71600  20161201T000000              1.0              1.0   \n",
              "3              12.21520  20141201T000000              1.0              1.0   \n",
              "4               3.90888  20141201T000000              1.0              1.0   \n",
              "...                 ...              ...              ...              ...   \n",
              "21325           6.14850  20181201T000000              0.0              1.0   \n",
              "21326           7.75226  20180801T000000              1.0              1.0   \n",
              "21327           1.36948  20160701T000000              1.0              1.0   \n",
              "21328           5.50784  20150601T000000              1.0              1.0   \n",
              "21329           7.35487  20180701T000000              1.0              1.0   \n",
              "\n",
              "      last_major_derog_none  \n",
              "0                       1.0  \n",
              "1                       1.0  \n",
              "2                       1.0  \n",
              "3                       1.0  \n",
              "4                       1.0  \n",
              "...                     ...  \n",
              "21325                   1.0  \n",
              "21326                   1.0  \n",
              "21327                   1.0  \n",
              "21328                   1.0  \n",
              "21329                   1.0  \n",
              "\n",
              "[21330 rows x 68 columns]"
            ],
            "text/html": [
              "\n",
              "  <div id=\"df-e3abda32-a4c4-46d2-930d-464c674038db\" class=\"colab-df-container\">\n",
              "    <div>\n",
              "<style scoped>\n",
              "    .dataframe tbody tr th:only-of-type {\n",
              "        vertical-align: middle;\n",
              "    }\n",
              "\n",
              "    .dataframe tbody tr th {\n",
              "        vertical-align: top;\n",
              "    }\n",
              "\n",
              "    .dataframe thead th {\n",
              "        text-align: right;\n",
              "    }\n",
              "</style>\n",
              "<table border=\"1\" class=\"dataframe\">\n",
              "  <thead>\n",
              "    <tr style=\"text-align: right;\">\n",
              "      <th></th>\n",
              "      <th>id</th>\n",
              "      <th>member_id</th>\n",
              "      <th>loan_amnt</th>\n",
              "      <th>funded_amnt</th>\n",
              "      <th>funded_amnt_inv</th>\n",
              "      <th>term</th>\n",
              "      <th>int_rate</th>\n",
              "      <th>installment</th>\n",
              "      <th>grade</th>\n",
              "      <th>sub_grade</th>\n",
              "      <th>...</th>\n",
              "      <th>sub_grade_num</th>\n",
              "      <th>delinq_2yrs_zero</th>\n",
              "      <th>pub_rec_zero</th>\n",
              "      <th>collections_12_mths_zero</th>\n",
              "      <th>short_emp</th>\n",
              "      <th>payment_inc_ratio</th>\n",
              "      <th>final_d</th>\n",
              "      <th>last_delinq_none</th>\n",
              "      <th>last_record_none</th>\n",
              "      <th>last_major_derog_none</th>\n",
              "    </tr>\n",
              "  </thead>\n",
              "  <tbody>\n",
              "    <tr>\n",
              "      <th>0</th>\n",
              "      <td>1077430</td>\n",
              "      <td>1314167</td>\n",
              "      <td>2500.0</td>\n",
              "      <td>2500.0</td>\n",
              "      <td>2500.0</td>\n",
              "      <td>60 months</td>\n",
              "      <td>15.27</td>\n",
              "      <td>59.83</td>\n",
              "      <td>C</td>\n",
              "      <td>C4</td>\n",
              "      <td>...</td>\n",
              "      <td>0.8</td>\n",
              "      <td>1.0</td>\n",
              "      <td>1.0</td>\n",
              "      <td>1.0</td>\n",
              "      <td>1.0</td>\n",
              "      <td>2.39320</td>\n",
              "      <td>20161201T000000</td>\n",
              "      <td>1.0</td>\n",
              "      <td>1.0</td>\n",
              "      <td>1.0</td>\n",
              "    </tr>\n",
              "    <tr>\n",
              "      <th>1</th>\n",
              "      <td>1071795</td>\n",
              "      <td>1306957</td>\n",
              "      <td>5600.0</td>\n",
              "      <td>5600.0</td>\n",
              "      <td>5600.0</td>\n",
              "      <td>60 months</td>\n",
              "      <td>21.28</td>\n",
              "      <td>152.39</td>\n",
              "      <td>F</td>\n",
              "      <td>F2</td>\n",
              "      <td>...</td>\n",
              "      <td>0.4</td>\n",
              "      <td>1.0</td>\n",
              "      <td>1.0</td>\n",
              "      <td>1.0</td>\n",
              "      <td>0.0</td>\n",
              "      <td>4.57170</td>\n",
              "      <td>20161201T000000</td>\n",
              "      <td>1.0</td>\n",
              "      <td>1.0</td>\n",
              "      <td>1.0</td>\n",
              "    </tr>\n",
              "    <tr>\n",
              "      <th>2</th>\n",
              "      <td>1071570</td>\n",
              "      <td>1306721</td>\n",
              "      <td>5375.0</td>\n",
              "      <td>5375.0</td>\n",
              "      <td>5350.0</td>\n",
              "      <td>60 months</td>\n",
              "      <td>12.69</td>\n",
              "      <td>121.45</td>\n",
              "      <td>B</td>\n",
              "      <td>B5</td>\n",
              "      <td>...</td>\n",
              "      <td>1.0</td>\n",
              "      <td>1.0</td>\n",
              "      <td>1.0</td>\n",
              "      <td>1.0</td>\n",
              "      <td>1.0</td>\n",
              "      <td>9.71600</td>\n",
              "      <td>20161201T000000</td>\n",
              "      <td>1.0</td>\n",
              "      <td>1.0</td>\n",
              "      <td>1.0</td>\n",
              "    </tr>\n",
              "    <tr>\n",
              "      <th>3</th>\n",
              "      <td>1064687</td>\n",
              "      <td>1298717</td>\n",
              "      <td>9000.0</td>\n",
              "      <td>9000.0</td>\n",
              "      <td>9000.0</td>\n",
              "      <td>36 months</td>\n",
              "      <td>13.49</td>\n",
              "      <td>305.38</td>\n",
              "      <td>C</td>\n",
              "      <td>C1</td>\n",
              "      <td>...</td>\n",
              "      <td>0.2</td>\n",
              "      <td>1.0</td>\n",
              "      <td>1.0</td>\n",
              "      <td>1.0</td>\n",
              "      <td>1.0</td>\n",
              "      <td>12.21520</td>\n",
              "      <td>20141201T000000</td>\n",
              "      <td>1.0</td>\n",
              "      <td>1.0</td>\n",
              "      <td>1.0</td>\n",
              "    </tr>\n",
              "    <tr>\n",
              "      <th>4</th>\n",
              "      <td>1069057</td>\n",
              "      <td>1303503</td>\n",
              "      <td>10000.0</td>\n",
              "      <td>10000.0</td>\n",
              "      <td>10000.0</td>\n",
              "      <td>36 months</td>\n",
              "      <td>10.65</td>\n",
              "      <td>325.74</td>\n",
              "      <td>B</td>\n",
              "      <td>B2</td>\n",
              "      <td>...</td>\n",
              "      <td>0.4</td>\n",
              "      <td>1.0</td>\n",
              "      <td>1.0</td>\n",
              "      <td>1.0</td>\n",
              "      <td>0.0</td>\n",
              "      <td>3.90888</td>\n",
              "      <td>20141201T000000</td>\n",
              "      <td>1.0</td>\n",
              "      <td>1.0</td>\n",
              "      <td>1.0</td>\n",
              "    </tr>\n",
              "    <tr>\n",
              "      <th>...</th>\n",
              "      <td>...</td>\n",
              "      <td>...</td>\n",
              "      <td>...</td>\n",
              "      <td>...</td>\n",
              "      <td>...</td>\n",
              "      <td>...</td>\n",
              "      <td>...</td>\n",
              "      <td>...</td>\n",
              "      <td>...</td>\n",
              "      <td>...</td>\n",
              "      <td>...</td>\n",
              "      <td>...</td>\n",
              "      <td>...</td>\n",
              "      <td>...</td>\n",
              "      <td>...</td>\n",
              "      <td>...</td>\n",
              "      <td>...</td>\n",
              "      <td>...</td>\n",
              "      <td>...</td>\n",
              "      <td>...</td>\n",
              "      <td>...</td>\n",
              "    </tr>\n",
              "    <tr>\n",
              "      <th>21325</th>\n",
              "      <td>9815256</td>\n",
              "      <td>11667322</td>\n",
              "      <td>17000.0</td>\n",
              "      <td>17000.0</td>\n",
              "      <td>17000.0</td>\n",
              "      <td>60 months</td>\n",
              "      <td>15.61</td>\n",
              "      <td>409.90</td>\n",
              "      <td>C</td>\n",
              "      <td>C4</td>\n",
              "      <td>...</td>\n",
              "      <td>0.8</td>\n",
              "      <td>1.0</td>\n",
              "      <td>1.0</td>\n",
              "      <td>1.0</td>\n",
              "      <td>0.0</td>\n",
              "      <td>6.14850</td>\n",
              "      <td>20181201T000000</td>\n",
              "      <td>0.0</td>\n",
              "      <td>1.0</td>\n",
              "      <td>1.0</td>\n",
              "    </tr>\n",
              "    <tr>\n",
              "      <th>21326</th>\n",
              "      <td>6548871</td>\n",
              "      <td>8100956</td>\n",
              "      <td>16000.0</td>\n",
              "      <td>16000.0</td>\n",
              "      <td>16000.0</td>\n",
              "      <td>60 months</td>\n",
              "      <td>15.22</td>\n",
              "      <td>382.49</td>\n",
              "      <td>C</td>\n",
              "      <td>C3</td>\n",
              "      <td>...</td>\n",
              "      <td>0.6</td>\n",
              "      <td>1.0</td>\n",
              "      <td>1.0</td>\n",
              "      <td>1.0</td>\n",
              "      <td>0.0</td>\n",
              "      <td>7.75226</td>\n",
              "      <td>20180801T000000</td>\n",
              "      <td>1.0</td>\n",
              "      <td>1.0</td>\n",
              "      <td>1.0</td>\n",
              "    </tr>\n",
              "    <tr>\n",
              "      <th>21327</th>\n",
              "      <td>6316162</td>\n",
              "      <td>4671703</td>\n",
              "      <td>2200.0</td>\n",
              "      <td>2200.0</td>\n",
              "      <td>2200.0</td>\n",
              "      <td>36 months</td>\n",
              "      <td>13.05</td>\n",
              "      <td>74.18</td>\n",
              "      <td>B</td>\n",
              "      <td>B5</td>\n",
              "      <td>...</td>\n",
              "      <td>1.0</td>\n",
              "      <td>1.0</td>\n",
              "      <td>1.0</td>\n",
              "      <td>1.0</td>\n",
              "      <td>0.0</td>\n",
              "      <td>1.36948</td>\n",
              "      <td>20160701T000000</td>\n",
              "      <td>1.0</td>\n",
              "      <td>1.0</td>\n",
              "      <td>1.0</td>\n",
              "    </tr>\n",
              "    <tr>\n",
              "      <th>21328</th>\n",
              "      <td>521621</td>\n",
              "      <td>674547</td>\n",
              "      <td>25000.0</td>\n",
              "      <td>15625.0</td>\n",
              "      <td>15561.0</td>\n",
              "      <td>60 months</td>\n",
              "      <td>10.99</td>\n",
              "      <td>339.65</td>\n",
              "      <td>B</td>\n",
              "      <td>B4</td>\n",
              "      <td>...</td>\n",
              "      <td>0.8</td>\n",
              "      <td>1.0</td>\n",
              "      <td>1.0</td>\n",
              "      <td>1.0</td>\n",
              "      <td>0.0</td>\n",
              "      <td>5.50784</td>\n",
              "      <td>20150601T000000</td>\n",
              "      <td>1.0</td>\n",
              "      <td>1.0</td>\n",
              "      <td>1.0</td>\n",
              "    </tr>\n",
              "    <tr>\n",
              "      <th>21329</th>\n",
              "      <td>5949680</td>\n",
              "      <td>7422154</td>\n",
              "      <td>35000.0</td>\n",
              "      <td>35000.0</td>\n",
              "      <td>35000.0</td>\n",
              "      <td>60 months</td>\n",
              "      <td>22.70</td>\n",
              "      <td>980.65</td>\n",
              "      <td>E</td>\n",
              "      <td>E5</td>\n",
              "      <td>...</td>\n",
              "      <td>1.0</td>\n",
              "      <td>1.0</td>\n",
              "      <td>1.0</td>\n",
              "      <td>1.0</td>\n",
              "      <td>0.0</td>\n",
              "      <td>7.35487</td>\n",
              "      <td>20180701T000000</td>\n",
              "      <td>1.0</td>\n",
              "      <td>1.0</td>\n",
              "      <td>1.0</td>\n",
              "    </tr>\n",
              "  </tbody>\n",
              "</table>\n",
              "<p>21330 rows × 68 columns</p>\n",
              "</div>\n",
              "    <div class=\"colab-df-buttons\">\n",
              "\n",
              "  <div class=\"colab-df-container\">\n",
              "    <button class=\"colab-df-convert\" onclick=\"convertToInteractive('df-e3abda32-a4c4-46d2-930d-464c674038db')\"\n",
              "            title=\"Convert this dataframe to an interactive table.\"\n",
              "            style=\"display:none;\">\n",
              "\n",
              "  <svg xmlns=\"http://www.w3.org/2000/svg\" height=\"24px\" viewBox=\"0 -960 960 960\">\n",
              "    <path d=\"M120-120v-720h720v720H120Zm60-500h600v-160H180v160Zm220 220h160v-160H400v160Zm0 220h160v-160H400v160ZM180-400h160v-160H180v160Zm440 0h160v-160H620v160ZM180-180h160v-160H180v160Zm440 0h160v-160H620v160Z\"/>\n",
              "  </svg>\n",
              "    </button>\n",
              "\n",
              "  <style>\n",
              "    .colab-df-container {\n",
              "      display:flex;\n",
              "      gap: 12px;\n",
              "    }\n",
              "\n",
              "    .colab-df-convert {\n",
              "      background-color: #E8F0FE;\n",
              "      border: none;\n",
              "      border-radius: 50%;\n",
              "      cursor: pointer;\n",
              "      display: none;\n",
              "      fill: #1967D2;\n",
              "      height: 32px;\n",
              "      padding: 0 0 0 0;\n",
              "      width: 32px;\n",
              "    }\n",
              "\n",
              "    .colab-df-convert:hover {\n",
              "      background-color: #E2EBFA;\n",
              "      box-shadow: 0px 1px 2px rgba(60, 64, 67, 0.3), 0px 1px 3px 1px rgba(60, 64, 67, 0.15);\n",
              "      fill: #174EA6;\n",
              "    }\n",
              "\n",
              "    .colab-df-buttons div {\n",
              "      margin-bottom: 4px;\n",
              "    }\n",
              "\n",
              "    [theme=dark] .colab-df-convert {\n",
              "      background-color: #3B4455;\n",
              "      fill: #D2E3FC;\n",
              "    }\n",
              "\n",
              "    [theme=dark] .colab-df-convert:hover {\n",
              "      background-color: #434B5C;\n",
              "      box-shadow: 0px 1px 3px 1px rgba(0, 0, 0, 0.15);\n",
              "      filter: drop-shadow(0px 1px 2px rgba(0, 0, 0, 0.3));\n",
              "      fill: #FFFFFF;\n",
              "    }\n",
              "  </style>\n",
              "\n",
              "    <script>\n",
              "      const buttonEl =\n",
              "        document.querySelector('#df-e3abda32-a4c4-46d2-930d-464c674038db button.colab-df-convert');\n",
              "      buttonEl.style.display =\n",
              "        google.colab.kernel.accessAllowed ? 'block' : 'none';\n",
              "\n",
              "      async function convertToInteractive(key) {\n",
              "        const element = document.querySelector('#df-e3abda32-a4c4-46d2-930d-464c674038db');\n",
              "        const dataTable =\n",
              "          await google.colab.kernel.invokeFunction('convertToInteractive',\n",
              "                                                    [key], {});\n",
              "        if (!dataTable) return;\n",
              "\n",
              "        const docLinkHtml = 'Like what you see? Visit the ' +\n",
              "          '<a target=\"_blank\" href=https://colab.research.google.com/notebooks/data_table.ipynb>data table notebook</a>'\n",
              "          + ' to learn more about interactive tables.';\n",
              "        element.innerHTML = '';\n",
              "        dataTable['output_type'] = 'display_data';\n",
              "        await google.colab.output.renderOutput(dataTable, element);\n",
              "        const docLink = document.createElement('div');\n",
              "        docLink.innerHTML = docLinkHtml;\n",
              "        element.appendChild(docLink);\n",
              "      }\n",
              "    </script>\n",
              "  </div>\n",
              "\n",
              "\n",
              "<div id=\"df-b47bbd06-63a3-4a34-8c2f-5ffd164b930e\">\n",
              "  <button class=\"colab-df-quickchart\" onclick=\"quickchart('df-b47bbd06-63a3-4a34-8c2f-5ffd164b930e')\"\n",
              "            title=\"Suggest charts\"\n",
              "            style=\"display:none;\">\n",
              "\n",
              "<svg xmlns=\"http://www.w3.org/2000/svg\" height=\"24px\"viewBox=\"0 0 24 24\"\n",
              "     width=\"24px\">\n",
              "    <g>\n",
              "        <path d=\"M19 3H5c-1.1 0-2 .9-2 2v14c0 1.1.9 2 2 2h14c1.1 0 2-.9 2-2V5c0-1.1-.9-2-2-2zM9 17H7v-7h2v7zm4 0h-2V7h2v10zm4 0h-2v-4h2v4z\"/>\n",
              "    </g>\n",
              "</svg>\n",
              "  </button>\n",
              "\n",
              "<style>\n",
              "  .colab-df-quickchart {\n",
              "      --bg-color: #E8F0FE;\n",
              "      --fill-color: #1967D2;\n",
              "      --hover-bg-color: #E2EBFA;\n",
              "      --hover-fill-color: #174EA6;\n",
              "      --disabled-fill-color: #AAA;\n",
              "      --disabled-bg-color: #DDD;\n",
              "  }\n",
              "\n",
              "  [theme=dark] .colab-df-quickchart {\n",
              "      --bg-color: #3B4455;\n",
              "      --fill-color: #D2E3FC;\n",
              "      --hover-bg-color: #434B5C;\n",
              "      --hover-fill-color: #FFFFFF;\n",
              "      --disabled-bg-color: #3B4455;\n",
              "      --disabled-fill-color: #666;\n",
              "  }\n",
              "\n",
              "  .colab-df-quickchart {\n",
              "    background-color: var(--bg-color);\n",
              "    border: none;\n",
              "    border-radius: 50%;\n",
              "    cursor: pointer;\n",
              "    display: none;\n",
              "    fill: var(--fill-color);\n",
              "    height: 32px;\n",
              "    padding: 0;\n",
              "    width: 32px;\n",
              "  }\n",
              "\n",
              "  .colab-df-quickchart:hover {\n",
              "    background-color: var(--hover-bg-color);\n",
              "    box-shadow: 0 1px 2px rgba(60, 64, 67, 0.3), 0 1px 3px 1px rgba(60, 64, 67, 0.15);\n",
              "    fill: var(--button-hover-fill-color);\n",
              "  }\n",
              "\n",
              "  .colab-df-quickchart-complete:disabled,\n",
              "  .colab-df-quickchart-complete:disabled:hover {\n",
              "    background-color: var(--disabled-bg-color);\n",
              "    fill: var(--disabled-fill-color);\n",
              "    box-shadow: none;\n",
              "  }\n",
              "\n",
              "  .colab-df-spinner {\n",
              "    border: 2px solid var(--fill-color);\n",
              "    border-color: transparent;\n",
              "    border-bottom-color: var(--fill-color);\n",
              "    animation:\n",
              "      spin 1s steps(1) infinite;\n",
              "  }\n",
              "\n",
              "  @keyframes spin {\n",
              "    0% {\n",
              "      border-color: transparent;\n",
              "      border-bottom-color: var(--fill-color);\n",
              "      border-left-color: var(--fill-color);\n",
              "    }\n",
              "    20% {\n",
              "      border-color: transparent;\n",
              "      border-left-color: var(--fill-color);\n",
              "      border-top-color: var(--fill-color);\n",
              "    }\n",
              "    30% {\n",
              "      border-color: transparent;\n",
              "      border-left-color: var(--fill-color);\n",
              "      border-top-color: var(--fill-color);\n",
              "      border-right-color: var(--fill-color);\n",
              "    }\n",
              "    40% {\n",
              "      border-color: transparent;\n",
              "      border-right-color: var(--fill-color);\n",
              "      border-top-color: var(--fill-color);\n",
              "    }\n",
              "    60% {\n",
              "      border-color: transparent;\n",
              "      border-right-color: var(--fill-color);\n",
              "    }\n",
              "    80% {\n",
              "      border-color: transparent;\n",
              "      border-right-color: var(--fill-color);\n",
              "      border-bottom-color: var(--fill-color);\n",
              "    }\n",
              "    90% {\n",
              "      border-color: transparent;\n",
              "      border-bottom-color: var(--fill-color);\n",
              "    }\n",
              "  }\n",
              "</style>\n",
              "\n",
              "  <script>\n",
              "    async function quickchart(key) {\n",
              "      const quickchartButtonEl =\n",
              "        document.querySelector('#' + key + ' button');\n",
              "      quickchartButtonEl.disabled = true;  // To prevent multiple clicks.\n",
              "      quickchartButtonEl.classList.add('colab-df-spinner');\n",
              "      try {\n",
              "        const charts = await google.colab.kernel.invokeFunction(\n",
              "            'suggestCharts', [key], {});\n",
              "      } catch (error) {\n",
              "        console.error('Error during call to suggestCharts:', error);\n",
              "      }\n",
              "      quickchartButtonEl.classList.remove('colab-df-spinner');\n",
              "      quickchartButtonEl.classList.add('colab-df-quickchart-complete');\n",
              "    }\n",
              "    (() => {\n",
              "      let quickchartButtonEl =\n",
              "        document.querySelector('#df-b47bbd06-63a3-4a34-8c2f-5ffd164b930e button');\n",
              "      quickchartButtonEl.style.display =\n",
              "        google.colab.kernel.accessAllowed ? 'block' : 'none';\n",
              "    })();\n",
              "  </script>\n",
              "</div>\n",
              "\n",
              "  <div id=\"id_811824ff-eab8-4edd-93a4-b8e3e1d4517b\">\n",
              "    <style>\n",
              "      .colab-df-generate {\n",
              "        background-color: #E8F0FE;\n",
              "        border: none;\n",
              "        border-radius: 50%;\n",
              "        cursor: pointer;\n",
              "        display: none;\n",
              "        fill: #1967D2;\n",
              "        height: 32px;\n",
              "        padding: 0 0 0 0;\n",
              "        width: 32px;\n",
              "      }\n",
              "\n",
              "      .colab-df-generate:hover {\n",
              "        background-color: #E2EBFA;\n",
              "        box-shadow: 0px 1px 2px rgba(60, 64, 67, 0.3), 0px 1px 3px 1px rgba(60, 64, 67, 0.15);\n",
              "        fill: #174EA6;\n",
              "      }\n",
              "\n",
              "      [theme=dark] .colab-df-generate {\n",
              "        background-color: #3B4455;\n",
              "        fill: #D2E3FC;\n",
              "      }\n",
              "\n",
              "      [theme=dark] .colab-df-generate:hover {\n",
              "        background-color: #434B5C;\n",
              "        box-shadow: 0px 1px 3px 1px rgba(0, 0, 0, 0.15);\n",
              "        filter: drop-shadow(0px 1px 2px rgba(0, 0, 0, 0.3));\n",
              "        fill: #FFFFFF;\n",
              "      }\n",
              "    </style>\n",
              "    <button class=\"colab-df-generate\" onclick=\"generateWithVariable('loans_data')\"\n",
              "            title=\"Generate code using this dataframe.\"\n",
              "            style=\"display:none;\">\n",
              "\n",
              "  <svg xmlns=\"http://www.w3.org/2000/svg\" height=\"24px\"viewBox=\"0 0 24 24\"\n",
              "       width=\"24px\">\n",
              "    <path d=\"M7,19H8.4L18.45,9,17,7.55,7,17.6ZM5,21V16.75L18.45,3.32a2,2,0,0,1,2.83,0l1.4,1.43a1.91,1.91,0,0,1,.58,1.4,1.91,1.91,0,0,1-.58,1.4L9.25,21ZM18.45,9,17,7.55Zm-12,3A5.31,5.31,0,0,0,4.9,8.1,5.31,5.31,0,0,0,1,6.5,5.31,5.31,0,0,0,4.9,4.9,5.31,5.31,0,0,0,6.5,1,5.31,5.31,0,0,0,8.1,4.9,5.31,5.31,0,0,0,12,6.5,5.46,5.46,0,0,0,6.5,12Z\"/>\n",
              "  </svg>\n",
              "    </button>\n",
              "    <script>\n",
              "      (() => {\n",
              "      const buttonEl =\n",
              "        document.querySelector('#id_811824ff-eab8-4edd-93a4-b8e3e1d4517b button.colab-df-generate');\n",
              "      buttonEl.style.display =\n",
              "        google.colab.kernel.accessAllowed ? 'block' : 'none';\n",
              "\n",
              "      buttonEl.onclick = () => {\n",
              "        google.colab.notebook.generateWithVariable('loans_data');\n",
              "      }\n",
              "      })();\n",
              "    </script>\n",
              "  </div>\n",
              "\n",
              "    </div>\n",
              "  </div>\n"
            ],
            "application/vnd.google.colaboratory.intrinsic+json": {
              "type": "dataframe",
              "variable_name": "loans_data"
            }
          },
          "metadata": {},
          "execution_count": 9
        }
      ],
      "source": [
        "# Since there are fewer risky loans than safe loans, find the ratio of the sizes and use that percentage to undersample the safe loans.\n",
        "percentage = len(risky_loans_raw)/float(len(safe_loans_raw))\n",
        "risky_loans = risky_loans_raw\n",
        "safe_loans = safe_loans_raw.sample(frac = percentage, random_state = 1)\n",
        "\n",
        "# Append the risky_loans with the downsampled version of safe_loans\n",
        "loans_data = pd.concat([risky_loans, safe_loans], ignore_index=True)\n",
        "loans_data"
      ]
    },
    {
      "cell_type": "code",
      "execution_count": 10,
      "id": "c611329a-f3c1-4cd2-8182-0932a15df4a7",
      "metadata": {
        "colab": {
          "base_uri": "https://localhost:8080/"
        },
        "id": "c611329a-f3c1-4cd2-8182-0932a15df4a7",
        "outputId": "093af43d-f0a8-4001-cb57-6f6b8d17f066"
      },
      "outputs": [
        {
          "output_type": "stream",
          "name": "stdout",
          "text": [
            "Percentage of Safe Loans (0): 50.00%\n",
            "Percentage of Risky Loans (1): 50.00%\n"
          ]
        }
      ],
      "source": [
        "loan_counts2 = loans_data['bad_loans'].value_counts(normalize=True) * 100\n",
        "\n",
        "print(f\"Percentage of Safe Loans (0): {loan_counts2.get(0, 0):.2f}%\")\n",
        "print(f\"Percentage of Risky Loans (1): {loan_counts2.get(1, 0):.2f}%\")"
      ]
    },
    {
      "cell_type": "markdown",
      "id": "4b273f19-9c11-46f4-85ce-2e9643433b2b",
      "metadata": {
        "id": "4b273f19-9c11-46f4-85ce-2e9643433b2b"
      },
      "source": [
        "## Splitting the data"
      ]
    },
    {
      "cell_type": "code",
      "execution_count": 11,
      "id": "c78d1640-60cc-43b6-b001-dccf1a43242b",
      "metadata": {
        "id": "c78d1640-60cc-43b6-b001-dccf1a43242b"
      },
      "outputs": [],
      "source": [
        "X=loans_data[features]\n",
        "y=loans_data['bad_loans']"
      ]
    },
    {
      "cell_type": "code",
      "execution_count": 12,
      "id": "8f26c655-8e66-4917-a312-a61a8266e5a4",
      "metadata": {
        "id": "8f26c655-8e66-4917-a312-a61a8266e5a4"
      },
      "outputs": [],
      "source": [
        "from sklearn.model_selection import train_test_split\n",
        "X_trainval, X_test, y_trainval, y_test = train_test_split(X, y, test_size=0.1, random_state=0, stratify=loans_data['bad_loans'])\n",
        "X_train, X_val, y_train, y_val = train_test_split(X_trainval, y_trainval, test_size=0.2, random_state=0, stratify= y_trainval)"
      ]
    },
    {
      "cell_type": "markdown",
      "id": "6eef77e7-3a9f-4c2e-9b1a-1646d819e35d",
      "metadata": {
        "id": "6eef77e7-3a9f-4c2e-9b1a-1646d819e35d"
      },
      "source": [
        "## One Hot Encoding"
      ]
    },
    {
      "cell_type": "code",
      "execution_count": 13,
      "id": "76fec941-3b34-452e-8b12-f27c7af6bd95",
      "metadata": {
        "id": "76fec941-3b34-452e-8b12-f27c7af6bd95"
      },
      "outputs": [],
      "source": [
        "from sklearn.preprocessing import OneHotEncoder, StandardScaler\n",
        "from scipy import sparse"
      ]
    },
    {
      "cell_type": "code",
      "execution_count": 14,
      "id": "c738a90b-a51c-47ce-b32e-dcd129f97e56",
      "metadata": {
        "id": "c738a90b-a51c-47ce-b32e-dcd129f97e56"
      },
      "outputs": [],
      "source": [
        "#encoding for decision tree\n",
        "categorical_cols = ['grade', 'sub_grade', 'home_ownership', 'purpose', 'term','short_emp','last_delinq_none','last_major_derog_none']\n",
        "num_cols= [x for x in features if x not in categorical_cols]\n",
        "encoder = OneHotEncoder(drop='first', sparse_output=False)\n",
        "X_train_er = encoder.fit_transform(X_train[categorical_cols])\n",
        "X_val_er = encoder.transform(X_val[categorical_cols])\n",
        "X_test_er = encoder.transform(X_test[categorical_cols])\n",
        "\n",
        "scaler=StandardScaler()\n",
        "X_train_scaled= scaler.fit_transform(X_train[num_cols])\n",
        "X_val_scaled= scaler.transform(X_val[num_cols])\n",
        "X_test_scaled= scaler.transform(X_test[num_cols])\n",
        "\n",
        "#combining with num columns\n",
        "X_train_num = sparse.csr_matrix(X_train_scaled)\n",
        "X_val_num = sparse.csr_matrix(X_val_scaled)\n",
        "X_test_num = sparse.csr_matrix(X_test_scaled)\n",
        "X_train_en = sparse.hstack((X_train_er, X_train_num))\n",
        "X_val_en = sparse.hstack((X_val_er, X_val_num))\n",
        "X_test_en = sparse.hstack((X_test_er, X_test_num))"
      ]
    },
    {
      "cell_type": "markdown",
      "id": "202795de-d5b4-474e-8aad-a798f93e7090",
      "metadata": {
        "id": "202795de-d5b4-474e-8aad-a798f93e7090"
      },
      "source": [
        "# Build a MLP classifier\n",
        "Use 5-fold GridSearchCV on the train-validate set. Build a MLP classifier and based on accuracy\n",
        "compare hyperparameters in the following grid:\n",
        "hidden_layer_sizes: [(10,), (50,), (100,), (10, 10), (50, 50)]\n",
        "Report the best model (call it MODEL1)’s accuracy, precision, recall, F1-score, balanced\n",
        "accuracy, ROC-AUC on the test set. Plot the precision-recall curve and the ROC curve.\n",
        "Will you choose a different model (call it MODEL2) if the GridSearchCV comparison was based\n",
        "on ROC-AUC? Why?"
      ]
    },
    {
      "cell_type": "code",
      "execution_count": 15,
      "id": "2d1eb3e6-184c-4408-a4c9-7cf96bb07d87",
      "metadata": {
        "id": "2d1eb3e6-184c-4408-a4c9-7cf96bb07d87"
      },
      "outputs": [],
      "source": [
        "from sklearn.compose import make_column_transformer\n",
        "from sklearn.pipeline import make_pipeline\n",
        "from sklearn.neural_network import MLPClassifier\n",
        "from sklearn.model_selection import GridSearchCV"
      ]
    },
    {
      "cell_type": "code",
      "execution_count": 16,
      "id": "e7758155-d793-400f-a356-b0fdc1c6b5c2",
      "metadata": {
        "id": "e7758155-d793-400f-a356-b0fdc1c6b5c2"
      },
      "outputs": [],
      "source": [
        "col_trans=make_column_transformer((StandardScaler(), num_cols),(OneHotEncoder(drop='first', sparse_output=False), categorical_cols))"
      ]
    },
    {
      "cell_type": "code",
      "execution_count": 17,
      "id": "3c8574b4-6b0c-4f8d-b3fb-ed647278d27b",
      "metadata": {
        "id": "3c8574b4-6b0c-4f8d-b3fb-ed647278d27b"
      },
      "outputs": [],
      "source": [
        "pipe1=make_pipeline(col_trans,MLPClassifier(solver='lbfgs', random_state=0,max_iter=10000))"
      ]
    },
    {
      "cell_type": "code",
      "execution_count": 18,
      "id": "5e0ee83b-7b98-4c9f-a7b5-a7015c08e3fd",
      "metadata": {
        "id": "5e0ee83b-7b98-4c9f-a7b5-a7015c08e3fd"
      },
      "outputs": [],
      "source": [
        "param_grid= {'mlpclassifier__hidden_layer_sizes': [(10,), (50,), (100,), (10, 10), (50, 50)]} #(neurons_layer1,neurons_layer2,neurons_layer3...)"
      ]
    },
    {
      "cell_type": "code",
      "execution_count": 20,
      "id": "60ad6494-1cc9-479b-bca0-b5beac23238f",
      "metadata": {
        "id": "60ad6494-1cc9-479b-bca0-b5beac23238f"
      },
      "outputs": [],
      "source": [
        "grid1 = GridSearchCV(\n",
        "    pipe1,\n",
        "    param_grid=param_grid,\n",
        "    cv=5,\n",
        "    return_train_score=True,\n",
        "    scoring='accuracy',\n",
        "    n_jobs=-1,\n",
        "\n",
        ")\n"
      ]
    },
    {
      "cell_type": "code",
      "source": [
        "\n",
        "\n",
        "# Sample the data\n",
        "X_train_sample = X_train.sample(n=10000, random_state=0)\n",
        "y_train_sample = y_train.loc[X_train_sample.index]\n",
        "\n",
        "grid1.fit(X_train_sample, y_train_sample)\n",
        "print(f\"Best score from GridSearchCV: {grid1.best_score_}\")\n",
        "print(f\"Best parameters from GridSearchCV: {grid1.best_params_}\")\n"
      ],
      "metadata": {
        "id": "cXkYBvT-V-IP",
        "colab": {
          "base_uri": "https://localhost:8080/"
        },
        "outputId": "3cedbc9e-690f-40f9-c718-3284839b8604"
      },
      "id": "cXkYBvT-V-IP",
      "execution_count": 21,
      "outputs": [
        {
          "output_type": "stream",
          "name": "stdout",
          "text": [
            "Best score from GridSearchCV: 0.639\n",
            "Best parameters from GridSearchCV: {'mlpclassifier__hidden_layer_sizes': (10,)}\n"
          ]
        }
      ]
    },
    {
      "cell_type": "code",
      "source": [
        "\n",
        "\n",
        "import matplotlib.pyplot as plt\n",
        "\n",
        "# Get the best model\n",
        "MODEL1 = grid1.best_estimator_\n",
        "\n",
        "from sklearn.metrics import accuracy_score, precision_score, recall_score, f1_score, balanced_accuracy_score, roc_auc_score, precision_recall_curve, roc_curve, auc\n",
        "\n",
        "# Predict on the test set\n",
        "y_pred = MODEL1.predict(X_test)\n",
        "y_prob = MODEL1.predict_proba(X_test)[:, 1]\n",
        "\n",
        "# Calculate metrics\n",
        "accuracy = accuracy_score(y_test, y_pred)\n",
        "precision = precision_score(y_test, y_pred)\n",
        "recall = recall_score(y_test, y_pred)\n",
        "f1 = f1_score(y_test, y_pred)\n",
        "balanced_accuracy = balanced_accuracy_score(y_test, y_pred)\n",
        "roc_auc = roc_auc_score(y_test, y_prob)\n",
        "\n",
        "print(f\"Accuracy: {accuracy}\")\n",
        "print(f\"Precision: {precision}\")\n",
        "print(f\"Recall: {recall}\")\n",
        "print(f\"F1-score: {f1}\")\n",
        "print(f\"Balanced Accuracy: {balanced_accuracy}\")\n",
        "print(f\"ROC-AUC: {roc_auc}\")\n",
        "\n",
        "# Plot Precision-Recall Curve\n",
        "precision_curve, recall_curve, thresholds = precision_recall_curve(y_test, y_prob)\n",
        "plt.plot(recall_curve, precision_curve)\n",
        "plt.xlabel('Recall')\n",
        "plt.ylabel('Precision')\n",
        "plt.title('Precision-Recall Curve')\n",
        "plt.show()\n",
        "\n",
        "# Plot ROC Curve\n",
        "fpr, tpr, thresholds = roc_curve(y_test, y_prob)\n",
        "roc_auc = auc(fpr, tpr)\n",
        "plt.plot(fpr, tpr, label=f'ROC curve (area = {roc_auc:.2f})')\n",
        "plt.plot([0, 1], [0, 1], 'k--')\n",
        "plt.xlabel('False Positive Rate')\n",
        "plt.ylabel('True Positive Rate')\n",
        "plt.title('ROC Curve')\n",
        "plt.legend(loc=\"lower right\")\n",
        "plt.show()\n"
      ],
      "metadata": {
        "id": "NjWWLbQ_ZocP",
        "colab": {
          "base_uri": "https://localhost:8080/",
          "height": 1000
        },
        "outputId": "06f53094-2e8f-4234-aa78-8d70310587c0"
      },
      "id": "NjWWLbQ_ZocP",
      "execution_count": 23,
      "outputs": [
        {
          "output_type": "stream",
          "name": "stdout",
          "text": [
            "Accuracy: 0.6357243319268636\n",
            "Precision: 0.6331797235023041\n",
            "Recall: 0.6444652908067542\n",
            "F1-score: 0.6387726638772664\n",
            "Balanced Accuracy: 0.6357284279713247\n",
            "ROC-AUC: 0.6794021919744826\n"
          ]
        },
        {
          "output_type": "display_data",
          "data": {
            "text/plain": [
              "<Figure size 640x480 with 1 Axes>"
            ],
            "image/png": "[encoded data removed]"
          },
          "metadata": {}
        },
        {
          "output_type": "display_data",
          "data": {
            "text/plain": [
              "<Figure size 640x480 with 1 Axes>"
            ],
            "image/png": "[encoded data removed]"
          },
          "metadata": {}
        }
      ]
    },
    {
      "cell_type": "markdown",
      "source": [
        "#### Will you choose a different model (call it MODEL2) if the GridSearchCV comparison was based on ROC-AUC? Why?"
      ],
      "metadata": {
        "id": "cxFDtREPsnNq"
      },
      "id": "cxFDtREPsnNq"
    },
    {
      "cell_type": "markdown",
      "source": [
        "\n",
        "\n",
        "Yes,  if the comparison is made on ROC-AUC a different model (MODEL2) *might* be preferred, especially if the class distribution is imbalanced which it is in this case.  \n"
      ],
      "metadata": {
        "id": "3aUCxLgH8EnI"
      },
      "id": "3aUCxLgH8EnI"
    },
    {
      "cell_type": "code",
      "source": [
        "\n",
        "grid2 = GridSearchCV(\n",
        "    pipe1,\n",
        "    param_grid=param_grid,\n",
        "    cv=5,\n",
        "    return_train_score=True,\n",
        "    scoring='roc_auc',\n",
        "    n_jobs=-1,\n",
        ")\n",
        "\n",
        "# Sample the data\n",
        "X_train_sample = X_train.sample(n=10000, random_state=0)\n",
        "y_train_sample = y_train.loc[X_train_sample.index]\n",
        "\n",
        "grid2.fit(X_train_sample, y_train_sample)\n",
        "print(f\"Best score from GridSearchCV: {grid1.best_score_}\")\n",
        "print(f\"Best parameters from GridSearchCV: {grid1.best_params_}\")"
      ],
      "metadata": {
        "colab": {
          "base_uri": "https://localhost:8080/"
        },
        "id": "BdUSAx4Rx9-7",
        "outputId": "939af98d-959e-4907-9764-7e52bd47e95a"
      },
      "id": "BdUSAx4Rx9-7",
      "execution_count": 24,
      "outputs": [
        {
          "output_type": "stream",
          "name": "stdout",
          "text": [
            "Best score from GridSearchCV: 0.639\n",
            "Best parameters from GridSearchCV: {'mlpclassifier__hidden_layer_sizes': (10,)}\n"
          ]
        }
      ]
    },
    {
      "cell_type": "code",
      "source": [
        "\n",
        "# Get the best model\n",
        "MODEL2 = grid2.best_estimator_\n",
        "\n",
        "# Predict on the test set\n",
        "y_pred2 = MODEL2.predict(X_test)\n",
        "y_prob2 = MODEL2.predict_proba(X_test)[:, 1]\n",
        "\n",
        "# Calculate metrics for MODEL2\n",
        "accuracy2 = accuracy_score(y_test, y_pred2)\n",
        "precision2 = precision_score(y_test, y_pred2)\n",
        "recall2 = recall_score(y_test, y_pred2)\n",
        "f1_2 = f1_score(y_test, y_pred2)\n",
        "balanced_accuracy2 = balanced_accuracy_score(y_test, y_pred2)\n",
        "roc_auc2 = roc_auc_score(y_test, y_prob2)\n",
        "\n",
        "print(\"MODEL2 Metrics:\")\n",
        "print(f\"Accuracy: {accuracy2}\")\n",
        "print(f\"Precision: {precision2}\")\n",
        "print(f\"Recall: {recall2}\")\n",
        "print(f\"F1-score: {f1_2}\")\n",
        "print(f\"Balanced Accuracy: {balanced_accuracy2}\")\n",
        "print(f\"ROC-AUC: {roc_auc2}\")\n",
        "\n",
        "# Plot Precision-Recall Curve for MODEL2\n",
        "precision_curve2, recall_curve2, thresholds2 = precision_recall_curve(y_test, y_prob2)\n",
        "plt.plot(recall_curve2, precision_curve2)\n",
        "plt.xlabel('Recall')\n",
        "plt.ylabel('Precision')\n",
        "plt.title('Precision-Recall Curve (MODEL2)')\n",
        "plt.show()\n",
        "\n",
        "# Plot ROC Curve for MODEL2\n",
        "fpr2, tpr2, thresholds2 = roc_curve(y_test, y_prob2)\n",
        "roc_auc2 = auc(fpr2, tpr2)\n",
        "plt.plot(fpr2, tpr2, label=f'ROC curve (area = {roc_auc2:.2f})')\n",
        "plt.plot([0, 1], [0, 1], 'k--')\n",
        "plt.xlabel('False Positive Rate')\n",
        "plt.ylabel('True Positive Rate')\n",
        "plt.title('ROC Curve (MODEL2)')\n",
        "plt.legend(loc=\"lower right\")\n",
        "plt.show()\n",
        "\n"
      ],
      "metadata": {
        "id": "tzQ7M7RVr91r",
        "colab": {
          "base_uri": "https://localhost:8080/",
          "height": 1000
        },
        "outputId": "00a80692-d9f8-4346-f1f9-49d94970f9b3"
      },
      "id": "tzQ7M7RVr91r",
      "execution_count": 25,
      "outputs": [
        {
          "output_type": "stream",
          "name": "stdout",
          "text": [
            "MODEL2 Metrics:\n",
            "Accuracy: 0.6357243319268636\n",
            "Precision: 0.6331797235023041\n",
            "Recall: 0.6444652908067542\n",
            "F1-score: 0.6387726638772664\n",
            "Balanced Accuracy: 0.6357284279713247\n",
            "ROC-AUC: 0.6794021919744826\n"
          ]
        },
        {
          "output_type": "display_data",
          "data": {
            "text/plain": [
              "<Figure size 640x480 with 1 Axes>"
            ],
            "image/png": "[encoded data removed]"
          },
          "metadata": {}
        },
        {
          "output_type": "display_data",
          "data": {
            "text/plain": [
              "<Figure size 640x480 with 1 Axes>"
            ],
            "image/png": "[encoded data removed]"
          },
          "metadata": {}
        }
      ]
    },
    {
      "cell_type": "markdown",
      "id": "ea0e6fc2-b090-4834-a484-07ae1f67d6ed",
      "metadata": {
        "id": "ea0e6fc2-b090-4834-a484-07ae1f67d6ed"
      },
      "source": [
        "# Quantifying the cost of mistakes"
      ]
    },
    {
      "cell_type": "code",
      "execution_count": 40,
      "id": "121eeb6f-a78b-40c1-9e67-90058bade869",
      "metadata": {
        "id": "121eeb6f-a78b-40c1-9e67-90058bade869"
      },
      "outputs": [],
      "source": [
        "from sklearn.metrics import confusion_matrix\n",
        "predictions = MODEL2.predict(X_test)\n"
      ]
    },
    {
      "cell_type": "code",
      "source": [
        "\n",
        "confusion_matrix(y_test, predictions)"
      ],
      "metadata": {
        "colab": {
          "base_uri": "https://localhost:8080/"
        },
        "id": "y4r-Ktkz2fO6",
        "outputId": "6e17c827-dedf-4e0c-e28f-66c5617b9bc3"
      },
      "id": "y4r-Ktkz2fO6",
      "execution_count": 58,
      "outputs": [
        {
          "output_type": "execute_result",
          "data": {
            "text/plain": [
              "array([[669, 398],\n",
              "       [379, 687]])"
            ]
          },
          "metadata": {},
          "execution_count": 58
        }
      ]
    },
    {
      "cell_type": "code",
      "source": [
        "false_positive2 = 398\n",
        "false_negative2 = 370\n",
        "true_positive2 = 687\n",
        "true_negative2 = 669"
      ],
      "metadata": {
        "id": "7Ha0IPGm5N6V"
      },
      "id": "7Ha0IPGm5N6V",
      "execution_count": 59,
      "outputs": []
    },
    {
      "cell_type": "code",
      "execution_count": 57,
      "id": "33e60cd8-9333-419b-85d4-4ffd7f48fcac",
      "metadata": {
        "id": "33e60cd8-9333-419b-85d4-4ffd7f48fcac"
      },
      "outputs": [],
      "source": [
        "cost_of_mistakes = true_positive + false_positive\n",
        "\n"
      ]
    },
    {
      "cell_type": "code",
      "source": [
        "cost_of_mistakes"
      ],
      "metadata": {
        "colab": {
          "base_uri": "https://localhost:8080/"
        },
        "id": "4HKKK5Vk2sfw",
        "outputId": "0728c340-f571-4b79-deaf-c687cbfabe72"
      },
      "id": "4HKKK5Vk2sfw",
      "execution_count": 56,
      "outputs": [
        {
          "output_type": "execute_result",
          "data": {
            "text/plain": [
              "1085"
            ]
          },
          "metadata": {},
          "execution_count": 56
        }
      ]
    },
    {
      "cell_type": "markdown",
      "id": "9ec94b78-e096-4036-b809-6d3e900bdf67",
      "metadata": {
        "id": "9ec94b78-e096-4036-b809-6d3e900bdf67"
      },
      "source": [
        "## Finally, compute the cost of mistakes made by the model by adding up the costs of true positives and false positives.\n",
        "Let's assume that each mistake costs us money: a false negative costs 10,000 dollars, while a false\n",
        "positive costs 20,000 dollars . What is the total cost of mistakes made by MODEL1 and MODEL2 on\n",
        "the test data?"
      ]
    },
    {
      "cell_type": "code",
      "execution_count": 41,
      "id": "f9ee87d2-d6ee-4c38-823b-e19c0877dda1",
      "metadata": {
        "id": "f9ee87d2-d6ee-4c38-823b-e19c0877dda1"
      },
      "outputs": [],
      "source": [
        "model2_mistakes = (10000 * false_negative) + (20000 * false_positive)"
      ]
    },
    {
      "cell_type": "code",
      "execution_count": 42,
      "id": "0949c3e4-e0b5-4969-9808-2bb4340bb9a0",
      "metadata": {
        "colab": {
          "base_uri": "https://localhost:8080/"
        },
        "id": "0949c3e4-e0b5-4969-9808-2bb4340bb9a0",
        "outputId": "77ebdbde-56b2-4385-9799-3ed0799cb55d"
      },
      "outputs": [
        {
          "output_type": "stream",
          "name": "stdout",
          "text": [
            "Model 2 - total cost of mistakes: 11750000\n"
          ]
        }
      ],
      "source": [
        "print('Model 2 - total cost of mistakes:',model2_mistakes)"
      ]
    },
    {
      "cell_type": "code",
      "source": [
        "predictions1 = MODEL1.predict(X_test)"
      ],
      "metadata": {
        "id": "Hz1MCo2925EC"
      },
      "id": "Hz1MCo2925EC",
      "execution_count": 45,
      "outputs": []
    },
    {
      "cell_type": "code",
      "source": [
        "confusion_matrix(y_test, predictions1)"
      ],
      "metadata": {
        "colab": {
          "base_uri": "https://localhost:8080/"
        },
        "id": "qwIcsrTN242m",
        "outputId": "bc29bb1b-32ac-4a4a-9d32-57868e282347"
      },
      "id": "qwIcsrTN242m",
      "execution_count": 46,
      "outputs": [
        {
          "output_type": "execute_result",
          "data": {
            "text/plain": [
              "array([[669, 398],\n",
              "       [379, 687]])"
            ]
          },
          "metadata": {},
          "execution_count": 46
        }
      ]
    },
    {
      "cell_type": "code",
      "source": [
        "false_positive1 = 398\n",
        "false_negative1 = 379\n",
        "true_positive2 = 687\n",
        "true_negative2 = 669"
      ],
      "metadata": {
        "id": "xsOlyf9z6MwI"
      },
      "id": "xsOlyf9z6MwI",
      "execution_count": 48,
      "outputs": []
    },
    {
      "cell_type": "code",
      "source": [
        "MODEL1_mistakes = (10000 * false_negative1) + (20000 * false_positive1)"
      ],
      "metadata": {
        "id": "lso6P5yg2-BO"
      },
      "id": "lso6P5yg2-BO",
      "execution_count": 49,
      "outputs": []
    },
    {
      "cell_type": "code",
      "source": [
        "print('MODEL1 - total cost of mistakes:',MODEL1_mistakes)"
      ],
      "metadata": {
        "colab": {
          "base_uri": "https://localhost:8080/"
        },
        "id": "2evYV0zF3CTm",
        "outputId": "27bf33e3-f630-42e9-cf23-8badd84f48df"
      },
      "id": "2evYV0zF3CTm",
      "execution_count": 52,
      "outputs": [
        {
          "output_type": "stream",
          "name": "stdout",
          "text": [
            "MODEL1 - total cost of mistakes: 11750000\n"
          ]
        }
      ]
    },
    {
      "cell_type": "markdown",
      "source": [
        "The total cost of mistakes for model 2 is greater than model 1"
      ],
      "metadata": {
        "id": "V0vXHPbh7Aw8"
      },
      "id": "V0vXHPbh7Aw8"
    },
    {
      "cell_type": "markdown",
      "id": "b2014756-9dbd-4f7c-90a4-c772a71fd57e",
      "metadata": {
        "id": "b2014756-9dbd-4f7c-90a4-c772a71fd57e"
      },
      "source": [
        "# Optional Question\n",
        "Can you find another MLP classifier that generates a lower total cost of mistakes?"
      ]
    },
    {
      "cell_type": "code",
      "execution_count": null,
      "id": "635fcd58-58dc-4d97-8602-8b3369b16dd3",
      "metadata": {
        "id": "635fcd58-58dc-4d97-8602-8b3369b16dd3"
      },
      "outputs": [],
      "source": [
        "from itertools import product\n",
        "\n",
        "params_list= [(10,), (50,), (100,), (10, 10), (50, 50)]\n",
        "activation=['relu','tanh']\n",
        "best_model = None\n",
        "lowest_cost = float('inf')  # Start with a very high cost\n",
        "best_config = None"
      ]
    },
    {
      "cell_type": "code",
      "execution_count": null,
      "id": "700d47a4-a0ad-4279-9cae-cdca7bdb2bcd",
      "metadata": {
        "colab": {
          "base_uri": "https://localhost:8080/"
        },
        "id": "700d47a4-a0ad-4279-9cae-cdca7bdb2bcd",
        "outputId": "e553ea43-c419-47a5-ec71-a4fa6e2ba51a"
      },
      "outputs": [
        {
          "name": "stdout",
          "output_type": "stream",
          "text": [
            "The model with (10,) layer and activation function of relu has a cost of mistakes of 2340000\n",
            "The model with (10,) layer and activation function of tanh has a cost of mistakes of 2660000\n",
            "The model with (50,) layer and activation function of relu has a cost of mistakes of 2850000\n",
            "The model with (50,) layer and activation function of tanh has a cost of mistakes of 2770000\n",
            "The model with (100,) layer and activation function of relu has a cost of mistakes of 2990000\n",
            "The model with (100,) layer and activation function of tanh has a cost of mistakes of 2960000\n",
            "The model with (10, 10) layer and activation function of relu has a cost of mistakes of 2420000\n",
            "The model with (10, 10) layer and activation function of tanh has a cost of mistakes of 2720000\n",
            "The model with (50, 50) layer and activation function of relu has a cost of mistakes of 2960000\n",
            "The model with (50, 50) layer and activation function of tanh has a cost of mistakes of 2910000\n"
          ]
        }
      ],
      "source": [
        "for i,n in product(params_list, activation):\n",
        "    pipe=make_pipeline(col_trans,MLPClassifier(solver='adam', max_iter=10000, hidden_layer_sizes=i, activation=n))\n",
        "    model=pipe.fit(X_trainval,y_trainval)\n",
        "    pred=model.predict(X_test)\n",
        "    fp=np.sum((y_test==0)&(pred==1))\n",
        "    fn=np.sum((y_test==1)&(pred==0))\n",
        "    total_cost=fn*10000+fp*20000\n",
        "    print('The model with {} layer and activation function of {} has a cost of mistakes of {}'.format(i,n,total_cost))"
      ]
    },
    {
      "cell_type": "markdown",
      "id": "1c48e01f-d05c-4d28-ae62-a6a8186278cf",
      "metadata": {
        "id": "1c48e01f-d05c-4d28-ae62-a6a8186278cf"
      },
      "source": [
        "The model with (10,) layer and activation function of relu using adam solver has the lowest cost of mistakes out of tested models of 23,400,000, which will be a good model to lower cost of mistakes\n"
      ]
    },
    {
      "cell_type": "code",
      "execution_count": null,
      "id": "e9750808-b900-46eb-a443-65837033028e",
      "metadata": {
        "id": "e9750808-b900-46eb-a443-65837033028e"
      },
      "outputs": [],
      "source": []
    }
  ],
  "metadata": {
    "colab": {
      "gpuType": "T4",
      "provenance": []
    },
    "kernelspec": {
      "display_name": "Python 3",
      "name": "python3"
    },
    "language_info": {
      "codemirror_mode": {
        "name": "ipython",
        "version": 3
      },
      "file_extension": ".py",
      "mimetype": "text/x-python",
      "name": "python",
      "nbconvert_exporter": "python",
      "pygments_lexer": "ipython3",
      "version": "3.11.7"
    },
    "accelerator": "GPU"
  },
  "nbformat": 4,
  "nbformat_minor": 5
}