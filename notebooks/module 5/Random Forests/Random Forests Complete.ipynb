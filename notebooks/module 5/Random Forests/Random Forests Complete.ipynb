{
 "cells": [
  {
   "cell_type": "code",
   "execution_count": 1,
   "metadata": {},
   "outputs": [],
   "source": [
    "import numpy as np\n",
    "import matplotlib.pyplot as plt\n",
    "%matplotlib inline\n",
    "np.set_printoptions(precision=3)\n",
    "import pandas as pd\n",
    "from sklearn.model_selection import train_test_split\n",
    "from sklearn.pipeline import make_pipeline\n",
    "from sklearn.preprocessing import StandardScaler"
   ]
  },
  {
   "cell_type": "markdown",
   "metadata": {},
   "source": [
    "# Voting Classifier"
   ]
  },
  {
   "cell_type": "code",
   "execution_count": 2,
   "metadata": {},
   "outputs": [
    {
     "data": {
      "text/plain": [
       "VotingClassifier(estimators=[('logreg', LogisticRegression(C=100)),\n",
       "                             ('tree',\n",
       "                              DecisionTreeClassifier(max_depth=3,\n",
       "                                                     random_state=0))],\n",
       "                 voting='soft')"
      ]
     },
     "execution_count": 2,
     "metadata": {},
     "output_type": "execute_result"
    }
   ],
   "source": [
    "from sklearn.linear_model import LogisticRegression\n",
    "from sklearn.tree import DecisionTreeClassifier\n",
    "\n",
    "from sklearn.ensemble import VotingClassifier\n",
    "\n",
    "\n",
    "from sklearn.datasets import make_moons\n",
    "X, y = make_moons(n_samples=100, noise=.2, random_state=18) # carefully picked random state for illustration\n",
    "X_train, X_test, y_train, y_test = train_test_split(X, y, stratify=y, random_state=0)\n",
    "\n",
    "voting = VotingClassifier([('logreg', LogisticRegression(C=100)), \n",
    "                           ('tree', DecisionTreeClassifier(max_depth=3, random_state=0))],\n",
    "                         voting='soft')\n",
    "voting.fit(X_train, y_train)"
   ]
  },
  {
   "cell_type": "code",
   "execution_count": 3,
   "metadata": {},
   "outputs": [
    {
     "data": {
      "text/plain": [
       "0.84"
      ]
     },
     "execution_count": 3,
     "metadata": {},
     "output_type": "execute_result"
    }
   ],
   "source": [
    "voting.estimators_[0].score(X_test, y_test)"
   ]
  },
  {
   "cell_type": "code",
   "execution_count": 4,
   "metadata": {},
   "outputs": [
    {
     "data": {
      "text/plain": [
       "0.8"
      ]
     },
     "execution_count": 4,
     "metadata": {},
     "output_type": "execute_result"
    }
   ],
   "source": [
    "voting.estimators_[1].score(X_test, y_test)"
   ]
  },
  {
   "cell_type": "code",
   "execution_count": 5,
   "metadata": {},
   "outputs": [
    {
     "data": {
      "text/plain": [
       "0.88"
      ]
     },
     "execution_count": 5,
     "metadata": {},
     "output_type": "execute_result"
    }
   ],
   "source": [
    "voting.score(X_test, y_test)"
   ]
  },
  {
   "cell_type": "markdown",
   "metadata": {},
   "source": [
    "# Random Forests"
   ]
  },
  {
   "cell_type": "code",
   "execution_count": 6,
   "metadata": {},
   "outputs": [],
   "source": [
    "from sklearn.ensemble import RandomForestClassifier\n",
    "from sklearn.datasets import load_digits\n",
    "digits = load_digits()\n",
    "X_train, X_test, y_train, y_test = train_test_split(digits.data, digits.target, stratify=digits.target, random_state=0)"
   ]
  },
  {
   "cell_type": "code",
   "execution_count": 7,
   "metadata": {},
   "outputs": [],
   "source": [
    "train_scores = []\n",
    "test_scores = []\n",
    "oob_scores = []\n",
    "\n",
    "feature_range = range(1, 64, 5)\n",
    "for max_features in feature_range:\n",
    "    rf = RandomForestClassifier(max_features=max_features, oob_score=True, n_estimators=200, random_state=0)\n",
    "    rf.fit(X_train, y_train)\n",
    "    train_scores.append(rf.score(X_train, y_train))\n",
    "    test_scores.append(rf.score(X_test, y_test))\n",
    "    oob_scores.append(rf.oob_score_)"
   ]
  },
  {
   "cell_type": "code",
   "execution_count": 8,
   "metadata": {},
   "outputs": [
    {
     "data": {
      "text/plain": [
       "Text(0.5, 0, 'max_features')"
      ]
     },
     "execution_count": 8,
     "metadata": {},
     "output_type": "execute_result"
    },
    {
     "data": {
      "image/png": "[encoded data removed]",
      "text/plain": [
       "<Figure size 432x288 with 1 Axes>"
      ]
     },
     "metadata": {
      "needs_background": "light"
     },
     "output_type": "display_data"
    }
   ],
   "source": [
    "plt.plot(feature_range, test_scores, label=\"test scores\")\n",
    "plt.plot(feature_range, oob_scores, label=\"oob_scores scores\")\n",
    "plt.plot(feature_range, train_scores, label=\"train scores\")\n",
    "plt.legend()\n",
    "plt.ylabel(\"accuracy\")\n",
    "plt.xlabel(\"max_features\")"
   ]
  },
  {
   "cell_type": "code",
   "execution_count": 9,
   "metadata": {},
   "outputs": [],
   "source": [
    "rf = RandomForestClassifier().fit(X_train, y_train)"
   ]
  },
  {
   "cell_type": "code",
   "execution_count": 10,
   "metadata": {},
   "outputs": [
    {
     "data": {
      "text/plain": [
       "0.9688888888888889"
      ]
     },
     "execution_count": 10,
     "metadata": {},
     "output_type": "execute_result"
    }
   ],
   "source": [
    "rf.score(X_test, y_test)"
   ]
  },
  {
   "cell_type": "code",
   "execution_count": 11,
   "metadata": {},
   "outputs": [
    {
     "data": {
      "text/plain": [
       "{'max_features': [4, 8, 12, 16, 20], 'max_depth': [6, 8, 10, 12, 14]}"
      ]
     },
     "execution_count": 11,
     "metadata": {},
     "output_type": "execute_result"
    }
   ],
   "source": [
    "np.set_printoptions(precision=6, suppress=True)\n",
    "param_grid = {'max_features': [4,8,12,16,20],\n",
    "              'max_depth': [6,8,10,12,14]}\n",
    "param_grid"
   ]
  },
  {
   "cell_type": "code",
   "execution_count": 12,
   "metadata": {},
   "outputs": [
    {
     "data": {
      "text/plain": [
       "GridSearchCV(cv=10, estimator=RandomForestClassifier(),\n",
       "             param_grid={'max_depth': [6, 8, 10, 12, 14],\n",
       "                         'max_features': [4, 8, 12, 16, 20]},\n",
       "             return_train_score=True)"
      ]
     },
     "execution_count": 12,
     "metadata": {},
     "output_type": "execute_result"
    }
   ],
   "source": [
    "from sklearn.model_selection import GridSearchCV\n",
    "\n",
    "grid = GridSearchCV(rf, param_grid=param_grid, cv=10, return_train_score=True)\n",
    "grid.fit(X_train, y_train)"
   ]
  },
  {
   "cell_type": "code",
   "execution_count": 13,
   "metadata": {},
   "outputs": [
    {
     "data": {
      "text/html": [
       "<div>\n",
       "<style scoped>\n",
       "    .dataframe tbody tr th:only-of-type {\n",
       "        vertical-align: middle;\n",
       "    }\n",
       "\n",
       "    .dataframe tbody tr th {\n",
       "        vertical-align: top;\n",
       "    }\n",
       "\n",
       "    .dataframe thead th {\n",
       "        text-align: right;\n",
       "    }\n",
       "</style>\n",
       "<table border=\"1\" class=\"dataframe\">\n",
       "  <thead>\n",
       "    <tr style=\"text-align: right;\">\n",
       "      <th></th>\n",
       "      <th>mean_fit_time</th>\n",
       "      <th>std_fit_time</th>\n",
       "      <th>mean_score_time</th>\n",
       "      <th>std_score_time</th>\n",
       "      <th>param_max_depth</th>\n",
       "      <th>param_max_features</th>\n",
       "      <th>params</th>\n",
       "      <th>split0_test_score</th>\n",
       "      <th>split1_test_score</th>\n",
       "      <th>split2_test_score</th>\n",
       "      <th>...</th>\n",
       "      <th>split2_train_score</th>\n",
       "      <th>split3_train_score</th>\n",
       "      <th>split4_train_score</th>\n",
       "      <th>split5_train_score</th>\n",
       "      <th>split6_train_score</th>\n",
       "      <th>split7_train_score</th>\n",
       "      <th>split8_train_score</th>\n",
       "      <th>split9_train_score</th>\n",
       "      <th>mean_train_score</th>\n",
       "      <th>std_train_score</th>\n",
       "    </tr>\n",
       "  </thead>\n",
       "  <tbody>\n",
       "    <tr>\n",
       "      <th>0</th>\n",
       "      <td>0.252962</td>\n",
       "      <td>0.027001</td>\n",
       "      <td>0.014865</td>\n",
       "      <td>0.001754</td>\n",
       "      <td>6</td>\n",
       "      <td>4</td>\n",
       "      <td>{'max_depth': 6, 'max_features': 4}</td>\n",
       "      <td>0.933333</td>\n",
       "      <td>0.970370</td>\n",
       "      <td>0.962963</td>\n",
       "      <td>...</td>\n",
       "      <td>0.985149</td>\n",
       "      <td>0.987624</td>\n",
       "      <td>0.989274</td>\n",
       "      <td>0.989274</td>\n",
       "      <td>0.988449</td>\n",
       "      <td>0.986810</td>\n",
       "      <td>0.987634</td>\n",
       "      <td>0.987634</td>\n",
       "      <td>0.987709</td>\n",
       "      <td>0.001352</td>\n",
       "    </tr>\n",
       "    <tr>\n",
       "      <th>1</th>\n",
       "      <td>0.314920</td>\n",
       "      <td>0.035909</td>\n",
       "      <td>0.014657</td>\n",
       "      <td>0.001405</td>\n",
       "      <td>6</td>\n",
       "      <td>8</td>\n",
       "      <td>{'max_depth': 6, 'max_features': 8}</td>\n",
       "      <td>0.925926</td>\n",
       "      <td>0.977778</td>\n",
       "      <td>0.977778</td>\n",
       "      <td>...</td>\n",
       "      <td>0.988449</td>\n",
       "      <td>0.987624</td>\n",
       "      <td>0.990099</td>\n",
       "      <td>0.988449</td>\n",
       "      <td>0.990924</td>\n",
       "      <td>0.988458</td>\n",
       "      <td>0.987634</td>\n",
       "      <td>0.987634</td>\n",
       "      <td>0.988699</td>\n",
       "      <td>0.001381</td>\n",
       "    </tr>\n",
       "    <tr>\n",
       "      <th>2</th>\n",
       "      <td>0.331848</td>\n",
       "      <td>0.026541</td>\n",
       "      <td>0.013864</td>\n",
       "      <td>0.001636</td>\n",
       "      <td>6</td>\n",
       "      <td>12</td>\n",
       "      <td>{'max_depth': 6, 'max_features': 12}</td>\n",
       "      <td>0.940741</td>\n",
       "      <td>0.985185</td>\n",
       "      <td>0.977778</td>\n",
       "      <td>...</td>\n",
       "      <td>0.985149</td>\n",
       "      <td>0.990924</td>\n",
       "      <td>0.987624</td>\n",
       "      <td>0.987624</td>\n",
       "      <td>0.985974</td>\n",
       "      <td>0.987634</td>\n",
       "      <td>0.990932</td>\n",
       "      <td>0.987634</td>\n",
       "      <td>0.988204</td>\n",
       "      <td>0.001847</td>\n",
       "    </tr>\n",
       "    <tr>\n",
       "      <th>3</th>\n",
       "      <td>0.358675</td>\n",
       "      <td>0.022055</td>\n",
       "      <td>0.012467</td>\n",
       "      <td>0.001496</td>\n",
       "      <td>6</td>\n",
       "      <td>16</td>\n",
       "      <td>{'max_depth': 6, 'max_features': 16}</td>\n",
       "      <td>0.896296</td>\n",
       "      <td>0.977778</td>\n",
       "      <td>0.955556</td>\n",
       "      <td>...</td>\n",
       "      <td>0.981023</td>\n",
       "      <td>0.980198</td>\n",
       "      <td>0.985974</td>\n",
       "      <td>0.988449</td>\n",
       "      <td>0.981848</td>\n",
       "      <td>0.985161</td>\n",
       "      <td>0.989283</td>\n",
       "      <td>0.985161</td>\n",
       "      <td>0.984492</td>\n",
       "      <td>0.003107</td>\n",
       "    </tr>\n",
       "    <tr>\n",
       "      <th>4</th>\n",
       "      <td>0.416154</td>\n",
       "      <td>0.024238</td>\n",
       "      <td>0.013259</td>\n",
       "      <td>0.001726</td>\n",
       "      <td>6</td>\n",
       "      <td>20</td>\n",
       "      <td>{'max_depth': 6, 'max_features': 20}</td>\n",
       "      <td>0.911111</td>\n",
       "      <td>0.970370</td>\n",
       "      <td>0.955556</td>\n",
       "      <td>...</td>\n",
       "      <td>0.984323</td>\n",
       "      <td>0.981848</td>\n",
       "      <td>0.981848</td>\n",
       "      <td>0.983498</td>\n",
       "      <td>0.985149</td>\n",
       "      <td>0.983512</td>\n",
       "      <td>0.984336</td>\n",
       "      <td>0.985985</td>\n",
       "      <td>0.983832</td>\n",
       "      <td>0.001779</td>\n",
       "    </tr>\n",
       "    <tr>\n",
       "      <th>5</th>\n",
       "      <td>0.276023</td>\n",
       "      <td>0.034418</td>\n",
       "      <td>0.014559</td>\n",
       "      <td>0.002891</td>\n",
       "      <td>8</td>\n",
       "      <td>4</td>\n",
       "      <td>{'max_depth': 8, 'max_features': 4}</td>\n",
       "      <td>0.948148</td>\n",
       "      <td>0.970370</td>\n",
       "      <td>0.985185</td>\n",
       "      <td>...</td>\n",
       "      <td>0.998350</td>\n",
       "      <td>0.998350</td>\n",
       "      <td>1.000000</td>\n",
       "      <td>0.999175</td>\n",
       "      <td>0.998350</td>\n",
       "      <td>0.999176</td>\n",
       "      <td>0.999176</td>\n",
       "      <td>0.997527</td>\n",
       "      <td>0.998680</td>\n",
       "      <td>0.000660</td>\n",
       "    </tr>\n",
       "    <tr>\n",
       "      <th>6</th>\n",
       "      <td>0.347245</td>\n",
       "      <td>0.028807</td>\n",
       "      <td>0.015470</td>\n",
       "      <td>0.002201</td>\n",
       "      <td>8</td>\n",
       "      <td>8</td>\n",
       "      <td>{'max_depth': 8, 'max_features': 8}</td>\n",
       "      <td>0.955556</td>\n",
       "      <td>0.985185</td>\n",
       "      <td>0.977778</td>\n",
       "      <td>...</td>\n",
       "      <td>1.000000</td>\n",
       "      <td>0.998350</td>\n",
       "      <td>0.999175</td>\n",
       "      <td>0.999175</td>\n",
       "      <td>1.000000</td>\n",
       "      <td>1.000000</td>\n",
       "      <td>1.000000</td>\n",
       "      <td>0.999176</td>\n",
       "      <td>0.999588</td>\n",
       "      <td>0.000553</td>\n",
       "    </tr>\n",
       "    <tr>\n",
       "      <th>7</th>\n",
       "      <td>0.341287</td>\n",
       "      <td>0.010009</td>\n",
       "      <td>0.012168</td>\n",
       "      <td>0.000598</td>\n",
       "      <td>8</td>\n",
       "      <td>12</td>\n",
       "      <td>{'max_depth': 8, 'max_features': 12}</td>\n",
       "      <td>0.940741</td>\n",
       "      <td>0.977778</td>\n",
       "      <td>0.992593</td>\n",
       "      <td>...</td>\n",
       "      <td>0.998350</td>\n",
       "      <td>0.998350</td>\n",
       "      <td>0.998350</td>\n",
       "      <td>0.999175</td>\n",
       "      <td>0.997525</td>\n",
       "      <td>0.999176</td>\n",
       "      <td>0.999176</td>\n",
       "      <td>0.999176</td>\n",
       "      <td>0.998845</td>\n",
       "      <td>0.000660</td>\n",
       "    </tr>\n",
       "    <tr>\n",
       "      <th>8</th>\n",
       "      <td>0.392899</td>\n",
       "      <td>0.010695</td>\n",
       "      <td>0.012428</td>\n",
       "      <td>0.000837</td>\n",
       "      <td>8</td>\n",
       "      <td>16</td>\n",
       "      <td>{'max_depth': 8, 'max_features': 16}</td>\n",
       "      <td>0.962963</td>\n",
       "      <td>0.985185</td>\n",
       "      <td>0.985185</td>\n",
       "      <td>...</td>\n",
       "      <td>0.999175</td>\n",
       "      <td>0.999175</td>\n",
       "      <td>1.000000</td>\n",
       "      <td>0.998350</td>\n",
       "      <td>0.999175</td>\n",
       "      <td>0.999176</td>\n",
       "      <td>1.000000</td>\n",
       "      <td>1.000000</td>\n",
       "      <td>0.999423</td>\n",
       "      <td>0.000528</td>\n",
       "    </tr>\n",
       "    <tr>\n",
       "      <th>9</th>\n",
       "      <td>0.448496</td>\n",
       "      <td>0.018929</td>\n",
       "      <td>0.012467</td>\n",
       "      <td>0.000804</td>\n",
       "      <td>8</td>\n",
       "      <td>20</td>\n",
       "      <td>{'max_depth': 8, 'max_features': 20}</td>\n",
       "      <td>0.955556</td>\n",
       "      <td>0.985185</td>\n",
       "      <td>0.977778</td>\n",
       "      <td>...</td>\n",
       "      <td>0.999175</td>\n",
       "      <td>0.999175</td>\n",
       "      <td>1.000000</td>\n",
       "      <td>0.999175</td>\n",
       "      <td>0.999175</td>\n",
       "      <td>0.999176</td>\n",
       "      <td>1.000000</td>\n",
       "      <td>1.000000</td>\n",
       "      <td>0.999505</td>\n",
       "      <td>0.000404</td>\n",
       "    </tr>\n",
       "    <tr>\n",
       "      <th>10</th>\n",
       "      <td>0.249585</td>\n",
       "      <td>0.010038</td>\n",
       "      <td>0.012965</td>\n",
       "      <td>0.000892</td>\n",
       "      <td>10</td>\n",
       "      <td>4</td>\n",
       "      <td>{'max_depth': 10, 'max_features': 4}</td>\n",
       "      <td>0.948148</td>\n",
       "      <td>1.000000</td>\n",
       "      <td>0.992593</td>\n",
       "      <td>...</td>\n",
       "      <td>1.000000</td>\n",
       "      <td>1.000000</td>\n",
       "      <td>1.000000</td>\n",
       "      <td>1.000000</td>\n",
       "      <td>1.000000</td>\n",
       "      <td>1.000000</td>\n",
       "      <td>1.000000</td>\n",
       "      <td>1.000000</td>\n",
       "      <td>1.000000</td>\n",
       "      <td>0.000000</td>\n",
       "    </tr>\n",
       "    <tr>\n",
       "      <th>11</th>\n",
       "      <td>0.309861</td>\n",
       "      <td>0.010765</td>\n",
       "      <td>0.013564</td>\n",
       "      <td>0.001681</td>\n",
       "      <td>10</td>\n",
       "      <td>8</td>\n",
       "      <td>{'max_depth': 10, 'max_features': 8}</td>\n",
       "      <td>0.940741</td>\n",
       "      <td>0.985185</td>\n",
       "      <td>0.992593</td>\n",
       "      <td>...</td>\n",
       "      <td>1.000000</td>\n",
       "      <td>1.000000</td>\n",
       "      <td>1.000000</td>\n",
       "      <td>1.000000</td>\n",
       "      <td>1.000000</td>\n",
       "      <td>1.000000</td>\n",
       "      <td>1.000000</td>\n",
       "      <td>1.000000</td>\n",
       "      <td>1.000000</td>\n",
       "      <td>0.000000</td>\n",
       "    </tr>\n",
       "    <tr>\n",
       "      <th>12</th>\n",
       "      <td>0.352155</td>\n",
       "      <td>0.007870</td>\n",
       "      <td>0.012141</td>\n",
       "      <td>0.000818</td>\n",
       "      <td>10</td>\n",
       "      <td>12</td>\n",
       "      <td>{'max_depth': 10, 'max_features': 12}</td>\n",
       "      <td>0.948148</td>\n",
       "      <td>0.985185</td>\n",
       "      <td>0.985185</td>\n",
       "      <td>...</td>\n",
       "      <td>1.000000</td>\n",
       "      <td>1.000000</td>\n",
       "      <td>1.000000</td>\n",
       "      <td>1.000000</td>\n",
       "      <td>1.000000</td>\n",
       "      <td>1.000000</td>\n",
       "      <td>1.000000</td>\n",
       "      <td>1.000000</td>\n",
       "      <td>1.000000</td>\n",
       "      <td>0.000000</td>\n",
       "    </tr>\n",
       "    <tr>\n",
       "      <th>13</th>\n",
       "      <td>0.410756</td>\n",
       "      <td>0.008046</td>\n",
       "      <td>0.012273</td>\n",
       "      <td>0.000637</td>\n",
       "      <td>10</td>\n",
       "      <td>16</td>\n",
       "      <td>{'max_depth': 10, 'max_features': 16}</td>\n",
       "      <td>0.955556</td>\n",
       "      <td>0.992593</td>\n",
       "      <td>0.985185</td>\n",
       "      <td>...</td>\n",
       "      <td>1.000000</td>\n",
       "      <td>1.000000</td>\n",
       "      <td>1.000000</td>\n",
       "      <td>1.000000</td>\n",
       "      <td>1.000000</td>\n",
       "      <td>1.000000</td>\n",
       "      <td>1.000000</td>\n",
       "      <td>1.000000</td>\n",
       "      <td>1.000000</td>\n",
       "      <td>0.000000</td>\n",
       "    </tr>\n",
       "    <tr>\n",
       "      <th>14</th>\n",
       "      <td>0.462528</td>\n",
       "      <td>0.016730</td>\n",
       "      <td>0.012467</td>\n",
       "      <td>0.000804</td>\n",
       "      <td>10</td>\n",
       "      <td>20</td>\n",
       "      <td>{'max_depth': 10, 'max_features': 20}</td>\n",
       "      <td>0.955556</td>\n",
       "      <td>0.992593</td>\n",
       "      <td>0.977778</td>\n",
       "      <td>...</td>\n",
       "      <td>1.000000</td>\n",
       "      <td>1.000000</td>\n",
       "      <td>1.000000</td>\n",
       "      <td>1.000000</td>\n",
       "      <td>1.000000</td>\n",
       "      <td>1.000000</td>\n",
       "      <td>1.000000</td>\n",
       "      <td>1.000000</td>\n",
       "      <td>1.000000</td>\n",
       "      <td>0.000000</td>\n",
       "    </tr>\n",
       "    <tr>\n",
       "      <th>15</th>\n",
       "      <td>0.253364</td>\n",
       "      <td>0.009514</td>\n",
       "      <td>0.013043</td>\n",
       "      <td>0.000546</td>\n",
       "      <td>12</td>\n",
       "      <td>4</td>\n",
       "      <td>{'max_depth': 12, 'max_features': 4}</td>\n",
       "      <td>0.948148</td>\n",
       "      <td>0.992593</td>\n",
       "      <td>0.992593</td>\n",
       "      <td>...</td>\n",
       "      <td>1.000000</td>\n",
       "      <td>1.000000</td>\n",
       "      <td>1.000000</td>\n",
       "      <td>1.000000</td>\n",
       "      <td>1.000000</td>\n",
       "      <td>1.000000</td>\n",
       "      <td>1.000000</td>\n",
       "      <td>1.000000</td>\n",
       "      <td>1.000000</td>\n",
       "      <td>0.000000</td>\n",
       "    </tr>\n",
       "    <tr>\n",
       "      <th>16</th>\n",
       "      <td>0.301648</td>\n",
       "      <td>0.005823</td>\n",
       "      <td>0.012663</td>\n",
       "      <td>0.000455</td>\n",
       "      <td>12</td>\n",
       "      <td>8</td>\n",
       "      <td>{'max_depth': 12, 'max_features': 8}</td>\n",
       "      <td>0.955556</td>\n",
       "      <td>0.985185</td>\n",
       "      <td>0.992593</td>\n",
       "      <td>...</td>\n",
       "      <td>1.000000</td>\n",
       "      <td>1.000000</td>\n",
       "      <td>1.000000</td>\n",
       "      <td>1.000000</td>\n",
       "      <td>1.000000</td>\n",
       "      <td>1.000000</td>\n",
       "      <td>1.000000</td>\n",
       "      <td>1.000000</td>\n",
       "      <td>1.000000</td>\n",
       "      <td>0.000000</td>\n",
       "    </tr>\n",
       "    <tr>\n",
       "      <th>17</th>\n",
       "      <td>0.354498</td>\n",
       "      <td>0.009118</td>\n",
       "      <td>0.011968</td>\n",
       "      <td>0.000447</td>\n",
       "      <td>12</td>\n",
       "      <td>12</td>\n",
       "      <td>{'max_depth': 12, 'max_features': 12}</td>\n",
       "      <td>0.962963</td>\n",
       "      <td>0.985185</td>\n",
       "      <td>0.992593</td>\n",
       "      <td>...</td>\n",
       "      <td>1.000000</td>\n",
       "      <td>1.000000</td>\n",
       "      <td>1.000000</td>\n",
       "      <td>1.000000</td>\n",
       "      <td>1.000000</td>\n",
       "      <td>1.000000</td>\n",
       "      <td>1.000000</td>\n",
       "      <td>1.000000</td>\n",
       "      <td>1.000000</td>\n",
       "      <td>0.000000</td>\n",
       "    </tr>\n",
       "    <tr>\n",
       "      <th>18</th>\n",
       "      <td>0.410016</td>\n",
       "      <td>0.026276</td>\n",
       "      <td>0.011969</td>\n",
       "      <td>0.000773</td>\n",
       "      <td>12</td>\n",
       "      <td>16</td>\n",
       "      <td>{'max_depth': 12, 'max_features': 16}</td>\n",
       "      <td>0.955556</td>\n",
       "      <td>0.992593</td>\n",
       "      <td>1.000000</td>\n",
       "      <td>...</td>\n",
       "      <td>1.000000</td>\n",
       "      <td>1.000000</td>\n",
       "      <td>1.000000</td>\n",
       "      <td>1.000000</td>\n",
       "      <td>1.000000</td>\n",
       "      <td>1.000000</td>\n",
       "      <td>1.000000</td>\n",
       "      <td>1.000000</td>\n",
       "      <td>1.000000</td>\n",
       "      <td>0.000000</td>\n",
       "    </tr>\n",
       "    <tr>\n",
       "      <th>19</th>\n",
       "      <td>0.503851</td>\n",
       "      <td>0.049167</td>\n",
       "      <td>0.013863</td>\n",
       "      <td>0.004748</td>\n",
       "      <td>12</td>\n",
       "      <td>20</td>\n",
       "      <td>{'max_depth': 12, 'max_features': 20}</td>\n",
       "      <td>0.970370</td>\n",
       "      <td>0.992593</td>\n",
       "      <td>1.000000</td>\n",
       "      <td>...</td>\n",
       "      <td>1.000000</td>\n",
       "      <td>1.000000</td>\n",
       "      <td>1.000000</td>\n",
       "      <td>1.000000</td>\n",
       "      <td>1.000000</td>\n",
       "      <td>1.000000</td>\n",
       "      <td>1.000000</td>\n",
       "      <td>1.000000</td>\n",
       "      <td>1.000000</td>\n",
       "      <td>0.000000</td>\n",
       "    </tr>\n",
       "    <tr>\n",
       "      <th>20</th>\n",
       "      <td>0.248353</td>\n",
       "      <td>0.007291</td>\n",
       "      <td>0.012401</td>\n",
       "      <td>0.000531</td>\n",
       "      <td>14</td>\n",
       "      <td>4</td>\n",
       "      <td>{'max_depth': 14, 'max_features': 4}</td>\n",
       "      <td>0.962963</td>\n",
       "      <td>1.000000</td>\n",
       "      <td>0.985185</td>\n",
       "      <td>...</td>\n",
       "      <td>1.000000</td>\n",
       "      <td>1.000000</td>\n",
       "      <td>1.000000</td>\n",
       "      <td>1.000000</td>\n",
       "      <td>1.000000</td>\n",
       "      <td>1.000000</td>\n",
       "      <td>1.000000</td>\n",
       "      <td>1.000000</td>\n",
       "      <td>1.000000</td>\n",
       "      <td>0.000000</td>\n",
       "    </tr>\n",
       "    <tr>\n",
       "      <th>21</th>\n",
       "      <td>0.321312</td>\n",
       "      <td>0.039202</td>\n",
       "      <td>0.013528</td>\n",
       "      <td>0.002539</td>\n",
       "      <td>14</td>\n",
       "      <td>8</td>\n",
       "      <td>{'max_depth': 14, 'max_features': 8}</td>\n",
       "      <td>0.948148</td>\n",
       "      <td>1.000000</td>\n",
       "      <td>0.992593</td>\n",
       "      <td>...</td>\n",
       "      <td>1.000000</td>\n",
       "      <td>1.000000</td>\n",
       "      <td>1.000000</td>\n",
       "      <td>1.000000</td>\n",
       "      <td>1.000000</td>\n",
       "      <td>1.000000</td>\n",
       "      <td>1.000000</td>\n",
       "      <td>1.000000</td>\n",
       "      <td>1.000000</td>\n",
       "      <td>0.000000</td>\n",
       "    </tr>\n",
       "    <tr>\n",
       "      <th>22</th>\n",
       "      <td>0.369335</td>\n",
       "      <td>0.020894</td>\n",
       "      <td>0.012567</td>\n",
       "      <td>0.000798</td>\n",
       "      <td>14</td>\n",
       "      <td>12</td>\n",
       "      <td>{'max_depth': 14, 'max_features': 12}</td>\n",
       "      <td>0.970370</td>\n",
       "      <td>0.992593</td>\n",
       "      <td>0.992593</td>\n",
       "      <td>...</td>\n",
       "      <td>1.000000</td>\n",
       "      <td>1.000000</td>\n",
       "      <td>1.000000</td>\n",
       "      <td>1.000000</td>\n",
       "      <td>1.000000</td>\n",
       "      <td>1.000000</td>\n",
       "      <td>1.000000</td>\n",
       "      <td>1.000000</td>\n",
       "      <td>1.000000</td>\n",
       "      <td>0.000000</td>\n",
       "    </tr>\n",
       "    <tr>\n",
       "      <th>23</th>\n",
       "      <td>0.398532</td>\n",
       "      <td>0.006004</td>\n",
       "      <td>0.011968</td>\n",
       "      <td>0.000773</td>\n",
       "      <td>14</td>\n",
       "      <td>16</td>\n",
       "      <td>{'max_depth': 14, 'max_features': 16}</td>\n",
       "      <td>0.962963</td>\n",
       "      <td>0.992593</td>\n",
       "      <td>1.000000</td>\n",
       "      <td>...</td>\n",
       "      <td>1.000000</td>\n",
       "      <td>1.000000</td>\n",
       "      <td>1.000000</td>\n",
       "      <td>1.000000</td>\n",
       "      <td>1.000000</td>\n",
       "      <td>1.000000</td>\n",
       "      <td>1.000000</td>\n",
       "      <td>1.000000</td>\n",
       "      <td>1.000000</td>\n",
       "      <td>0.000000</td>\n",
       "    </tr>\n",
       "    <tr>\n",
       "      <th>24</th>\n",
       "      <td>0.448259</td>\n",
       "      <td>0.004544</td>\n",
       "      <td>0.011572</td>\n",
       "      <td>0.000659</td>\n",
       "      <td>14</td>\n",
       "      <td>20</td>\n",
       "      <td>{'max_depth': 14, 'max_features': 20}</td>\n",
       "      <td>0.955556</td>\n",
       "      <td>0.992593</td>\n",
       "      <td>0.992593</td>\n",
       "      <td>...</td>\n",
       "      <td>1.000000</td>\n",
       "      <td>1.000000</td>\n",
       "      <td>1.000000</td>\n",
       "      <td>1.000000</td>\n",
       "      <td>1.000000</td>\n",
       "      <td>1.000000</td>\n",
       "      <td>1.000000</td>\n",
       "      <td>1.000000</td>\n",
       "      <td>1.000000</td>\n",
       "      <td>0.000000</td>\n",
       "    </tr>\n",
       "  </tbody>\n",
       "</table>\n",
       "<p>25 rows × 32 columns</p>\n",
       "</div>"
      ],
      "text/plain": [
       "    mean_fit_time  std_fit_time  mean_score_time  std_score_time  \\\n",
       "0        0.252962      0.027001         0.014865        0.001754   \n",
       "1        0.314920      0.035909         0.014657        0.001405   \n",
       "2        0.331848      0.026541         0.013864        0.001636   \n",
       "3        0.358675      0.022055         0.012467        0.001496   \n",
       "4        0.416154      0.024238         0.013259        0.001726   \n",
       "5        0.276023      0.034418         0.014559        0.002891   \n",
       "6        0.347245      0.028807         0.015470        0.002201   \n",
       "7        0.341287      0.010009         0.012168        0.000598   \n",
       "8        0.392899      0.010695         0.012428        0.000837   \n",
       "9        0.448496      0.018929         0.012467        0.000804   \n",
       "10       0.249585      0.010038         0.012965        0.000892   \n",
       "11       0.309861      0.010765         0.013564        0.001681   \n",
       "12       0.352155      0.007870         0.012141        0.000818   \n",
       "13       0.410756      0.008046         0.012273        0.000637   \n",
       "14       0.462528      0.016730         0.012467        0.000804   \n",
       "15       0.253364      0.009514         0.013043        0.000546   \n",
       "16       0.301648      0.005823         0.012663        0.000455   \n",
       "17       0.354498      0.009118         0.011968        0.000447   \n",
       "18       0.410016      0.026276         0.011969        0.000773   \n",
       "19       0.503851      0.049167         0.013863        0.004748   \n",
       "20       0.248353      0.007291         0.012401        0.000531   \n",
       "21       0.321312      0.039202         0.013528        0.002539   \n",
       "22       0.369335      0.020894         0.012567        0.000798   \n",
       "23       0.398532      0.006004         0.011968        0.000773   \n",
       "24       0.448259      0.004544         0.011572        0.000659   \n",
       "\n",
       "   param_max_depth param_max_features                                 params  \\\n",
       "0                6                  4    {'max_depth': 6, 'max_features': 4}   \n",
       "1                6                  8    {'max_depth': 6, 'max_features': 8}   \n",
       "2                6                 12   {'max_depth': 6, 'max_features': 12}   \n",
       "3                6                 16   {'max_depth': 6, 'max_features': 16}   \n",
       "4                6                 20   {'max_depth': 6, 'max_features': 20}   \n",
       "5                8                  4    {'max_depth': 8, 'max_features': 4}   \n",
       "6                8                  8    {'max_depth': 8, 'max_features': 8}   \n",
       "7                8                 12   {'max_depth': 8, 'max_features': 12}   \n",
       "8                8                 16   {'max_depth': 8, 'max_features': 16}   \n",
       "9                8                 20   {'max_depth': 8, 'max_features': 20}   \n",
       "10              10                  4   {'max_depth': 10, 'max_features': 4}   \n",
       "11              10                  8   {'max_depth': 10, 'max_features': 8}   \n",
       "12              10                 12  {'max_depth': 10, 'max_features': 12}   \n",
       "13              10                 16  {'max_depth': 10, 'max_features': 16}   \n",
       "14              10                 20  {'max_depth': 10, 'max_features': 20}   \n",
       "15              12                  4   {'max_depth': 12, 'max_features': 4}   \n",
       "16              12                  8   {'max_depth': 12, 'max_features': 8}   \n",
       "17              12                 12  {'max_depth': 12, 'max_features': 12}   \n",
       "18              12                 16  {'max_depth': 12, 'max_features': 16}   \n",
       "19              12                 20  {'max_depth': 12, 'max_features': 20}   \n",
       "20              14                  4   {'max_depth': 14, 'max_features': 4}   \n",
       "21              14                  8   {'max_depth': 14, 'max_features': 8}   \n",
       "22              14                 12  {'max_depth': 14, 'max_features': 12}   \n",
       "23              14                 16  {'max_depth': 14, 'max_features': 16}   \n",
       "24              14                 20  {'max_depth': 14, 'max_features': 20}   \n",
       "\n",
       "    split0_test_score  split1_test_score  split2_test_score  ...  \\\n",
       "0            0.933333           0.970370           0.962963  ...   \n",
       "1            0.925926           0.977778           0.977778  ...   \n",
       "2            0.940741           0.985185           0.977778  ...   \n",
       "3            0.896296           0.977778           0.955556  ...   \n",
       "4            0.911111           0.970370           0.955556  ...   \n",
       "5            0.948148           0.970370           0.985185  ...   \n",
       "6            0.955556           0.985185           0.977778  ...   \n",
       "7            0.940741           0.977778           0.992593  ...   \n",
       "8            0.962963           0.985185           0.985185  ...   \n",
       "9            0.955556           0.985185           0.977778  ...   \n",
       "10           0.948148           1.000000           0.992593  ...   \n",
       "11           0.940741           0.985185           0.992593  ...   \n",
       "12           0.948148           0.985185           0.985185  ...   \n",
       "13           0.955556           0.992593           0.985185  ...   \n",
       "14           0.955556           0.992593           0.977778  ...   \n",
       "15           0.948148           0.992593           0.992593  ...   \n",
       "16           0.955556           0.985185           0.992593  ...   \n",
       "17           0.962963           0.985185           0.992593  ...   \n",
       "18           0.955556           0.992593           1.000000  ...   \n",
       "19           0.970370           0.992593           1.000000  ...   \n",
       "20           0.962963           1.000000           0.985185  ...   \n",
       "21           0.948148           1.000000           0.992593  ...   \n",
       "22           0.970370           0.992593           0.992593  ...   \n",
       "23           0.962963           0.992593           1.000000  ...   \n",
       "24           0.955556           0.992593           0.992593  ...   \n",
       "\n",
       "    split2_train_score  split3_train_score  split4_train_score  \\\n",
       "0             0.985149            0.987624            0.989274   \n",
       "1             0.988449            0.987624            0.990099   \n",
       "2             0.985149            0.990924            0.987624   \n",
       "3             0.981023            0.980198            0.985974   \n",
       "4             0.984323            0.981848            0.981848   \n",
       "5             0.998350            0.998350            1.000000   \n",
       "6             1.000000            0.998350            0.999175   \n",
       "7             0.998350            0.998350            0.998350   \n",
       "8             0.999175            0.999175            1.000000   \n",
       "9             0.999175            0.999175            1.000000   \n",
       "10            1.000000            1.000000            1.000000   \n",
       "11            1.000000            1.000000            1.000000   \n",
       "12            1.000000            1.000000            1.000000   \n",
       "13            1.000000            1.000000            1.000000   \n",
       "14            1.000000            1.000000            1.000000   \n",
       "15            1.000000            1.000000            1.000000   \n",
       "16            1.000000            1.000000            1.000000   \n",
       "17            1.000000            1.000000            1.000000   \n",
       "18            1.000000            1.000000            1.000000   \n",
       "19            1.000000            1.000000            1.000000   \n",
       "20            1.000000            1.000000            1.000000   \n",
       "21            1.000000            1.000000            1.000000   \n",
       "22            1.000000            1.000000            1.000000   \n",
       "23            1.000000            1.000000            1.000000   \n",
       "24            1.000000            1.000000            1.000000   \n",
       "\n",
       "    split5_train_score  split6_train_score  split7_train_score  \\\n",
       "0             0.989274            0.988449            0.986810   \n",
       "1             0.988449            0.990924            0.988458   \n",
       "2             0.987624            0.985974            0.987634   \n",
       "3             0.988449            0.981848            0.985161   \n",
       "4             0.983498            0.985149            0.983512   \n",
       "5             0.999175            0.998350            0.999176   \n",
       "6             0.999175            1.000000            1.000000   \n",
       "7             0.999175            0.997525            0.999176   \n",
       "8             0.998350            0.999175            0.999176   \n",
       "9             0.999175            0.999175            0.999176   \n",
       "10            1.000000            1.000000            1.000000   \n",
       "11            1.000000            1.000000            1.000000   \n",
       "12            1.000000            1.000000            1.000000   \n",
       "13            1.000000            1.000000            1.000000   \n",
       "14            1.000000            1.000000            1.000000   \n",
       "15            1.000000            1.000000            1.000000   \n",
       "16            1.000000            1.000000            1.000000   \n",
       "17            1.000000            1.000000            1.000000   \n",
       "18            1.000000            1.000000            1.000000   \n",
       "19            1.000000            1.000000            1.000000   \n",
       "20            1.000000            1.000000            1.000000   \n",
       "21            1.000000            1.000000            1.000000   \n",
       "22            1.000000            1.000000            1.000000   \n",
       "23            1.000000            1.000000            1.000000   \n",
       "24            1.000000            1.000000            1.000000   \n",
       "\n",
       "    split8_train_score  split9_train_score  mean_train_score  std_train_score  \n",
       "0             0.987634            0.987634          0.987709         0.001352  \n",
       "1             0.987634            0.987634          0.988699         0.001381  \n",
       "2             0.990932            0.987634          0.988204         0.001847  \n",
       "3             0.989283            0.985161          0.984492         0.003107  \n",
       "4             0.984336            0.985985          0.983832         0.001779  \n",
       "5             0.999176            0.997527          0.998680         0.000660  \n",
       "6             1.000000            0.999176          0.999588         0.000553  \n",
       "7             0.999176            0.999176          0.998845         0.000660  \n",
       "8             1.000000            1.000000          0.999423         0.000528  \n",
       "9             1.000000            1.000000          0.999505         0.000404  \n",
       "10            1.000000            1.000000          1.000000         0.000000  \n",
       "11            1.000000            1.000000          1.000000         0.000000  \n",
       "12            1.000000            1.000000          1.000000         0.000000  \n",
       "13            1.000000            1.000000          1.000000         0.000000  \n",
       "14            1.000000            1.000000          1.000000         0.000000  \n",
       "15            1.000000            1.000000          1.000000         0.000000  \n",
       "16            1.000000            1.000000          1.000000         0.000000  \n",
       "17            1.000000            1.000000          1.000000         0.000000  \n",
       "18            1.000000            1.000000          1.000000         0.000000  \n",
       "19            1.000000            1.000000          1.000000         0.000000  \n",
       "20            1.000000            1.000000          1.000000         0.000000  \n",
       "21            1.000000            1.000000          1.000000         0.000000  \n",
       "22            1.000000            1.000000          1.000000         0.000000  \n",
       "23            1.000000            1.000000          1.000000         0.000000  \n",
       "24            1.000000            1.000000          1.000000         0.000000  \n",
       "\n",
       "[25 rows x 32 columns]"
      ]
     },
     "execution_count": 13,
     "metadata": {},
     "output_type": "execute_result"
    }
   ],
   "source": [
    "import pandas as pd\n",
    "results = pd.DataFrame(grid.cv_results_)\n",
    "results"
   ]
  },
  {
   "cell_type": "code",
   "execution_count": 14,
   "metadata": {},
   "outputs": [],
   "source": [
    "res = pd.pivot_table(pd.DataFrame(grid.cv_results_), values='mean_test_score', index='param_max_depth', columns='param_max_features')\n",
    "pd.set_option(\"display.precision\",4)\n",
    "res = res.set_index(res.index.values.round(4))"
   ]
  },
  {
   "cell_type": "code",
   "execution_count": 15,
   "metadata": {},
   "outputs": [
    {
     "data": {
      "text/html": [
       "<div>\n",
       "<style scoped>\n",
       "    .dataframe tbody tr th:only-of-type {\n",
       "        vertical-align: middle;\n",
       "    }\n",
       "\n",
       "    .dataframe tbody tr th {\n",
       "        vertical-align: top;\n",
       "    }\n",
       "\n",
       "    .dataframe thead th {\n",
       "        text-align: right;\n",
       "    }\n",
       "</style>\n",
       "<table border=\"1\" class=\"dataframe\">\n",
       "  <thead>\n",
       "    <tr style=\"text-align: right;\">\n",
       "      <th>param_max_features</th>\n",
       "      <th>4</th>\n",
       "      <th>8</th>\n",
       "      <th>12</th>\n",
       "      <th>16</th>\n",
       "      <th>20</th>\n",
       "    </tr>\n",
       "  </thead>\n",
       "  <tbody>\n",
       "    <tr>\n",
       "      <th>6</th>\n",
       "      <td>0.9540</td>\n",
       "      <td>0.9607</td>\n",
       "      <td>0.9592</td>\n",
       "      <td>0.9517</td>\n",
       "      <td>0.9458</td>\n",
       "    </tr>\n",
       "    <tr>\n",
       "      <th>8</th>\n",
       "      <td>0.9710</td>\n",
       "      <td>0.9696</td>\n",
       "      <td>0.9696</td>\n",
       "      <td>0.9718</td>\n",
       "      <td>0.9696</td>\n",
       "    </tr>\n",
       "    <tr>\n",
       "      <th>10</th>\n",
       "      <td>0.9733</td>\n",
       "      <td>0.9703</td>\n",
       "      <td>0.9725</td>\n",
       "      <td>0.9718</td>\n",
       "      <td>0.9718</td>\n",
       "    </tr>\n",
       "    <tr>\n",
       "      <th>12</th>\n",
       "      <td>0.9733</td>\n",
       "      <td>0.9740</td>\n",
       "      <td>0.9770</td>\n",
       "      <td>0.9748</td>\n",
       "      <td>0.9733</td>\n",
       "    </tr>\n",
       "    <tr>\n",
       "      <th>14</th>\n",
       "      <td>0.9740</td>\n",
       "      <td>0.9740</td>\n",
       "      <td>0.9785</td>\n",
       "      <td>0.9792</td>\n",
       "      <td>0.9718</td>\n",
       "    </tr>\n",
       "  </tbody>\n",
       "</table>\n",
       "</div>"
      ],
      "text/plain": [
       "param_max_features      4       8       12      16      20\n",
       "6                   0.9540  0.9607  0.9592  0.9517  0.9458\n",
       "8                   0.9710  0.9696  0.9696  0.9718  0.9696\n",
       "10                  0.9733  0.9703  0.9725  0.9718  0.9718\n",
       "12                  0.9733  0.9740  0.9770  0.9748  0.9733\n",
       "14                  0.9740  0.9740  0.9785  0.9792  0.9718"
      ]
     },
     "execution_count": 15,
     "metadata": {},
     "output_type": "execute_result"
    }
   ],
   "source": [
    "res"
   ]
  },
  {
   "cell_type": "code",
   "execution_count": 16,
   "metadata": {},
   "outputs": [
    {
     "data": {
      "text/plain": [
       "<AxesSubplot:xlabel='param_max_features'>"
      ]
     },
     "execution_count": 16,
     "metadata": {},
     "output_type": "execute_result"
    },
    {
     "data": {
      "image/png": "[encoded data removed]",
      "text/plain": [
       "<Figure size 432x288 with 2 Axes>"
      ]
     },
     "metadata": {
      "needs_background": "light"
     },
     "output_type": "display_data"
    }
   ],
   "source": [
    "import seaborn as sns\n",
    "sns.heatmap(res, annot=True, fmt=\".3g\", vmin=0.6)"
   ]
  },
  {
   "cell_type": "code",
   "execution_count": 17,
   "metadata": {},
   "outputs": [
    {
     "data": {
      "text/plain": [
       "{'max_depth': 14, 'max_features': 16}"
      ]
     },
     "execution_count": 17,
     "metadata": {},
     "output_type": "execute_result"
    }
   ],
   "source": [
    "grid.best_params_"
   ]
  },
  {
   "cell_type": "code",
   "execution_count": 18,
   "metadata": {},
   "outputs": [
    {
     "name": "stdout",
     "output_type": "stream",
     "text": [
      "Best estimator:\n",
      "RandomForestClassifier(max_depth=14, max_features=16)\n"
     ]
    }
   ],
   "source": [
    "print(\"Best estimator:\\n{}\".format(grid.best_estimator_))"
   ]
  },
  {
   "cell_type": "code",
   "execution_count": 19,
   "metadata": {},
   "outputs": [
    {
     "name": "stdout",
     "output_type": "stream",
     "text": [
      "Accuracy score of the GridSearchCV is 0.978\n"
     ]
    }
   ],
   "source": [
    "accuracy = grid.score(X_test, y_test)\n",
    "print('Accuracy score of the {} is {:.3f}'.format(grid.__class__.__name__, accuracy))"
   ]
  },
  {
   "cell_type": "markdown",
   "metadata": {},
   "source": [
    "# Grid-searching which model to use"
   ]
  },
  {
   "cell_type": "code",
   "execution_count": 20,
   "metadata": {},
   "outputs": [],
   "source": [
    "from sklearn.svm import SVC\n",
    "from sklearn.pipeline import Pipeline"
   ]
  },
  {
   "cell_type": "code",
   "execution_count": 21,
   "metadata": {},
   "outputs": [],
   "source": [
    "pipe = Pipeline([('preprocessing', StandardScaler()), ('classifier', SVC())])"
   ]
  },
  {
   "cell_type": "code",
   "execution_count": 22,
   "metadata": {},
   "outputs": [],
   "source": [
    "param_grid = [\n",
    "    {'classifier': [SVC()], 'preprocessing': [StandardScaler(), None],\n",
    "     'classifier__gamma': [0.001, 0.01, 0.1, 1, 10, 100],\n",
    "     'classifier__C': [0.001, 0.01, 0.1, 1, 10, 100]},\n",
    "    {'classifier': [RandomForestClassifier(n_estimators=100)],\n",
    "     'preprocessing': [None], 'classifier__max_features': [4,8,12,16,20],\n",
    "              'classifier__max_depth': [6,8,10,12,20]}]"
   ]
  },
  {
   "cell_type": "code",
   "execution_count": 23,
   "metadata": {},
   "outputs": [
    {
     "data": {
      "text/plain": [
       "GridSearchCV(cv=5,\n",
       "             estimator=Pipeline(steps=[('preprocessing', StandardScaler()),\n",
       "                                       ('classifier', SVC())]),\n",
       "             param_grid=[{'classifier': [SVC(C=1, gamma=0.001)],\n",
       "                          'classifier__C': [0.001, 0.01, 0.1, 1, 10, 100],\n",
       "                          'classifier__gamma': [0.001, 0.01, 0.1, 1, 10, 100],\n",
       "                          'preprocessing': [StandardScaler(), None]},\n",
       "                         {'classifier': [RandomForestClassifier()],\n",
       "                          'classifier__max_depth': [6, 8, 10, 12, 20],\n",
       "                          'classifier__max_features': [4, 8, 12, 16, 20],\n",
       "                          'preprocessing': [None]}])"
      ]
     },
     "execution_count": 23,
     "metadata": {},
     "output_type": "execute_result"
    }
   ],
   "source": [
    "grid = GridSearchCV(pipe, param_grid, cv=5)\n",
    "grid.fit(X_train, y_train)"
   ]
  },
  {
   "cell_type": "code",
   "execution_count": 24,
   "metadata": {},
   "outputs": [
    {
     "name": "stdout",
     "output_type": "stream",
     "text": [
      "Best params:\n",
      "{'classifier': SVC(C=1, gamma=0.001), 'classifier__C': 1, 'classifier__gamma': 0.001, 'preprocessing': None}\n",
      "\n",
      "Best cross-validation score: 0.988\n",
      "Test-set score: 0.991\n"
     ]
    }
   ],
   "source": [
    "print(\"Best params:\\n{}\\n\".format(grid.best_params_))\n",
    "print(\"Best cross-validation score: {:.3f}\".format(grid.best_score_))\n",
    "print(\"Test-set score: {:.3f}\".format(grid.score(X_test, y_test)))"
   ]
  },
  {
   "cell_type": "markdown",
   "metadata": {},
   "source": [
    "# Feature Importance"
   ]
  },
  {
   "cell_type": "code",
   "execution_count": 25,
   "metadata": {},
   "outputs": [
    {
     "data": {
      "text/plain": [
       "array(['5', '0', '4', '1', '9', '2', '1', '3', '1', '4'], dtype=object)"
      ]
     },
     "execution_count": 25,
     "metadata": {},
     "output_type": "execute_result"
    }
   ],
   "source": [
    "from sklearn.datasets import fetch_openml\n",
    "\n",
    "mnist = fetch_openml('mnist_784', version=1, as_frame=False)\n",
    "mnist.target[:10]"
   ]
  },
  {
   "cell_type": "code",
   "execution_count": 26,
   "metadata": {},
   "outputs": [
    {
     "data": {
      "text/plain": [
       "(70000, 784)"
      ]
     },
     "execution_count": 26,
     "metadata": {},
     "output_type": "execute_result"
    }
   ],
   "source": [
    "mnist.data.shape"
   ]
  },
  {
   "cell_type": "code",
   "execution_count": 27,
   "metadata": {},
   "outputs": [
    {
     "data": {
      "text/plain": [
       "array([  0.,   0.,   0.,   0.,   0.,   0.,   0.,   0.,   0.,   0.,   0.,\n",
       "         0.,   0.,   0.,   0.,   0.,   0.,   0.,   0.,   0.,   0.,   0.,\n",
       "         0.,   0.,   0.,   0.,   0.,   0.,   0.,   0.,   0.,   0.,   0.,\n",
       "         0.,   0.,   0.,   0.,   0.,   0.,   0.,   0.,   0.,   0.,   0.,\n",
       "         0.,   0.,   0.,   0.,   0.,   0.,   0.,   0.,   0.,   0.,   0.,\n",
       "         0.,   0.,   0.,   0.,   0.,   0.,   0.,   0.,   0.,   0.,   0.,\n",
       "         0.,   0.,   0.,   0.,   0.,   0.,   0.,   0.,   0.,   0.,   0.,\n",
       "         0.,   0.,   0.,   0.,   0.,   0.,   0.,   0.,   0.,   0.,   0.,\n",
       "         0.,   0.,   0.,   0.,   0.,   0.,   0.,   0.,   0.,   0.,   0.,\n",
       "         0.,   0.,   0.,   0.,   0.,   0.,   0.,   0.,   0.,   0.,   0.,\n",
       "         0.,   0.,   0.,   0.,   0.,   0.,   0.,   0.,   0.,   0.,   0.,\n",
       "         0.,   0.,   0.,   0.,   0.,   0.,   0.,   0.,   0.,   0.,   0.,\n",
       "         0.,   0.,   0.,   0.,   0.,   0.,   0.,   0.,   0.,   0.,   0.,\n",
       "         0.,   0.,   0.,   0.,   0.,   0.,   0.,   0.,   0.,   3.,  18.,\n",
       "        18.,  18., 126., 136., 175.,  26., 166., 255., 247., 127.,   0.,\n",
       "         0.,   0.,   0.,   0.,   0.,   0.,   0.,   0.,   0.,   0.,   0.,\n",
       "        30.,  36.,  94., 154., 170., 253., 253., 253., 253., 253., 225.,\n",
       "       172., 253., 242., 195.,  64.,   0.,   0.,   0.,   0.,   0.,   0.,\n",
       "         0.,   0.,   0.,   0.,   0.,  49., 238., 253., 253., 253., 253.,\n",
       "       253., 253., 253., 253., 251.,  93.,  82.,  82.,  56.,  39.,   0.,\n",
       "         0.,   0.,   0.,   0.,   0.,   0.,   0.,   0.,   0.,   0.,   0.,\n",
       "        18., 219., 253., 253., 253., 253., 253., 198., 182., 247., 241.,\n",
       "         0.,   0.,   0.,   0.,   0.,   0.,   0.,   0.,   0.,   0.,   0.,\n",
       "         0.,   0.,   0.,   0.,   0.,   0.,   0.,  80., 156., 107., 253.,\n",
       "       253., 205.,  11.,   0.,  43., 154.,   0.,   0.,   0.,   0.,   0.,\n",
       "         0.,   0.,   0.,   0.,   0.,   0.,   0.,   0.,   0.,   0.,   0.,\n",
       "         0.,   0.,   0.,  14.,   1., 154., 253.,  90.,   0.,   0.,   0.,\n",
       "         0.,   0.,   0.,   0.,   0.,   0.,   0.,   0.,   0.,   0.,   0.,\n",
       "         0.,   0.,   0.,   0.,   0.,   0.,   0.,   0.,   0.,   0.,   0.,\n",
       "       139., 253., 190.,   2.,   0.,   0.,   0.,   0.,   0.,   0.,   0.,\n",
       "         0.,   0.,   0.,   0.,   0.,   0.,   0.,   0.,   0.,   0.,   0.,\n",
       "         0.,   0.,   0.,   0.,   0.,   0.,  11., 190., 253.,  70.,   0.,\n",
       "         0.,   0.,   0.,   0.,   0.,   0.,   0.,   0.,   0.,   0.,   0.,\n",
       "         0.,   0.,   0.,   0.,   0.,   0.,   0.,   0.,   0.,   0.,   0.,\n",
       "         0.,   0.,  35., 241., 225., 160., 108.,   1.,   0.,   0.,   0.,\n",
       "         0.,   0.,   0.,   0.,   0.,   0.,   0.,   0.,   0.,   0.,   0.,\n",
       "         0.,   0.,   0.,   0.,   0.,   0.,   0.,   0.,   0.,  81., 240.,\n",
       "       253., 253., 119.,  25.,   0.,   0.,   0.,   0.,   0.,   0.,   0.,\n",
       "         0.,   0.,   0.,   0.,   0.,   0.,   0.,   0.,   0.,   0.,   0.,\n",
       "         0.,   0.,   0.,   0.,   0.,  45., 186., 253., 253., 150.,  27.,\n",
       "         0.,   0.,   0.,   0.,   0.,   0.,   0.,   0.,   0.,   0.,   0.,\n",
       "         0.,   0.,   0.,   0.,   0.,   0.,   0.,   0.,   0.,   0.,   0.,\n",
       "         0.,  16.,  93., 252., 253., 187.,   0.,   0.,   0.,   0.,   0.,\n",
       "         0.,   0.,   0.,   0.,   0.,   0.,   0.,   0.,   0.,   0.,   0.,\n",
       "         0.,   0.,   0.,   0.,   0.,   0.,   0.,   0.,   0., 249., 253.,\n",
       "       249.,  64.,   0.,   0.,   0.,   0.,   0.,   0.,   0.,   0.,   0.,\n",
       "         0.,   0.,   0.,   0.,   0.,   0.,   0.,   0.,   0.,   0.,   0.,\n",
       "         0.,  46., 130., 183., 253., 253., 207.,   2.,   0.,   0.,   0.,\n",
       "         0.,   0.,   0.,   0.,   0.,   0.,   0.,   0.,   0.,   0.,   0.,\n",
       "         0.,   0.,   0.,   0.,   0.,  39., 148., 229., 253., 253., 253.,\n",
       "       250., 182.,   0.,   0.,   0.,   0.,   0.,   0.,   0.,   0.,   0.,\n",
       "         0.,   0.,   0.,   0.,   0.,   0.,   0.,   0.,   0.,  24., 114.,\n",
       "       221., 253., 253., 253., 253., 201.,  78.,   0.,   0.,   0.,   0.,\n",
       "         0.,   0.,   0.,   0.,   0.,   0.,   0.,   0.,   0.,   0.,   0.,\n",
       "         0.,   0.,  23.,  66., 213., 253., 253., 253., 253., 198.,  81.,\n",
       "         2.,   0.,   0.,   0.,   0.,   0.,   0.,   0.,   0.,   0.,   0.,\n",
       "         0.,   0.,   0.,   0.,   0.,   0.,  18., 171., 219., 253., 253.,\n",
       "       253., 253., 195.,  80.,   9.,   0.,   0.,   0.,   0.,   0.,   0.,\n",
       "         0.,   0.,   0.,   0.,   0.,   0.,   0.,   0.,   0.,   0.,  55.,\n",
       "       172., 226., 253., 253., 253., 253., 244., 133.,  11.,   0.,   0.,\n",
       "         0.,   0.,   0.,   0.,   0.,   0.,   0.,   0.,   0.,   0.,   0.,\n",
       "         0.,   0.,   0.,   0.,   0., 136., 253., 253., 253., 212., 135.,\n",
       "       132.,  16.,   0.,   0.,   0.,   0.,   0.,   0.,   0.,   0.,   0.,\n",
       "         0.,   0.,   0.,   0.,   0.,   0.,   0.,   0.,   0.,   0.,   0.,\n",
       "         0.,   0.,   0.,   0.,   0.,   0.,   0.,   0.,   0.,   0.,   0.,\n",
       "         0.,   0.,   0.,   0.,   0.,   0.,   0.,   0.,   0.,   0.,   0.,\n",
       "         0.,   0.,   0.,   0.,   0.,   0.,   0.,   0.,   0.,   0.,   0.,\n",
       "         0.,   0.,   0.,   0.,   0.,   0.,   0.,   0.,   0.,   0.,   0.,\n",
       "         0.,   0.,   0.,   0.,   0.,   0.,   0.,   0.,   0.,   0.,   0.,\n",
       "         0.,   0.,   0.,   0.,   0.,   0.,   0.,   0.,   0.,   0.,   0.,\n",
       "         0.,   0.,   0.,   0.,   0.,   0.,   0.,   0.,   0.,   0.,   0.,\n",
       "         0.,   0.,   0.])"
      ]
     },
     "execution_count": 27,
     "metadata": {},
     "output_type": "execute_result"
    }
   ],
   "source": [
    "mnist.data[0]"
   ]
  },
  {
   "cell_type": "code",
   "execution_count": 28,
   "metadata": {},
   "outputs": [
    {
     "name": "stdout",
     "output_type": "stream",
     "text": [
      "The digit in the image is 5\n"
     ]
    },
    {
     "data": {
      "image/png": "[encoded data removed]",
      "text/plain": [
       "<Figure size 432x288 with 1 Axes>"
      ]
     },
     "metadata": {
      "needs_background": "light"
     },
     "output_type": "display_data"
    }
   ],
   "source": [
    "plt.imshow(mnist.data[0].reshape(28, 28), cmap='gray');\n",
    "plt.axis('off')\n",
    "print('The digit in the image is {}'.format(mnist.target[0]))"
   ]
  },
  {
   "cell_type": "code",
   "execution_count": 29,
   "metadata": {},
   "outputs": [
    {
     "data": {
      "text/plain": [
       "RandomForestClassifier(random_state=42)"
      ]
     },
     "execution_count": 29,
     "metadata": {},
     "output_type": "execute_result"
    }
   ],
   "source": [
    "rnd_clf = RandomForestClassifier(n_estimators=100, random_state=42)\n",
    "rnd_clf.fit(mnist[\"data\"], mnist[\"target\"])"
   ]
  },
  {
   "cell_type": "code",
   "execution_count": 30,
   "metadata": {},
   "outputs": [],
   "source": [
    "import matplotlib as mpl"
   ]
  },
  {
   "cell_type": "code",
   "execution_count": 31,
   "metadata": {},
   "outputs": [],
   "source": [
    "def plot_digit(data):\n",
    "    image = data.reshape(28, 28)\n",
    "    plt.imshow(image, cmap = mpl.cm.hot,\n",
    "               interpolation=\"nearest\")\n",
    "    plt.axis(\"off\")"
   ]
  },
  {
   "cell_type": "code",
   "execution_count": 32,
   "metadata": {},
   "outputs": [
    {
     "data": {
      "image/png": "[encoded data removed]",
      "text/plain": [
       "<Figure size 432x288 with 2 Axes>"
      ]
     },
     "metadata": {
      "needs_background": "light"
     },
     "output_type": "display_data"
    }
   ],
   "source": [
    "plot_digit(rnd_clf.feature_importances_)\n",
    "\n",
    "cbar = plt.colorbar(ticks=[rnd_clf.feature_importances_.min(), rnd_clf.feature_importances_.max()])\n",
    "cbar.ax.set_yticklabels(['Not important', 'Very important'])\n",
    "\n",
    "plt.show()"
   ]
  }
 ],
 "metadata": {
  "kernelspec": {
   "display_name": "Python 3",
   "language": "python",
   "name": "python3"
  },
  "language_info": {
   "codemirror_mode": {
    "name": "ipython",
    "version": 3
   },
   "file_extension": ".py",
   "mimetype": "text/x-python",
   "name": "python",
   "nbconvert_exporter": "python",
   "pygments_lexer": "ipython3",
   "version": "3.7.4"
  }
 },
 "nbformat": 4,
 "nbformat_minor": 4
}
