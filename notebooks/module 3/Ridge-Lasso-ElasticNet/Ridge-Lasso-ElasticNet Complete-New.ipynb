{
 "cells": [
  {
   "cell_type": "markdown",
   "metadata": {},
   "source": [
    "# Data"
   ]
  },
  {
   "cell_type": "code",
   "execution_count": 1,
   "metadata": {
    "jupyter": {
     "outputs_hidden": false
    }
   },
   "outputs": [],
   "source": [
    "import matplotlib.pyplot as plt\n",
    "%matplotlib inline\n",
    "import numpy as np\n",
    "import pandas as pd"
   ]
  },
  {
   "cell_type": "code",
   "execution_count": 2,
   "metadata": {
    "jupyter": {
     "outputs_hidden": false
    }
   },
   "outputs": [],
   "source": [
    "from sklearn.linear_model import Ridge, LinearRegression, Lasso"
   ]
  },
  {
   "cell_type": "code",
   "execution_count": 3,
   "metadata": {
    "jupyter": {
     "outputs_hidden": false
    }
   },
   "outputs": [],
   "source": [
    "from sklearn.model_selection import cross_val_score"
   ]
  },
  {
   "cell_type": "code",
   "execution_count": 4,
   "metadata": {},
   "outputs": [],
   "source": [
    "boston = pd.read_csv(\"boston_house_prices.csv\")"
   ]
  },
  {
   "cell_type": "code",
   "execution_count": 5,
   "metadata": {},
   "outputs": [
    {
     "data": {
      "text/plain": [
       "Index(['CRIM', 'ZN', 'INDUS', 'CHAS', 'NOX', 'RM', 'AGE', 'DIS', 'RAD', 'TAX',\n",
       "       'PTRATIO', 'B', 'LSTAT', 'MEDV'],\n",
       "      dtype='object')"
      ]
     },
     "execution_count": 5,
     "metadata": {},
     "output_type": "execute_result"
    }
   ],
   "source": [
    "boston.columns"
   ]
  },
  {
   "cell_type": "code",
   "execution_count": 6,
   "metadata": {
    "jupyter": {
     "outputs_hidden": true
    }
   },
   "outputs": [],
   "source": [
    "X, y = boston.drop('MEDV', axis=1), boston.MEDV"
   ]
  },
  {
   "cell_type": "code",
   "execution_count": 7,
   "metadata": {
    "jupyter": {
     "outputs_hidden": false
    }
   },
   "outputs": [
    {
     "data": {
      "text/plain": [
       "(506, 13)"
      ]
     },
     "execution_count": 7,
     "metadata": {},
     "output_type": "execute_result"
    }
   ],
   "source": [
    "X.shape"
   ]
  },
  {
   "cell_type": "code",
   "execution_count": 8,
   "metadata": {},
   "outputs": [
    {
     "data": {
      "text/plain": [
       "(506,)"
      ]
     },
     "execution_count": 8,
     "metadata": {},
     "output_type": "execute_result"
    }
   ],
   "source": [
    "y.shape"
   ]
  },
  {
   "cell_type": "markdown",
   "metadata": {},
   "source": [
    "# Ridge"
   ]
  },
  {
   "cell_type": "markdown",
   "metadata": {},
   "source": [
    "## Scenario Without Polynomial Features"
   ]
  },
  {
   "cell_type": "code",
   "execution_count": 9,
   "metadata": {
    "jupyter": {
     "outputs_hidden": true
    }
   },
   "outputs": [],
   "source": [
    "from sklearn.model_selection import train_test_split\n",
    "X_train, X_test, y_train, y_test = train_test_split(X, y, random_state=42)"
   ]
  },
  {
   "cell_type": "code",
   "execution_count": 10,
   "metadata": {
    "jupyter": {
     "outputs_hidden": false
    }
   },
   "outputs": [
    {
     "data": {
      "text/plain": [
       "0.7160133196648375"
      ]
     },
     "execution_count": 10,
     "metadata": {},
     "output_type": "execute_result"
    }
   ],
   "source": [
    "np.mean(cross_val_score(LinearRegression(), X_train, y_train, cv=10))"
   ]
  },
  {
   "cell_type": "code",
   "execution_count": 11,
   "metadata": {
    "jupyter": {
     "outputs_hidden": false
    },
    "scrolled": true
   },
   "outputs": [
    {
     "data": {
      "text/plain": [
       "0.7140510045941364"
      ]
     },
     "execution_count": 11,
     "metadata": {},
     "output_type": "execute_result"
    }
   ],
   "source": [
    "np.mean(cross_val_score(Ridge(), X_train, y_train, cv=10))"
   ]
  },
  {
   "cell_type": "markdown",
   "metadata": {},
   "source": [
    "### Tuning the Hyperparameter"
   ]
  },
  {
   "cell_type": "code",
   "execution_count": 12,
   "metadata": {},
   "outputs": [],
   "source": [
    "np.set_printoptions(suppress=True, precision=3)"
   ]
  },
  {
   "cell_type": "code",
   "execution_count": 13,
   "metadata": {
    "jupyter": {
     "outputs_hidden": false
    }
   },
   "outputs": [
    {
     "name": "stdout",
     "output_type": "stream",
     "text": [
      "{'alpha': array([   0.001,    0.003,    0.01 ,    0.032,    0.1  ,    0.316,\n",
      "          1.   ,    3.162,   10.   ,   31.623,  100.   ,  316.228,\n",
      "       1000.   ])}\n"
     ]
    }
   ],
   "source": [
    "from sklearn.model_selection import GridSearchCV\n",
    "param_grid = {'alpha': np.logspace(-3, 3, 13)}\n",
    "print(param_grid)"
   ]
  },
  {
   "cell_type": "code",
   "execution_count": 14,
   "metadata": {
    "jupyter": {
     "outputs_hidden": false
    }
   },
   "outputs": [
    {
     "data": {
      "text/plain": [
       "GridSearchCV(cv=10, estimator=Ridge(),\n",
       "             param_grid={'alpha': array([   0.001,    0.003,    0.01 ,    0.032,    0.1  ,    0.316,\n",
       "          1.   ,    3.162,   10.   ,   31.623,  100.   ,  316.228,\n",
       "       1000.   ])},\n",
       "             return_train_score=True)"
      ]
     },
     "execution_count": 14,
     "metadata": {},
     "output_type": "execute_result"
    }
   ],
   "source": [
    "grid = GridSearchCV(Ridge(), param_grid, cv=10, return_train_score=True)\n",
    "grid.fit(X_train, y_train)"
   ]
  },
  {
   "cell_type": "code",
   "execution_count": 15,
   "metadata": {},
   "outputs": [
    {
     "data": {
      "text/html": [
       "<div>\n",
       "<style scoped>\n",
       "    .dataframe tbody tr th:only-of-type {\n",
       "        vertical-align: middle;\n",
       "    }\n",
       "\n",
       "    .dataframe tbody tr th {\n",
       "        vertical-align: top;\n",
       "    }\n",
       "\n",
       "    .dataframe thead th {\n",
       "        text-align: right;\n",
       "    }\n",
       "</style>\n",
       "<table border=\"1\" class=\"dataframe\">\n",
       "  <thead>\n",
       "    <tr style=\"text-align: right;\">\n",
       "      <th></th>\n",
       "      <th>mean_fit_time</th>\n",
       "      <th>std_fit_time</th>\n",
       "      <th>mean_score_time</th>\n",
       "      <th>std_score_time</th>\n",
       "      <th>param_alpha</th>\n",
       "      <th>params</th>\n",
       "      <th>split0_test_score</th>\n",
       "      <th>split1_test_score</th>\n",
       "      <th>split2_test_score</th>\n",
       "      <th>split3_test_score</th>\n",
       "      <th>...</th>\n",
       "      <th>split2_train_score</th>\n",
       "      <th>split3_train_score</th>\n",
       "      <th>split4_train_score</th>\n",
       "      <th>split5_train_score</th>\n",
       "      <th>split6_train_score</th>\n",
       "      <th>split7_train_score</th>\n",
       "      <th>split8_train_score</th>\n",
       "      <th>split9_train_score</th>\n",
       "      <th>mean_train_score</th>\n",
       "      <th>std_train_score</th>\n",
       "    </tr>\n",
       "  </thead>\n",
       "  <tbody>\n",
       "    <tr>\n",
       "      <th>0</th>\n",
       "      <td>0.001693</td>\n",
       "      <td>0.000455</td>\n",
       "      <td>0.001197</td>\n",
       "      <td>0.000399</td>\n",
       "      <td>0.001</td>\n",
       "      <td>{'alpha': 0.001}</td>\n",
       "      <td>0.783264</td>\n",
       "      <td>0.703124</td>\n",
       "      <td>0.555585</td>\n",
       "      <td>0.732900</td>\n",
       "      <td>...</td>\n",
       "      <td>0.766419</td>\n",
       "      <td>0.747077</td>\n",
       "      <td>0.734746</td>\n",
       "      <td>0.752195</td>\n",
       "      <td>0.737612</td>\n",
       "      <td>0.749494</td>\n",
       "      <td>0.743946</td>\n",
       "      <td>0.764885</td>\n",
       "      <td>0.749152</td>\n",
       "      <td>0.009893</td>\n",
       "    </tr>\n",
       "    <tr>\n",
       "      <th>1</th>\n",
       "      <td>0.001496</td>\n",
       "      <td>0.000499</td>\n",
       "      <td>0.001199</td>\n",
       "      <td>0.000403</td>\n",
       "      <td>0.003162</td>\n",
       "      <td>{'alpha': 0.0031622776601683794}</td>\n",
       "      <td>0.783242</td>\n",
       "      <td>0.703110</td>\n",
       "      <td>0.555572</td>\n",
       "      <td>0.733042</td>\n",
       "      <td>...</td>\n",
       "      <td>0.766419</td>\n",
       "      <td>0.747077</td>\n",
       "      <td>0.734746</td>\n",
       "      <td>0.752194</td>\n",
       "      <td>0.737612</td>\n",
       "      <td>0.749494</td>\n",
       "      <td>0.743946</td>\n",
       "      <td>0.764885</td>\n",
       "      <td>0.749152</td>\n",
       "      <td>0.009893</td>\n",
       "    </tr>\n",
       "    <tr>\n",
       "      <th>2</th>\n",
       "      <td>0.001886</td>\n",
       "      <td>0.000295</td>\n",
       "      <td>0.001096</td>\n",
       "      <td>0.000299</td>\n",
       "      <td>0.01</td>\n",
       "      <td>{'alpha': 0.01}</td>\n",
       "      <td>0.783172</td>\n",
       "      <td>0.703064</td>\n",
       "      <td>0.555533</td>\n",
       "      <td>0.733482</td>\n",
       "      <td>...</td>\n",
       "      <td>0.766418</td>\n",
       "      <td>0.747075</td>\n",
       "      <td>0.734745</td>\n",
       "      <td>0.752194</td>\n",
       "      <td>0.737611</td>\n",
       "      <td>0.749493</td>\n",
       "      <td>0.743945</td>\n",
       "      <td>0.764884</td>\n",
       "      <td>0.749151</td>\n",
       "      <td>0.009893</td>\n",
       "    </tr>\n",
       "    <tr>\n",
       "      <th>3</th>\n",
       "      <td>0.001998</td>\n",
       "      <td>0.000018</td>\n",
       "      <td>0.000996</td>\n",
       "      <td>0.000018</td>\n",
       "      <td>0.031623</td>\n",
       "      <td>{'alpha': 0.03162277660168379}</td>\n",
       "      <td>0.782949</td>\n",
       "      <td>0.702916</td>\n",
       "      <td>0.555412</td>\n",
       "      <td>0.734819</td>\n",
       "      <td>...</td>\n",
       "      <td>0.766412</td>\n",
       "      <td>0.747065</td>\n",
       "      <td>0.734738</td>\n",
       "      <td>0.752188</td>\n",
       "      <td>0.737603</td>\n",
       "      <td>0.749487</td>\n",
       "      <td>0.743939</td>\n",
       "      <td>0.764878</td>\n",
       "      <td>0.749144</td>\n",
       "      <td>0.009893</td>\n",
       "    </tr>\n",
       "    <tr>\n",
       "      <th>4</th>\n",
       "      <td>0.001403</td>\n",
       "      <td>0.000483</td>\n",
       "      <td>0.001097</td>\n",
       "      <td>0.000297</td>\n",
       "      <td>0.1</td>\n",
       "      <td>{'alpha': 0.1}</td>\n",
       "      <td>0.782228</td>\n",
       "      <td>0.702439</td>\n",
       "      <td>0.555058</td>\n",
       "      <td>0.738537</td>\n",
       "      <td>...</td>\n",
       "      <td>0.766356</td>\n",
       "      <td>0.746974</td>\n",
       "      <td>0.734677</td>\n",
       "      <td>0.752133</td>\n",
       "      <td>0.737532</td>\n",
       "      <td>0.749434</td>\n",
       "      <td>0.743885</td>\n",
       "      <td>0.764819</td>\n",
       "      <td>0.749082</td>\n",
       "      <td>0.009896</td>\n",
       "    </tr>\n",
       "    <tr>\n",
       "      <th>5</th>\n",
       "      <td>0.001703</td>\n",
       "      <td>0.000450</td>\n",
       "      <td>0.001097</td>\n",
       "      <td>0.000300</td>\n",
       "      <td>0.316228</td>\n",
       "      <td>{'alpha': 0.31622776601683794}</td>\n",
       "      <td>0.779963</td>\n",
       "      <td>0.700937</td>\n",
       "      <td>0.554191</td>\n",
       "      <td>0.746729</td>\n",
       "      <td>...</td>\n",
       "      <td>0.765964</td>\n",
       "      <td>0.746361</td>\n",
       "      <td>0.734251</td>\n",
       "      <td>0.751759</td>\n",
       "      <td>0.737039</td>\n",
       "      <td>0.749066</td>\n",
       "      <td>0.743507</td>\n",
       "      <td>0.764416</td>\n",
       "      <td>0.748658</td>\n",
       "      <td>0.009916</td>\n",
       "    </tr>\n",
       "    <tr>\n",
       "      <th>6</th>\n",
       "      <td>0.001696</td>\n",
       "      <td>0.000450</td>\n",
       "      <td>0.001190</td>\n",
       "      <td>0.000395</td>\n",
       "      <td>1.0</td>\n",
       "      <td>{'alpha': 1.0}</td>\n",
       "      <td>0.774383</td>\n",
       "      <td>0.697210</td>\n",
       "      <td>0.553171</td>\n",
       "      <td>0.757656</td>\n",
       "      <td>...</td>\n",
       "      <td>0.764324</td>\n",
       "      <td>0.743999</td>\n",
       "      <td>0.732518</td>\n",
       "      <td>0.750244</td>\n",
       "      <td>0.735024</td>\n",
       "      <td>0.747534</td>\n",
       "      <td>0.741947</td>\n",
       "      <td>0.762809</td>\n",
       "      <td>0.746948</td>\n",
       "      <td>0.009996</td>\n",
       "    </tr>\n",
       "    <tr>\n",
       "      <th>7</th>\n",
       "      <td>0.001394</td>\n",
       "      <td>0.000491</td>\n",
       "      <td>0.001000</td>\n",
       "      <td>0.000009</td>\n",
       "      <td>3.162278</td>\n",
       "      <td>{'alpha': 3.1622776601683795}</td>\n",
       "      <td>0.766435</td>\n",
       "      <td>0.691934</td>\n",
       "      <td>0.555942</td>\n",
       "      <td>0.765105</td>\n",
       "      <td>...</td>\n",
       "      <td>0.761140</td>\n",
       "      <td>0.739949</td>\n",
       "      <td>0.729329</td>\n",
       "      <td>0.747454</td>\n",
       "      <td>0.731312</td>\n",
       "      <td>0.744609</td>\n",
       "      <td>0.739018</td>\n",
       "      <td>0.759936</td>\n",
       "      <td>0.743822</td>\n",
       "      <td>0.010129</td>\n",
       "    </tr>\n",
       "    <tr>\n",
       "      <th>8</th>\n",
       "      <td>0.001707</td>\n",
       "      <td>0.000464</td>\n",
       "      <td>0.001091</td>\n",
       "      <td>0.000292</td>\n",
       "      <td>10.0</td>\n",
       "      <td>{'alpha': 10.0}</td>\n",
       "      <td>0.758370</td>\n",
       "      <td>0.687116</td>\n",
       "      <td>0.569907</td>\n",
       "      <td>0.770369</td>\n",
       "      <td>...</td>\n",
       "      <td>0.757306</td>\n",
       "      <td>0.736175</td>\n",
       "      <td>0.726073</td>\n",
       "      <td>0.744474</td>\n",
       "      <td>0.727744</td>\n",
       "      <td>0.741394</td>\n",
       "      <td>0.735945</td>\n",
       "      <td>0.757140</td>\n",
       "      <td>0.740584</td>\n",
       "      <td>0.010159</td>\n",
       "    </tr>\n",
       "    <tr>\n",
       "      <th>9</th>\n",
       "      <td>0.001993</td>\n",
       "      <td>0.000009</td>\n",
       "      <td>0.000996</td>\n",
       "      <td>0.000003</td>\n",
       "      <td>31.622777</td>\n",
       "      <td>{'alpha': 31.622776601683793}</td>\n",
       "      <td>0.743153</td>\n",
       "      <td>0.679688</td>\n",
       "      <td>0.594890</td>\n",
       "      <td>0.778256</td>\n",
       "      <td>...</td>\n",
       "      <td>0.749432</td>\n",
       "      <td>0.730400</td>\n",
       "      <td>0.720653</td>\n",
       "      <td>0.738697</td>\n",
       "      <td>0.722709</td>\n",
       "      <td>0.735645</td>\n",
       "      <td>0.730753</td>\n",
       "      <td>0.752431</td>\n",
       "      <td>0.734989</td>\n",
       "      <td>0.009830</td>\n",
       "    </tr>\n",
       "    <tr>\n",
       "      <th>10</th>\n",
       "      <td>0.001700</td>\n",
       "      <td>0.000460</td>\n",
       "      <td>0.001094</td>\n",
       "      <td>0.000291</td>\n",
       "      <td>100.0</td>\n",
       "      <td>{'alpha': 100.0}</td>\n",
       "      <td>0.711600</td>\n",
       "      <td>0.665268</td>\n",
       "      <td>0.610189</td>\n",
       "      <td>0.785346</td>\n",
       "      <td>...</td>\n",
       "      <td>0.730008</td>\n",
       "      <td>0.715026</td>\n",
       "      <td>0.706527</td>\n",
       "      <td>0.722552</td>\n",
       "      <td>0.709969</td>\n",
       "      <td>0.720448</td>\n",
       "      <td>0.717130</td>\n",
       "      <td>0.738812</td>\n",
       "      <td>0.720252</td>\n",
       "      <td>0.009008</td>\n",
       "    </tr>\n",
       "    <tr>\n",
       "      <th>11</th>\n",
       "      <td>0.001490</td>\n",
       "      <td>0.000499</td>\n",
       "      <td>0.001000</td>\n",
       "      <td>0.000009</td>\n",
       "      <td>316.227766</td>\n",
       "      <td>{'alpha': 316.22776601683796}</td>\n",
       "      <td>0.675120</td>\n",
       "      <td>0.647667</td>\n",
       "      <td>0.598293</td>\n",
       "      <td>0.785016</td>\n",
       "      <td>...</td>\n",
       "      <td>0.700460</td>\n",
       "      <td>0.688386</td>\n",
       "      <td>0.682776</td>\n",
       "      <td>0.695987</td>\n",
       "      <td>0.687612</td>\n",
       "      <td>0.693833</td>\n",
       "      <td>0.693136</td>\n",
       "      <td>0.714656</td>\n",
       "      <td>0.695114</td>\n",
       "      <td>0.008341</td>\n",
       "    </tr>\n",
       "    <tr>\n",
       "      <th>12</th>\n",
       "      <td>0.001096</td>\n",
       "      <td>0.000300</td>\n",
       "      <td>0.001198</td>\n",
       "      <td>0.000399</td>\n",
       "      <td>1000.0</td>\n",
       "      <td>{'alpha': 1000.0}</td>\n",
       "      <td>0.644696</td>\n",
       "      <td>0.629329</td>\n",
       "      <td>0.561959</td>\n",
       "      <td>0.781409</td>\n",
       "      <td>...</td>\n",
       "      <td>0.666376</td>\n",
       "      <td>0.655135</td>\n",
       "      <td>0.652459</td>\n",
       "      <td>0.664585</td>\n",
       "      <td>0.657700</td>\n",
       "      <td>0.660410</td>\n",
       "      <td>0.661813</td>\n",
       "      <td>0.684532</td>\n",
       "      <td>0.663376</td>\n",
       "      <td>0.008384</td>\n",
       "    </tr>\n",
       "  </tbody>\n",
       "</table>\n",
       "<p>13 rows × 31 columns</p>\n",
       "</div>"
      ],
      "text/plain": [
       "    mean_fit_time  std_fit_time  mean_score_time  std_score_time param_alpha  \\\n",
       "0        0.001693      0.000455         0.001197        0.000399       0.001   \n",
       "1        0.001496      0.000499         0.001199        0.000403    0.003162   \n",
       "2        0.001886      0.000295         0.001096        0.000299        0.01   \n",
       "3        0.001998      0.000018         0.000996        0.000018    0.031623   \n",
       "4        0.001403      0.000483         0.001097        0.000297         0.1   \n",
       "5        0.001703      0.000450         0.001097        0.000300    0.316228   \n",
       "6        0.001696      0.000450         0.001190        0.000395         1.0   \n",
       "7        0.001394      0.000491         0.001000        0.000009    3.162278   \n",
       "8        0.001707      0.000464         0.001091        0.000292        10.0   \n",
       "9        0.001993      0.000009         0.000996        0.000003   31.622777   \n",
       "10       0.001700      0.000460         0.001094        0.000291       100.0   \n",
       "11       0.001490      0.000499         0.001000        0.000009  316.227766   \n",
       "12       0.001096      0.000300         0.001198        0.000399      1000.0   \n",
       "\n",
       "                              params  split0_test_score  split1_test_score  \\\n",
       "0                   {'alpha': 0.001}           0.783264           0.703124   \n",
       "1   {'alpha': 0.0031622776601683794}           0.783242           0.703110   \n",
       "2                    {'alpha': 0.01}           0.783172           0.703064   \n",
       "3     {'alpha': 0.03162277660168379}           0.782949           0.702916   \n",
       "4                     {'alpha': 0.1}           0.782228           0.702439   \n",
       "5     {'alpha': 0.31622776601683794}           0.779963           0.700937   \n",
       "6                     {'alpha': 1.0}           0.774383           0.697210   \n",
       "7      {'alpha': 3.1622776601683795}           0.766435           0.691934   \n",
       "8                    {'alpha': 10.0}           0.758370           0.687116   \n",
       "9      {'alpha': 31.622776601683793}           0.743153           0.679688   \n",
       "10                  {'alpha': 100.0}           0.711600           0.665268   \n",
       "11     {'alpha': 316.22776601683796}           0.675120           0.647667   \n",
       "12                 {'alpha': 1000.0}           0.644696           0.629329   \n",
       "\n",
       "    split2_test_score  split3_test_score  ...  split2_train_score  \\\n",
       "0            0.555585           0.732900  ...            0.766419   \n",
       "1            0.555572           0.733042  ...            0.766419   \n",
       "2            0.555533           0.733482  ...            0.766418   \n",
       "3            0.555412           0.734819  ...            0.766412   \n",
       "4            0.555058           0.738537  ...            0.766356   \n",
       "5            0.554191           0.746729  ...            0.765964   \n",
       "6            0.553171           0.757656  ...            0.764324   \n",
       "7            0.555942           0.765105  ...            0.761140   \n",
       "8            0.569907           0.770369  ...            0.757306   \n",
       "9            0.594890           0.778256  ...            0.749432   \n",
       "10           0.610189           0.785346  ...            0.730008   \n",
       "11           0.598293           0.785016  ...            0.700460   \n",
       "12           0.561959           0.781409  ...            0.666376   \n",
       "\n",
       "    split3_train_score  split4_train_score  split5_train_score  \\\n",
       "0             0.747077            0.734746            0.752195   \n",
       "1             0.747077            0.734746            0.752194   \n",
       "2             0.747075            0.734745            0.752194   \n",
       "3             0.747065            0.734738            0.752188   \n",
       "4             0.746974            0.734677            0.752133   \n",
       "5             0.746361            0.734251            0.751759   \n",
       "6             0.743999            0.732518            0.750244   \n",
       "7             0.739949            0.729329            0.747454   \n",
       "8             0.736175            0.726073            0.744474   \n",
       "9             0.730400            0.720653            0.738697   \n",
       "10            0.715026            0.706527            0.722552   \n",
       "11            0.688386            0.682776            0.695987   \n",
       "12            0.655135            0.652459            0.664585   \n",
       "\n",
       "    split6_train_score  split7_train_score  split8_train_score  \\\n",
       "0             0.737612            0.749494            0.743946   \n",
       "1             0.737612            0.749494            0.743946   \n",
       "2             0.737611            0.749493            0.743945   \n",
       "3             0.737603            0.749487            0.743939   \n",
       "4             0.737532            0.749434            0.743885   \n",
       "5             0.737039            0.749066            0.743507   \n",
       "6             0.735024            0.747534            0.741947   \n",
       "7             0.731312            0.744609            0.739018   \n",
       "8             0.727744            0.741394            0.735945   \n",
       "9             0.722709            0.735645            0.730753   \n",
       "10            0.709969            0.720448            0.717130   \n",
       "11            0.687612            0.693833            0.693136   \n",
       "12            0.657700            0.660410            0.661813   \n",
       "\n",
       "    split9_train_score  mean_train_score  std_train_score  \n",
       "0             0.764885          0.749152         0.009893  \n",
       "1             0.764885          0.749152         0.009893  \n",
       "2             0.764884          0.749151         0.009893  \n",
       "3             0.764878          0.749144         0.009893  \n",
       "4             0.764819          0.749082         0.009896  \n",
       "5             0.764416          0.748658         0.009916  \n",
       "6             0.762809          0.746948         0.009996  \n",
       "7             0.759936          0.743822         0.010129  \n",
       "8             0.757140          0.740584         0.010159  \n",
       "9             0.752431          0.734989         0.009830  \n",
       "10            0.738812          0.720252         0.009008  \n",
       "11            0.714656          0.695114         0.008341  \n",
       "12            0.684532          0.663376         0.008384  \n",
       "\n",
       "[13 rows x 31 columns]"
      ]
     },
     "execution_count": 15,
     "metadata": {},
     "output_type": "execute_result"
    }
   ],
   "source": [
    "import pandas as pd\n",
    "results = pd.DataFrame(grid.cv_results_)\n",
    "results"
   ]
  },
  {
   "cell_type": "code",
   "execution_count": 16,
   "metadata": {
    "jupyter": {
     "outputs_hidden": false
    }
   },
   "outputs": [
    {
     "name": "stderr",
     "output_type": "stream",
     "text": [
      "C:\\Users\\tli1\\AppData\\Local\\Continuum\\anaconda3\\lib\\site-packages\\ipykernel_launcher.py:3: DeprecationWarning: `np.float` is a deprecated alias for the builtin `float`. To silence this warning, use `float` by itself. Doing this will not modify any behavior and is safe. If you specifically wanted the numpy scalar type, use `np.float64` here.\n",
      "Deprecated in NumPy 1.20; for more details and guidance: https://numpy.org/devdocs/release/1.20.0-notes.html#deprecations\n",
      "  This is separate from the ipykernel package so we can avoid doing imports until\n",
      "C:\\Users\\tli1\\AppData\\Local\\Continuum\\anaconda3\\lib\\site-packages\\ipykernel_launcher.py:6: DeprecationWarning: `np.float` is a deprecated alias for the builtin `float`. To silence this warning, use `float` by itself. Doing this will not modify any behavior and is safe. If you specifically wanted the numpy scalar type, use `np.float64` here.\n",
      "Deprecated in NumPy 1.20; for more details and guidance: https://numpy.org/devdocs/release/1.20.0-notes.html#deprecations\n",
      "  \n"
     ]
    },
    {
     "data": {
      "image/png": "[encoded data removed]",
      "text/plain": [
       "<Figure size 432x288 with 1 Axes>"
      ]
     },
     "metadata": {
      "needs_background": "light"
     },
     "output_type": "display_data"
    }
   ],
   "source": [
    "results.plot('param_alpha', 'mean_train_score')\n",
    "results.plot('param_alpha', 'mean_test_score', ax=plt.gca())\n",
    "plt.fill_between(results.param_alpha.astype(np.float),\n",
    "                 results['mean_train_score'] + results['std_train_score'],\n",
    "                 results['mean_train_score'] - results['std_train_score'], alpha=0.2)\n",
    "plt.fill_between(results.param_alpha.astype(np.float),\n",
    "                 results['mean_test_score'] + results['std_test_score'],\n",
    "                 results['mean_test_score'] - results['std_test_score'], alpha=0.2)\n",
    "plt.legend()\n",
    "plt.xscale(\"log\")"
   ]
  },
  {
   "cell_type": "code",
   "execution_count": 17,
   "metadata": {},
   "outputs": [
    {
     "data": {
      "text/plain": [
       "{'alpha': 0.1}"
      ]
     },
     "execution_count": 17,
     "metadata": {},
     "output_type": "execute_result"
    }
   ],
   "source": [
    "grid.best_params_"
   ]
  },
  {
   "cell_type": "code",
   "execution_count": 18,
   "metadata": {},
   "outputs": [
    {
     "data": {
      "text/plain": [
       "0.7160600746856847"
      ]
     },
     "execution_count": 18,
     "metadata": {},
     "output_type": "execute_result"
    }
   ],
   "source": [
    "grid.best_score_"
   ]
  },
  {
   "cell_type": "markdown",
   "metadata": {},
   "source": [
    "## Scenario With Polynomial Features"
   ]
  },
  {
   "cell_type": "code",
   "execution_count": 19,
   "metadata": {},
   "outputs": [],
   "source": [
    "from sklearn.preprocessing import PolynomialFeatures, StandardScaler\n",
    "from sklearn.pipeline import make_pipeline"
   ]
  },
  {
   "cell_type": "code",
   "execution_count": 20,
   "metadata": {},
   "outputs": [
    {
     "name": "stdout",
     "output_type": "stream",
     "text": [
      "X_train.shape: (379, 13)\n",
      "X_train_poly.shape: (379, 105)\n"
     ]
    }
   ],
   "source": [
    "poly = PolynomialFeatures(degree=2).fit(X_train)\n",
    "X_train_poly = poly.transform(X_train)\n",
    "X_test_poly = poly.transform(X_test)\n",
    "print(\"X_train.shape: {}\".format(X_train.shape))\n",
    "print(\"X_train_poly.shape: {}\".format(X_train_poly.shape))"
   ]
  },
  {
   "cell_type": "code",
   "execution_count": 21,
   "metadata": {},
   "outputs": [
    {
     "name": "stdout",
     "output_type": "stream",
     "text": [
      "Polynomial feature names:\n",
      "['1', 'x0', 'x1', 'x2', 'x3', 'x4', 'x5', 'x6', 'x7', 'x8', 'x9', 'x10', 'x11', 'x12', 'x0^2', 'x0 x1', 'x0 x2', 'x0 x3', 'x0 x4', 'x0 x5', 'x0 x6', 'x0 x7', 'x0 x8', 'x0 x9', 'x0 x10', 'x0 x11', 'x0 x12', 'x1^2', 'x1 x2', 'x1 x3', 'x1 x4', 'x1 x5', 'x1 x6', 'x1 x7', 'x1 x8', 'x1 x9', 'x1 x10', 'x1 x11', 'x1 x12', 'x2^2', 'x2 x3', 'x2 x4', 'x2 x5', 'x2 x6', 'x2 x7', 'x2 x8', 'x2 x9', 'x2 x10', 'x2 x11', 'x2 x12', 'x3^2', 'x3 x4', 'x3 x5', 'x3 x6', 'x3 x7', 'x3 x8', 'x3 x9', 'x3 x10', 'x3 x11', 'x3 x12', 'x4^2', 'x4 x5', 'x4 x6', 'x4 x7', 'x4 x8', 'x4 x9', 'x4 x10', 'x4 x11', 'x4 x12', 'x5^2', 'x5 x6', 'x5 x7', 'x5 x8', 'x5 x9', 'x5 x10', 'x5 x11', 'x5 x12', 'x6^2', 'x6 x7', 'x6 x8', 'x6 x9', 'x6 x10', 'x6 x11', 'x6 x12', 'x7^2', 'x7 x8', 'x7 x9', 'x7 x10', 'x7 x11', 'x7 x12', 'x8^2', 'x8 x9', 'x8 x10', 'x8 x11', 'x8 x12', 'x9^2', 'x9 x10', 'x9 x11', 'x9 x12', 'x10^2', 'x10 x11', 'x10 x12', 'x11^2', 'x11 x12', 'x12^2']\n"
     ]
    }
   ],
   "source": [
    "print(\"Polynomial feature names:\\n{}\".format(poly.get_feature_names()))"
   ]
  },
  {
   "cell_type": "code",
   "execution_count": 22,
   "metadata": {},
   "outputs": [
    {
     "name": "stdout",
     "output_type": "stream",
     "text": [
      "Score without interactions: 0.684\n",
      "Score with interactions: 0.829\n"
     ]
    }
   ],
   "source": [
    "pipe = make_pipeline(StandardScaler(),Ridge())\n",
    "ridge = pipe.fit(X_train, y_train)\n",
    "print(\"Score without interactions: {:.3f}\".format(\n",
    "    ridge.score(X_test, y_test)))\n",
    "ridge_poly = pipe.fit(X_train_poly, y_train)\n",
    "print(\"Score with interactions: {:.3f}\".format(\n",
    "    ridge_poly.score(X_test_poly, y_test)))"
   ]
  },
  {
   "cell_type": "code",
   "execution_count": 23,
   "metadata": {
    "jupyter": {
     "outputs_hidden": false
    }
   },
   "outputs": [
    {
     "data": {
      "text/plain": [
       "0.7163173889175505"
      ]
     },
     "execution_count": 23,
     "metadata": {},
     "output_type": "execute_result"
    }
   ],
   "source": [
    "np.mean(cross_val_score(pipe, X_train, y_train, cv=10))"
   ]
  },
  {
   "cell_type": "code",
   "execution_count": 24,
   "metadata": {
    "jupyter": {
     "outputs_hidden": false
    }
   },
   "outputs": [
    {
     "data": {
      "text/plain": [
       "0.8537775160100589"
      ]
     },
     "execution_count": 24,
     "metadata": {},
     "output_type": "execute_result"
    }
   ],
   "source": [
    "np.mean(cross_val_score(pipe, X_train_poly, y_train, cv=10))"
   ]
  },
  {
   "cell_type": "markdown",
   "metadata": {},
   "source": [
    "### Tuning the Hyperparameter"
   ]
  },
  {
   "cell_type": "code",
   "execution_count": 25,
   "metadata": {
    "jupyter": {
     "outputs_hidden": false
    }
   },
   "outputs": [
    {
     "data": {
      "text/plain": [
       "GridSearchCV(cv=10,\n",
       "             estimator=Pipeline(steps=[('polynomialfeatures',\n",
       "                                        PolynomialFeatures()),\n",
       "                                       ('standardscaler', StandardScaler()),\n",
       "                                       ('ridge', Ridge())]),\n",
       "             param_grid={'ridge__alpha': array([   0.001,    0.003,    0.01 ,    0.032,    0.1  ,    0.316,\n",
       "          1.   ,    3.162,   10.   ,   31.623,  100.   ,  316.228,\n",
       "       1000.   ])},\n",
       "             return_train_score=True)"
      ]
     },
     "execution_count": 25,
     "metadata": {},
     "output_type": "execute_result"
    }
   ],
   "source": [
    "pipe = make_pipeline(PolynomialFeatures(degree=2),StandardScaler(),Ridge())\n",
    "\n",
    "param_grid = {'ridge__alpha': np.logspace(-3, 3, 13)}\n",
    "\n",
    "grid = GridSearchCV(pipe, param_grid, cv=10, return_train_score=True)\n",
    "grid.fit(X_train, y_train)"
   ]
  },
  {
   "cell_type": "code",
   "execution_count": 26,
   "metadata": {},
   "outputs": [],
   "source": [
    "results = pd.DataFrame(grid.cv_results_)"
   ]
  },
  {
   "cell_type": "code",
   "execution_count": 27,
   "metadata": {},
   "outputs": [
    {
     "data": {
      "text/html": [
       "<div>\n",
       "<style scoped>\n",
       "    .dataframe tbody tr th:only-of-type {\n",
       "        vertical-align: middle;\n",
       "    }\n",
       "\n",
       "    .dataframe tbody tr th {\n",
       "        vertical-align: top;\n",
       "    }\n",
       "\n",
       "    .dataframe thead th {\n",
       "        text-align: right;\n",
       "    }\n",
       "</style>\n",
       "<table border=\"1\" class=\"dataframe\">\n",
       "  <thead>\n",
       "    <tr style=\"text-align: right;\">\n",
       "      <th></th>\n",
       "      <th>mean_fit_time</th>\n",
       "      <th>std_fit_time</th>\n",
       "      <th>mean_score_time</th>\n",
       "      <th>std_score_time</th>\n",
       "      <th>param_ridge__alpha</th>\n",
       "      <th>params</th>\n",
       "      <th>split0_test_score</th>\n",
       "      <th>split1_test_score</th>\n",
       "      <th>split2_test_score</th>\n",
       "      <th>split3_test_score</th>\n",
       "      <th>...</th>\n",
       "      <th>split2_train_score</th>\n",
       "      <th>split3_train_score</th>\n",
       "      <th>split4_train_score</th>\n",
       "      <th>split5_train_score</th>\n",
       "      <th>split6_train_score</th>\n",
       "      <th>split7_train_score</th>\n",
       "      <th>split8_train_score</th>\n",
       "      <th>split9_train_score</th>\n",
       "      <th>mean_train_score</th>\n",
       "      <th>std_train_score</th>\n",
       "    </tr>\n",
       "  </thead>\n",
       "  <tbody>\n",
       "    <tr>\n",
       "      <th>0</th>\n",
       "      <td>0.005183</td>\n",
       "      <td>0.000401</td>\n",
       "      <td>0.001596</td>\n",
       "      <td>0.000488</td>\n",
       "      <td>0.001</td>\n",
       "      <td>{'ridge__alpha': 0.001}</td>\n",
       "      <td>0.565386</td>\n",
       "      <td>0.776911</td>\n",
       "      <td>0.820390</td>\n",
       "      <td>0.847759</td>\n",
       "      <td>...</td>\n",
       "      <td>0.946312</td>\n",
       "      <td>0.947892</td>\n",
       "      <td>0.944132</td>\n",
       "      <td>0.947406</td>\n",
       "      <td>0.943942</td>\n",
       "      <td>0.946684</td>\n",
       "      <td>0.947744</td>\n",
       "      <td>0.949679</td>\n",
       "      <td>0.947268</td>\n",
       "      <td>0.002057</td>\n",
       "    </tr>\n",
       "    <tr>\n",
       "      <th>1</th>\n",
       "      <td>0.004932</td>\n",
       "      <td>0.000343</td>\n",
       "      <td>0.001506</td>\n",
       "      <td>0.000495</td>\n",
       "      <td>0.003162</td>\n",
       "      <td>{'ridge__alpha': 0.0031622776601683794}</td>\n",
       "      <td>0.571989</td>\n",
       "      <td>0.773292</td>\n",
       "      <td>0.820653</td>\n",
       "      <td>0.849405</td>\n",
       "      <td>...</td>\n",
       "      <td>0.946078</td>\n",
       "      <td>0.947537</td>\n",
       "      <td>0.943683</td>\n",
       "      <td>0.946995</td>\n",
       "      <td>0.943707</td>\n",
       "      <td>0.946378</td>\n",
       "      <td>0.947494</td>\n",
       "      <td>0.949491</td>\n",
       "      <td>0.946965</td>\n",
       "      <td>0.002085</td>\n",
       "    </tr>\n",
       "    <tr>\n",
       "      <th>2</th>\n",
       "      <td>0.004881</td>\n",
       "      <td>0.000308</td>\n",
       "      <td>0.001218</td>\n",
       "      <td>0.000397</td>\n",
       "      <td>0.01</td>\n",
       "      <td>{'ridge__alpha': 0.01}</td>\n",
       "      <td>0.578460</td>\n",
       "      <td>0.770931</td>\n",
       "      <td>0.822452</td>\n",
       "      <td>0.852910</td>\n",
       "      <td>...</td>\n",
       "      <td>0.945420</td>\n",
       "      <td>0.946678</td>\n",
       "      <td>0.942626</td>\n",
       "      <td>0.946163</td>\n",
       "      <td>0.943025</td>\n",
       "      <td>0.945646</td>\n",
       "      <td>0.946677</td>\n",
       "      <td>0.948998</td>\n",
       "      <td>0.946216</td>\n",
       "      <td>0.002181</td>\n",
       "    </tr>\n",
       "    <tr>\n",
       "      <th>3</th>\n",
       "      <td>0.004821</td>\n",
       "      <td>0.000334</td>\n",
       "      <td>0.001413</td>\n",
       "      <td>0.000481</td>\n",
       "      <td>0.031623</td>\n",
       "      <td>{'ridge__alpha': 0.03162277660168379}</td>\n",
       "      <td>0.594707</td>\n",
       "      <td>0.771671</td>\n",
       "      <td>0.824055</td>\n",
       "      <td>0.854600</td>\n",
       "      <td>...</td>\n",
       "      <td>0.943627</td>\n",
       "      <td>0.944890</td>\n",
       "      <td>0.940308</td>\n",
       "      <td>0.944268</td>\n",
       "      <td>0.941340</td>\n",
       "      <td>0.943907</td>\n",
       "      <td>0.944763</td>\n",
       "      <td>0.947643</td>\n",
       "      <td>0.944454</td>\n",
       "      <td>0.002391</td>\n",
       "    </tr>\n",
       "    <tr>\n",
       "      <th>4</th>\n",
       "      <td>0.004992</td>\n",
       "      <td>0.000272</td>\n",
       "      <td>0.001115</td>\n",
       "      <td>0.000293</td>\n",
       "      <td>0.1</td>\n",
       "      <td>{'ridge__alpha': 0.1}</td>\n",
       "      <td>0.649316</td>\n",
       "      <td>0.777374</td>\n",
       "      <td>0.813543</td>\n",
       "      <td>0.859417</td>\n",
       "      <td>...</td>\n",
       "      <td>0.939979</td>\n",
       "      <td>0.941550</td>\n",
       "      <td>0.936037</td>\n",
       "      <td>0.940430</td>\n",
       "      <td>0.938040</td>\n",
       "      <td>0.940324</td>\n",
       "      <td>0.941138</td>\n",
       "      <td>0.944657</td>\n",
       "      <td>0.940930</td>\n",
       "      <td>0.002651</td>\n",
       "    </tr>\n",
       "    <tr>\n",
       "      <th>5</th>\n",
       "      <td>0.004890</td>\n",
       "      <td>0.000317</td>\n",
       "      <td>0.001316</td>\n",
       "      <td>0.000456</td>\n",
       "      <td>0.316228</td>\n",
       "      <td>{'ridge__alpha': 0.31622776601683794}</td>\n",
       "      <td>0.759034</td>\n",
       "      <td>0.784340</td>\n",
       "      <td>0.777776</td>\n",
       "      <td>0.867187</td>\n",
       "      <td>...</td>\n",
       "      <td>0.934653</td>\n",
       "      <td>0.935720</td>\n",
       "      <td>0.929009</td>\n",
       "      <td>0.934056</td>\n",
       "      <td>0.932289</td>\n",
       "      <td>0.934434</td>\n",
       "      <td>0.935073</td>\n",
       "      <td>0.939260</td>\n",
       "      <td>0.934931</td>\n",
       "      <td>0.002897</td>\n",
       "    </tr>\n",
       "    <tr>\n",
       "      <th>6</th>\n",
       "      <td>0.004873</td>\n",
       "      <td>0.000305</td>\n",
       "      <td>0.001411</td>\n",
       "      <td>0.000488</td>\n",
       "      <td>1.0</td>\n",
       "      <td>{'ridge__alpha': 1.0}</td>\n",
       "      <td>0.861283</td>\n",
       "      <td>0.787713</td>\n",
       "      <td>0.722928</td>\n",
       "      <td>0.868506</td>\n",
       "      <td>...</td>\n",
       "      <td>0.927544</td>\n",
       "      <td>0.926056</td>\n",
       "      <td>0.918322</td>\n",
       "      <td>0.924178</td>\n",
       "      <td>0.922699</td>\n",
       "      <td>0.925277</td>\n",
       "      <td>0.925587</td>\n",
       "      <td>0.929568</td>\n",
       "      <td>0.925393</td>\n",
       "      <td>0.003206</td>\n",
       "    </tr>\n",
       "    <tr>\n",
       "      <th>7</th>\n",
       "      <td>0.004564</td>\n",
       "      <td>0.000510</td>\n",
       "      <td>0.001604</td>\n",
       "      <td>0.000496</td>\n",
       "      <td>3.162278</td>\n",
       "      <td>{'ridge__alpha': 3.1622776601683795}</td>\n",
       "      <td>0.895571</td>\n",
       "      <td>0.796753</td>\n",
       "      <td>0.668278</td>\n",
       "      <td>0.865044</td>\n",
       "      <td>...</td>\n",
       "      <td>0.916799</td>\n",
       "      <td>0.910573</td>\n",
       "      <td>0.901673</td>\n",
       "      <td>0.908357</td>\n",
       "      <td>0.906469</td>\n",
       "      <td>0.910451</td>\n",
       "      <td>0.911051</td>\n",
       "      <td>0.913527</td>\n",
       "      <td>0.910188</td>\n",
       "      <td>0.004172</td>\n",
       "    </tr>\n",
       "    <tr>\n",
       "      <th>8</th>\n",
       "      <td>0.004842</td>\n",
       "      <td>0.000487</td>\n",
       "      <td>0.001411</td>\n",
       "      <td>0.000494</td>\n",
       "      <td>10.0</td>\n",
       "      <td>{'ridge__alpha': 10.0}</td>\n",
       "      <td>0.878207</td>\n",
       "      <td>0.814819</td>\n",
       "      <td>0.613247</td>\n",
       "      <td>0.867102</td>\n",
       "      <td>...</td>\n",
       "      <td>0.897794</td>\n",
       "      <td>0.885422</td>\n",
       "      <td>0.875538</td>\n",
       "      <td>0.883396</td>\n",
       "      <td>0.879864</td>\n",
       "      <td>0.886709</td>\n",
       "      <td>0.887480</td>\n",
       "      <td>0.889271</td>\n",
       "      <td>0.885788</td>\n",
       "      <td>0.005788</td>\n",
       "    </tr>\n",
       "    <tr>\n",
       "      <th>9</th>\n",
       "      <td>0.004938</td>\n",
       "      <td>0.000375</td>\n",
       "      <td>0.001205</td>\n",
       "      <td>0.000394</td>\n",
       "      <td>31.622777</td>\n",
       "      <td>{'ridge__alpha': 31.622776601683793}</td>\n",
       "      <td>0.838440</td>\n",
       "      <td>0.814703</td>\n",
       "      <td>0.558501</td>\n",
       "      <td>0.857996</td>\n",
       "      <td>...</td>\n",
       "      <td>0.866508</td>\n",
       "      <td>0.846244</td>\n",
       "      <td>0.835850</td>\n",
       "      <td>0.846244</td>\n",
       "      <td>0.839431</td>\n",
       "      <td>0.849573</td>\n",
       "      <td>0.849658</td>\n",
       "      <td>0.853202</td>\n",
       "      <td>0.848153</td>\n",
       "      <td>0.007861</td>\n",
       "    </tr>\n",
       "    <tr>\n",
       "      <th>10</th>\n",
       "      <td>0.004988</td>\n",
       "      <td>0.000054</td>\n",
       "      <td>0.001224</td>\n",
       "      <td>0.000393</td>\n",
       "      <td>100.0</td>\n",
       "      <td>{'ridge__alpha': 100.0}</td>\n",
       "      <td>0.795815</td>\n",
       "      <td>0.786335</td>\n",
       "      <td>0.531648</td>\n",
       "      <td>0.842962</td>\n",
       "      <td>...</td>\n",
       "      <td>0.829916</td>\n",
       "      <td>0.802657</td>\n",
       "      <td>0.791829</td>\n",
       "      <td>0.805750</td>\n",
       "      <td>0.795603</td>\n",
       "      <td>0.807454</td>\n",
       "      <td>0.806654</td>\n",
       "      <td>0.812955</td>\n",
       "      <td>0.806111</td>\n",
       "      <td>0.009774</td>\n",
       "    </tr>\n",
       "    <tr>\n",
       "      <th>11</th>\n",
       "      <td>0.004909</td>\n",
       "      <td>0.000340</td>\n",
       "      <td>0.001122</td>\n",
       "      <td>0.000291</td>\n",
       "      <td>316.227766</td>\n",
       "      <td>{'ridge__alpha': 316.22776601683796}</td>\n",
       "      <td>0.745180</td>\n",
       "      <td>0.740331</td>\n",
       "      <td>0.533776</td>\n",
       "      <td>0.839435</td>\n",
       "      <td>...</td>\n",
       "      <td>0.787971</td>\n",
       "      <td>0.758839</td>\n",
       "      <td>0.749263</td>\n",
       "      <td>0.764856</td>\n",
       "      <td>0.752495</td>\n",
       "      <td>0.764688</td>\n",
       "      <td>0.763067</td>\n",
       "      <td>0.772970</td>\n",
       "      <td>0.763796</td>\n",
       "      <td>0.010230</td>\n",
       "    </tr>\n",
       "    <tr>\n",
       "      <th>12</th>\n",
       "      <td>0.004953</td>\n",
       "      <td>0.000399</td>\n",
       "      <td>0.001504</td>\n",
       "      <td>0.000496</td>\n",
       "      <td>1000.0</td>\n",
       "      <td>{'ridge__alpha': 1000.0}</td>\n",
       "      <td>0.663796</td>\n",
       "      <td>0.676935</td>\n",
       "      <td>0.510941</td>\n",
       "      <td>0.827375</td>\n",
       "      <td>...</td>\n",
       "      <td>0.719106</td>\n",
       "      <td>0.693236</td>\n",
       "      <td>0.687311</td>\n",
       "      <td>0.700917</td>\n",
       "      <td>0.687810</td>\n",
       "      <td>0.700772</td>\n",
       "      <td>0.698581</td>\n",
       "      <td>0.710638</td>\n",
       "      <td>0.699775</td>\n",
       "      <td>0.009167</td>\n",
       "    </tr>\n",
       "  </tbody>\n",
       "</table>\n",
       "<p>13 rows × 31 columns</p>\n",
       "</div>"
      ],
      "text/plain": [
       "    mean_fit_time  std_fit_time  mean_score_time  std_score_time  \\\n",
       "0        0.005183      0.000401         0.001596        0.000488   \n",
       "1        0.004932      0.000343         0.001506        0.000495   \n",
       "2        0.004881      0.000308         0.001218        0.000397   \n",
       "3        0.004821      0.000334         0.001413        0.000481   \n",
       "4        0.004992      0.000272         0.001115        0.000293   \n",
       "5        0.004890      0.000317         0.001316        0.000456   \n",
       "6        0.004873      0.000305         0.001411        0.000488   \n",
       "7        0.004564      0.000510         0.001604        0.000496   \n",
       "8        0.004842      0.000487         0.001411        0.000494   \n",
       "9        0.004938      0.000375         0.001205        0.000394   \n",
       "10       0.004988      0.000054         0.001224        0.000393   \n",
       "11       0.004909      0.000340         0.001122        0.000291   \n",
       "12       0.004953      0.000399         0.001504        0.000496   \n",
       "\n",
       "   param_ridge__alpha                                   params  \\\n",
       "0               0.001                  {'ridge__alpha': 0.001}   \n",
       "1            0.003162  {'ridge__alpha': 0.0031622776601683794}   \n",
       "2                0.01                   {'ridge__alpha': 0.01}   \n",
       "3            0.031623    {'ridge__alpha': 0.03162277660168379}   \n",
       "4                 0.1                    {'ridge__alpha': 0.1}   \n",
       "5            0.316228    {'ridge__alpha': 0.31622776601683794}   \n",
       "6                 1.0                    {'ridge__alpha': 1.0}   \n",
       "7            3.162278     {'ridge__alpha': 3.1622776601683795}   \n",
       "8                10.0                   {'ridge__alpha': 10.0}   \n",
       "9           31.622777     {'ridge__alpha': 31.622776601683793}   \n",
       "10              100.0                  {'ridge__alpha': 100.0}   \n",
       "11         316.227766     {'ridge__alpha': 316.22776601683796}   \n",
       "12             1000.0                 {'ridge__alpha': 1000.0}   \n",
       "\n",
       "    split0_test_score  split1_test_score  split2_test_score  \\\n",
       "0            0.565386           0.776911           0.820390   \n",
       "1            0.571989           0.773292           0.820653   \n",
       "2            0.578460           0.770931           0.822452   \n",
       "3            0.594707           0.771671           0.824055   \n",
       "4            0.649316           0.777374           0.813543   \n",
       "5            0.759034           0.784340           0.777776   \n",
       "6            0.861283           0.787713           0.722928   \n",
       "7            0.895571           0.796753           0.668278   \n",
       "8            0.878207           0.814819           0.613247   \n",
       "9            0.838440           0.814703           0.558501   \n",
       "10           0.795815           0.786335           0.531648   \n",
       "11           0.745180           0.740331           0.533776   \n",
       "12           0.663796           0.676935           0.510941   \n",
       "\n",
       "    split3_test_score  ...  split2_train_score  split3_train_score  \\\n",
       "0            0.847759  ...            0.946312            0.947892   \n",
       "1            0.849405  ...            0.946078            0.947537   \n",
       "2            0.852910  ...            0.945420            0.946678   \n",
       "3            0.854600  ...            0.943627            0.944890   \n",
       "4            0.859417  ...            0.939979            0.941550   \n",
       "5            0.867187  ...            0.934653            0.935720   \n",
       "6            0.868506  ...            0.927544            0.926056   \n",
       "7            0.865044  ...            0.916799            0.910573   \n",
       "8            0.867102  ...            0.897794            0.885422   \n",
       "9            0.857996  ...            0.866508            0.846244   \n",
       "10           0.842962  ...            0.829916            0.802657   \n",
       "11           0.839435  ...            0.787971            0.758839   \n",
       "12           0.827375  ...            0.719106            0.693236   \n",
       "\n",
       "    split4_train_score  split5_train_score  split6_train_score  \\\n",
       "0             0.944132            0.947406            0.943942   \n",
       "1             0.943683            0.946995            0.943707   \n",
       "2             0.942626            0.946163            0.943025   \n",
       "3             0.940308            0.944268            0.941340   \n",
       "4             0.936037            0.940430            0.938040   \n",
       "5             0.929009            0.934056            0.932289   \n",
       "6             0.918322            0.924178            0.922699   \n",
       "7             0.901673            0.908357            0.906469   \n",
       "8             0.875538            0.883396            0.879864   \n",
       "9             0.835850            0.846244            0.839431   \n",
       "10            0.791829            0.805750            0.795603   \n",
       "11            0.749263            0.764856            0.752495   \n",
       "12            0.687311            0.700917            0.687810   \n",
       "\n",
       "    split7_train_score  split8_train_score  split9_train_score  \\\n",
       "0             0.946684            0.947744            0.949679   \n",
       "1             0.946378            0.947494            0.949491   \n",
       "2             0.945646            0.946677            0.948998   \n",
       "3             0.943907            0.944763            0.947643   \n",
       "4             0.940324            0.941138            0.944657   \n",
       "5             0.934434            0.935073            0.939260   \n",
       "6             0.925277            0.925587            0.929568   \n",
       "7             0.910451            0.911051            0.913527   \n",
       "8             0.886709            0.887480            0.889271   \n",
       "9             0.849573            0.849658            0.853202   \n",
       "10            0.807454            0.806654            0.812955   \n",
       "11            0.764688            0.763067            0.772970   \n",
       "12            0.700772            0.698581            0.710638   \n",
       "\n",
       "    mean_train_score  std_train_score  \n",
       "0           0.947268         0.002057  \n",
       "1           0.946965         0.002085  \n",
       "2           0.946216         0.002181  \n",
       "3           0.944454         0.002391  \n",
       "4           0.940930         0.002651  \n",
       "5           0.934931         0.002897  \n",
       "6           0.925393         0.003206  \n",
       "7           0.910188         0.004172  \n",
       "8           0.885788         0.005788  \n",
       "9           0.848153         0.007861  \n",
       "10          0.806111         0.009774  \n",
       "11          0.763796         0.010230  \n",
       "12          0.699775         0.009167  \n",
       "\n",
       "[13 rows x 31 columns]"
      ]
     },
     "execution_count": 27,
     "metadata": {},
     "output_type": "execute_result"
    }
   ],
   "source": [
    "results"
   ]
  },
  {
   "cell_type": "code",
   "execution_count": 28,
   "metadata": {
    "jupyter": {
     "outputs_hidden": false
    }
   },
   "outputs": [
    {
     "name": "stderr",
     "output_type": "stream",
     "text": [
      "C:\\Users\\tli1\\AppData\\Local\\Continuum\\anaconda3\\lib\\site-packages\\ipykernel_launcher.py:3: DeprecationWarning: `np.float` is a deprecated alias for the builtin `float`. To silence this warning, use `float` by itself. Doing this will not modify any behavior and is safe. If you specifically wanted the numpy scalar type, use `np.float64` here.\n",
      "Deprecated in NumPy 1.20; for more details and guidance: https://numpy.org/devdocs/release/1.20.0-notes.html#deprecations\n",
      "  This is separate from the ipykernel package so we can avoid doing imports until\n",
      "C:\\Users\\tli1\\AppData\\Local\\Continuum\\anaconda3\\lib\\site-packages\\ipykernel_launcher.py:6: DeprecationWarning: `np.float` is a deprecated alias for the builtin `float`. To silence this warning, use `float` by itself. Doing this will not modify any behavior and is safe. If you specifically wanted the numpy scalar type, use `np.float64` here.\n",
      "Deprecated in NumPy 1.20; for more details and guidance: https://numpy.org/devdocs/release/1.20.0-notes.html#deprecations\n",
      "  \n"
     ]
    },
    {
     "data": {
      "image/png": "[encoded data removed]",
      "text/plain": [
       "<Figure size 432x288 with 1 Axes>"
      ]
     },
     "metadata": {
      "needs_background": "light"
     },
     "output_type": "display_data"
    }
   ],
   "source": [
    "results.plot('param_ridge__alpha', 'mean_train_score')\n",
    "results.plot('param_ridge__alpha', 'mean_test_score', ax=plt.gca())\n",
    "plt.fill_between(results.param_ridge__alpha.astype(np.float),\n",
    "                 results['mean_train_score'] + results['std_train_score'],\n",
    "                 results['mean_train_score'] - results['std_train_score'], alpha=0.2)\n",
    "plt.fill_between(results.param_ridge__alpha.astype(np.float),\n",
    "                 results['mean_test_score'] + results['std_test_score'],\n",
    "                 results['mean_test_score'] - results['std_test_score'], alpha=0.2)\n",
    "plt.legend()\n",
    "plt.xscale(\"log\")"
   ]
  },
  {
   "cell_type": "code",
   "execution_count": 29,
   "metadata": {
    "jupyter": {
     "outputs_hidden": false
    }
   },
   "outputs": [
    {
     "name": "stdout",
     "output_type": "stream",
     "text": [
      "{'ridge__alpha': 1.0}\n",
      "0.8537775160100589\n"
     ]
    }
   ],
   "source": [
    "print(grid.best_params_)\n",
    "print(grid.best_score_)"
   ]
  },
  {
   "cell_type": "code",
   "execution_count": 30,
   "metadata": {},
   "outputs": [
    {
     "data": {
      "text/plain": [
       "0.8287527733077908"
      ]
     },
     "execution_count": 30,
     "metadata": {},
     "output_type": "execute_result"
    }
   ],
   "source": [
    "grid.score(X_test, y_test)"
   ]
  },
  {
   "cell_type": "markdown",
   "metadata": {},
   "source": [
    "## Ridge Regression Coefficients"
   ]
  },
  {
   "cell_type": "code",
   "execution_count": 31,
   "metadata": {
    "jupyter": {
     "outputs_hidden": false
    },
    "scrolled": true
   },
   "outputs": [
    {
     "data": {
      "text/plain": [
       "<matplotlib.collections.PathCollection at 0x256ff7006c8>"
      ]
     },
     "execution_count": 31,
     "metadata": {},
     "output_type": "execute_result"
    },
    {
     "data": {
      "image/png": "[encoded data removed]",
      "text/plain": [
       "<Figure size 432x288 with 1 Axes>"
      ]
     },
     "metadata": {
      "needs_background": "light"
     },
     "output_type": "display_data"
    }
   ],
   "source": [
    "ridge = grid.best_estimator_\n",
    "plt.scatter(range(X_train_poly.shape[1]), ridge[\"ridge\"].coef_, c=np.sign(ridge[\"ridge\"].coef_), cmap=\"bwr_r\")"
   ]
  },
  {
   "cell_type": "code",
   "execution_count": 32,
   "metadata": {},
   "outputs": [
    {
     "name": "stdout",
     "output_type": "stream",
     "text": [
      "(379, 105)\n"
     ]
    },
    {
     "data": {
      "text/plain": [
       "104"
      ]
     },
     "execution_count": 32,
     "metadata": {},
     "output_type": "execute_result"
    }
   ],
   "source": [
    "print(X_train_poly.shape)\n",
    "np.sum(ridge[\"ridge\"].coef_ != 0)"
   ]
  },
  {
   "cell_type": "code",
   "execution_count": 33,
   "metadata": {
    "jupyter": {
     "outputs_hidden": false
    }
   },
   "outputs": [
    {
     "data": {
      "text/plain": [
       "<matplotlib.legend.Legend at 0x256ff4df988>"
      ]
     },
     "execution_count": 33,
     "metadata": {},
     "output_type": "execute_result"
    },
    {
     "data": {
      "image/png": "[encoded data removed]",
      "text/plain": [
       "<Figure size 576x288 with 1 Axes>"
      ]
     },
     "metadata": {
      "needs_background": "light"
     },
     "output_type": "display_data"
    }
   ],
   "source": [
    "ridge100 = Ridge(alpha=100).fit(X_train_poly, y_train)\n",
    "ridge10 = Ridge(alpha=10).fit(X_train_poly, y_train)\n",
    "ridge1 = Ridge(alpha=1).fit(X_train_poly, y_train)\n",
    "plt.figure(figsize=(8, 4))\n",
    "\n",
    "plt.plot(ridge1.coef_, 'o', label=\"alpha=1\")\n",
    "plt.plot(ridge10.coef_, 'o', label=\"alpha=10\")\n",
    "plt.plot(ridge100.coef_, 'o', label=\"alpha=100\")\n",
    "plt.legend()"
   ]
  },
  {
   "cell_type": "code",
   "execution_count": 34,
   "metadata": {
    "jupyter": {
     "outputs_hidden": false
    }
   },
   "outputs": [
    {
     "data": {
      "text/plain": [
       "Text(0, 0.5, 'coefficient')"
      ]
     },
     "execution_count": 34,
     "metadata": {},
     "output_type": "execute_result"
    },
    {
     "data": {
      "image/png": "[encoded data removed]",
      "text/plain": [
       "<Figure size 576x288 with 1 Axes>"
      ]
     },
     "metadata": {
      "needs_background": "light"
     },
     "output_type": "display_data"
    }
   ],
   "source": [
    "n_alphas = 200\n",
    "alphas = np.logspace(-5, 6, n_alphas)\n",
    "plt.figure(figsize=(8, 4))\n",
    "coefs = []\n",
    "for a in alphas:\n",
    "    ridge = Ridge(alpha=a)\n",
    "    ridge.fit(StandardScaler().fit_transform(X_train_poly), y_train)\n",
    "    coefs.append(ridge.coef_)\n",
    "\n",
    "plt.plot(alphas, coefs, c='k', alpha=.1)\n",
    "plt.xscale(\"log\")\n",
    "plt.xlabel(\"alpha\")\n",
    "plt.ylabel(\"coefficient\")"
   ]
  },
  {
   "cell_type": "markdown",
   "metadata": {},
   "source": [
    "## Learning Curve"
   ]
  },
  {
   "cell_type": "code",
   "execution_count": 35,
   "metadata": {
    "jupyter": {
     "outputs_hidden": false
    }
   },
   "outputs": [
    {
     "data": {
      "text/plain": [
       "(-1, 1)"
      ]
     },
     "execution_count": 35,
     "metadata": {},
     "output_type": "execute_result"
    },
    {
     "data": {
      "image/png": "[encoded data removed]",
      "text/plain": [
       "<Figure size 432x288 with 1 Axes>"
      ]
     },
     "metadata": {
      "needs_background": "light"
     },
     "output_type": "display_data"
    }
   ],
   "source": [
    "from sklearn.model_selection import learning_curve\n",
    "def plot_learning_curve(est, name):\n",
    "    train_set_size, train_scores, test_scores = learning_curve(est, X, y, cv=10, train_sizes=np.linspace(0, 1, 20)[1:])\n",
    "    test_mean = test_scores.mean(axis=1)\n",
    "    train_mean = train_scores.mean(axis=1)\n",
    "    line, = plt.plot(train_set_size, train_mean, linestyle=\"--\", label=\"train score {}\".format(name))\n",
    "    plt.plot(train_set_size, test_mean, label=\"test score {}\".format(name),\n",
    "             c=line.get_color())\n",
    "    \n",
    "plot_learning_curve(Ridge(alpha=1), \"alpha=1\")\n",
    "plot_learning_curve(Ridge(alpha=10), \"alpha=10\")\n",
    "plot_learning_curve(Ridge(alpha=100), \"alpha=100\")\n",
    "\n",
    "plot_learning_curve(LinearRegression(), \"lr\")\n",
    "plt.legend(loc=(1, 0))\n",
    "plt.xlabel(\"training set size\")\n",
    "plt.ylabel(\"R^2\")\n",
    "plt.ylim(-1, 1)"
   ]
  },
  {
   "cell_type": "markdown",
   "metadata": {},
   "source": [
    "## Grid-searching preprocessing steps and model parameters"
   ]
  },
  {
   "cell_type": "code",
   "execution_count": 36,
   "metadata": {},
   "outputs": [],
   "source": [
    "pipe = make_pipeline(PolynomialFeatures(), StandardScaler(),Ridge())"
   ]
  },
  {
   "cell_type": "code",
   "execution_count": 37,
   "metadata": {},
   "outputs": [],
   "source": [
    "param_grid = {'polynomialfeatures__degree': [1, 2, 3],\n",
    "              'ridge__alpha': [0.001, 0.01, 0.1, 1, 10, 100]}"
   ]
  },
  {
   "cell_type": "code",
   "execution_count": 38,
   "metadata": {},
   "outputs": [
    {
     "data": {
      "text/plain": [
       "GridSearchCV(cv=5,\n",
       "             estimator=Pipeline(steps=[('polynomialfeatures',\n",
       "                                        PolynomialFeatures()),\n",
       "                                       ('standardscaler', StandardScaler()),\n",
       "                                       ('ridge', Ridge())]),\n",
       "             n_jobs=-1,\n",
       "             param_grid={'polynomialfeatures__degree': [1, 2, 3],\n",
       "                         'ridge__alpha': [0.001, 0.01, 0.1, 1, 10, 100]})"
      ]
     },
     "execution_count": 38,
     "metadata": {},
     "output_type": "execute_result"
    }
   ],
   "source": [
    "grid = GridSearchCV(pipe, param_grid=param_grid, cv=5, n_jobs=-1)\n",
    "grid.fit(X_train, y_train)"
   ]
  },
  {
   "cell_type": "code",
   "execution_count": 39,
   "metadata": {},
   "outputs": [],
   "source": [
    "import pandas as pd\n",
    "res = pd.pivot_table(pd.DataFrame(grid.cv_results_), values='mean_test_score', index='param_ridge__alpha', columns='param_polynomialfeatures__degree')\n",
    "pd.set_option(\"display.precision\",3)\n",
    "res = res.set_index(res.index.values.round(4))"
   ]
  },
  {
   "cell_type": "code",
   "execution_count": 40,
   "metadata": {},
   "outputs": [
    {
     "data": {
      "text/html": [
       "<div>\n",
       "<style scoped>\n",
       "    .dataframe tbody tr th:only-of-type {\n",
       "        vertical-align: middle;\n",
       "    }\n",
       "\n",
       "    .dataframe tbody tr th {\n",
       "        vertical-align: top;\n",
       "    }\n",
       "\n",
       "    .dataframe thead th {\n",
       "        text-align: right;\n",
       "    }\n",
       "</style>\n",
       "<table border=\"1\" class=\"dataframe\">\n",
       "  <thead>\n",
       "    <tr style=\"text-align: right;\">\n",
       "      <th>param_polynomialfeatures__degree</th>\n",
       "      <th>1</th>\n",
       "      <th>2</th>\n",
       "      <th>3</th>\n",
       "    </tr>\n",
       "  </thead>\n",
       "  <tbody>\n",
       "    <tr>\n",
       "      <th>0.001</th>\n",
       "      <td>0.716</td>\n",
       "      <td>0.798</td>\n",
       "      <td>-1.190</td>\n",
       "    </tr>\n",
       "    <tr>\n",
       "      <th>0.010</th>\n",
       "      <td>0.716</td>\n",
       "      <td>0.806</td>\n",
       "      <td>0.463</td>\n",
       "    </tr>\n",
       "    <tr>\n",
       "      <th>0.100</th>\n",
       "      <td>0.716</td>\n",
       "      <td>0.832</td>\n",
       "      <td>0.773</td>\n",
       "    </tr>\n",
       "    <tr>\n",
       "      <th>1.000</th>\n",
       "      <td>0.716</td>\n",
       "      <td>0.855</td>\n",
       "      <td>0.845</td>\n",
       "    </tr>\n",
       "    <tr>\n",
       "      <th>10.000</th>\n",
       "      <td>0.716</td>\n",
       "      <td>0.829</td>\n",
       "      <td>0.841</td>\n",
       "    </tr>\n",
       "    <tr>\n",
       "      <th>100.000</th>\n",
       "      <td>0.696</td>\n",
       "      <td>0.760</td>\n",
       "      <td>0.811</td>\n",
       "    </tr>\n",
       "  </tbody>\n",
       "</table>\n",
       "</div>"
      ],
      "text/plain": [
       "param_polynomialfeatures__degree      1      2      3\n",
       "0.001                             0.716  0.798 -1.190\n",
       "0.010                             0.716  0.806  0.463\n",
       "0.100                             0.716  0.832  0.773\n",
       "1.000                             0.716  0.855  0.845\n",
       "10.000                            0.716  0.829  0.841\n",
       "100.000                           0.696  0.760  0.811"
      ]
     },
     "execution_count": 40,
     "metadata": {},
     "output_type": "execute_result"
    }
   ],
   "source": [
    "res"
   ]
  },
  {
   "cell_type": "code",
   "execution_count": 41,
   "metadata": {},
   "outputs": [
    {
     "name": "stderr",
     "output_type": "stream",
     "text": [
      "C:\\Users\\tli1\\AppData\\Local\\Continuum\\anaconda3\\lib\\site-packages\\statsmodels\\tools\\_testing.py:19: FutureWarning: pandas.util.testing is deprecated. Use the functions in the public API at pandas.testing instead.\n",
      "  import pandas.util.testing as tm\n"
     ]
    },
    {
     "data": {
      "text/plain": [
       "<matplotlib.axes._subplots.AxesSubplot at 0x256ff2b0948>"
      ]
     },
     "execution_count": 41,
     "metadata": {},
     "output_type": "execute_result"
    },
    {
     "data": {
      "image/png": "[encoded data removed]",
      "text/plain": [
       "<Figure size 432x288 with 2 Axes>"
      ]
     },
     "metadata": {
      "needs_background": "light"
     },
     "output_type": "display_data"
    }
   ],
   "source": [
    "import seaborn as sns\n",
    "sns.heatmap(res, annot=True, fmt=\".3g\", vmin=0.6)"
   ]
  },
  {
   "cell_type": "code",
   "execution_count": 42,
   "metadata": {},
   "outputs": [
    {
     "data": {
      "image/png": "[encoded data removed]",
      "text/plain": [
       "<Figure size 600x400 with 2 Axes>"
      ]
     },
     "metadata": {
      "needs_background": "light"
     },
     "output_type": "display_data"
    }
   ],
   "source": [
    "plt.figure(dpi=100)\n",
    "plt.imshow(res) #, vmin=.70, vmax=.825)\n",
    "plt.colorbar()\n",
    "alphas = param_grid['ridge__alpha']\n",
    "polynomial_degree = np.array(param_grid['polynomialfeatures__degree'])\n",
    "plt.xlabel(\"polynomial_degree\")\n",
    "plt.ylabel(\"alpha\")\n",
    "plt.yticks(range(len(alphas)), [\"{:.4f}\".format(a) for a in alphas])\n",
    "plt.xticks(range(len(polynomial_degree)), polynomial_degree);"
   ]
  },
  {
   "cell_type": "code",
   "execution_count": 43,
   "metadata": {},
   "outputs": [
    {
     "name": "stdout",
     "output_type": "stream",
     "text": [
      "Best parameters: {'polynomialfeatures__degree': 2, 'ridge__alpha': 1}\n"
     ]
    }
   ],
   "source": [
    "print(\"Best parameters: {}\".format(grid.best_params_))"
   ]
  },
  {
   "cell_type": "code",
   "execution_count": 44,
   "metadata": {},
   "outputs": [
    {
     "name": "stdout",
     "output_type": "stream",
     "text": [
      "Test-set score: 0.83\n"
     ]
    }
   ],
   "source": [
    "print(\"Test-set score: {:.2f}\".format(grid.score(X_test, y_test)))"
   ]
  },
  {
   "cell_type": "code",
   "execution_count": 45,
   "metadata": {},
   "outputs": [
    {
     "name": "stdout",
     "output_type": "stream",
     "text": [
      "Score without poly features: 0.68\n"
     ]
    }
   ],
   "source": [
    "param_grid = {'ridge__alpha': [0.001, 0.01, 0.1, 1, 10, 100]}\n",
    "pipe = make_pipeline(StandardScaler(), Ridge())\n",
    "grid = GridSearchCV(pipe, param_grid, cv=5)\n",
    "grid.fit(X_train, y_train)\n",
    "print(\"Score without poly features: {:.2f}\".format(grid.score(X_test, y_test)))"
   ]
  },
  {
   "cell_type": "markdown",
   "metadata": {},
   "source": [
    "# Lasso"
   ]
  },
  {
   "cell_type": "code",
   "execution_count": 46,
   "metadata": {},
   "outputs": [
    {
     "data": {
      "text/plain": [
       "GridSearchCV(cv=10,\n",
       "             estimator=Pipeline(steps=[('polynomialfeatures',\n",
       "                                        PolynomialFeatures()),\n",
       "                                       ('standardscaler', StandardScaler()),\n",
       "                                       ('lasso', Lasso(max_iter=1000000.0))]),\n",
       "             param_grid={'lasso__alpha': array([0.001, 0.002, 0.003, 0.006, 0.01 , 0.018, 0.032, 0.056, 0.1  ,\n",
       "       0.178, 0.316, 0.562, 1.   ])},\n",
       "             return_train_score=True)"
      ]
     },
     "execution_count": 46,
     "metadata": {},
     "output_type": "execute_result"
    }
   ],
   "source": [
    "pipe2 = make_pipeline(PolynomialFeatures(degree=2),StandardScaler(),Lasso(max_iter=1e6))\n",
    "\n",
    "param_grid = {'lasso__alpha': np.logspace(-3, 0, 13)}\n",
    "\n",
    "grid2 = GridSearchCV(pipe2, param_grid, cv=10, return_train_score=True)\n",
    "grid2.fit(X_train, y_train)"
   ]
  },
  {
   "cell_type": "code",
   "execution_count": 47,
   "metadata": {},
   "outputs": [
    {
     "data": {
      "text/html": [
       "<div>\n",
       "<style scoped>\n",
       "    .dataframe tbody tr th:only-of-type {\n",
       "        vertical-align: middle;\n",
       "    }\n",
       "\n",
       "    .dataframe tbody tr th {\n",
       "        vertical-align: top;\n",
       "    }\n",
       "\n",
       "    .dataframe thead th {\n",
       "        text-align: right;\n",
       "    }\n",
       "</style>\n",
       "<table border=\"1\" class=\"dataframe\">\n",
       "  <thead>\n",
       "    <tr style=\"text-align: right;\">\n",
       "      <th></th>\n",
       "      <th>mean_fit_time</th>\n",
       "      <th>std_fit_time</th>\n",
       "      <th>mean_score_time</th>\n",
       "      <th>std_score_time</th>\n",
       "      <th>param_lasso__alpha</th>\n",
       "      <th>params</th>\n",
       "      <th>split0_test_score</th>\n",
       "      <th>split1_test_score</th>\n",
       "      <th>split2_test_score</th>\n",
       "      <th>split3_test_score</th>\n",
       "      <th>...</th>\n",
       "      <th>split2_train_score</th>\n",
       "      <th>split3_train_score</th>\n",
       "      <th>split4_train_score</th>\n",
       "      <th>split5_train_score</th>\n",
       "      <th>split6_train_score</th>\n",
       "      <th>split7_train_score</th>\n",
       "      <th>split8_train_score</th>\n",
       "      <th>split9_train_score</th>\n",
       "      <th>mean_train_score</th>\n",
       "      <th>std_train_score</th>\n",
       "    </tr>\n",
       "  </thead>\n",
       "  <tbody>\n",
       "    <tr>\n",
       "      <th>0</th>\n",
       "      <td>3.535</td>\n",
       "      <td>4.924e-01</td>\n",
       "      <td>0.002</td>\n",
       "      <td>4.530e-04</td>\n",
       "      <td>0.001</td>\n",
       "      <td>{'lasso__alpha': 0.001}</td>\n",
       "      <td>0.609</td>\n",
       "      <td>0.776</td>\n",
       "      <td>0.808</td>\n",
       "      <td>0.864</td>\n",
       "      <td>...</td>\n",
       "      <td>0.944</td>\n",
       "      <td>0.944</td>\n",
       "      <td>0.940</td>\n",
       "      <td>0.944</td>\n",
       "      <td>0.941</td>\n",
       "      <td>0.944</td>\n",
       "      <td>0.944</td>\n",
       "      <td>0.948</td>\n",
       "      <td>0.944</td>\n",
       "      <td>0.002</td>\n",
       "    </tr>\n",
       "    <tr>\n",
       "      <th>1</th>\n",
       "      <td>2.514</td>\n",
       "      <td>4.877e-01</td>\n",
       "      <td>0.002</td>\n",
       "      <td>4.002e-04</td>\n",
       "      <td>0.002</td>\n",
       "      <td>{'lasso__alpha': 0.0017782794100389228}</td>\n",
       "      <td>0.622</td>\n",
       "      <td>0.779</td>\n",
       "      <td>0.797</td>\n",
       "      <td>0.864</td>\n",
       "      <td>...</td>\n",
       "      <td>0.941</td>\n",
       "      <td>0.942</td>\n",
       "      <td>0.938</td>\n",
       "      <td>0.942</td>\n",
       "      <td>0.938</td>\n",
       "      <td>0.941</td>\n",
       "      <td>0.942</td>\n",
       "      <td>0.945</td>\n",
       "      <td>0.942</td>\n",
       "      <td>0.002</td>\n",
       "    </tr>\n",
       "    <tr>\n",
       "      <th>2</th>\n",
       "      <td>1.178</td>\n",
       "      <td>4.504e-01</td>\n",
       "      <td>0.001</td>\n",
       "      <td>4.920e-04</td>\n",
       "      <td>0.003</td>\n",
       "      <td>{'lasso__alpha': 0.0031622776601683794}</td>\n",
       "      <td>0.632</td>\n",
       "      <td>0.780</td>\n",
       "      <td>0.770</td>\n",
       "      <td>0.859</td>\n",
       "      <td>...</td>\n",
       "      <td>0.935</td>\n",
       "      <td>0.937</td>\n",
       "      <td>0.932</td>\n",
       "      <td>0.936</td>\n",
       "      <td>0.933</td>\n",
       "      <td>0.936</td>\n",
       "      <td>0.937</td>\n",
       "      <td>0.940</td>\n",
       "      <td>0.937</td>\n",
       "      <td>0.003</td>\n",
       "    </tr>\n",
       "    <tr>\n",
       "      <th>3</th>\n",
       "      <td>0.767</td>\n",
       "      <td>3.849e-01</td>\n",
       "      <td>0.002</td>\n",
       "      <td>4.009e-04</td>\n",
       "      <td>0.006</td>\n",
       "      <td>{'lasso__alpha': 0.005623413251903491}</td>\n",
       "      <td>0.663</td>\n",
       "      <td>0.780</td>\n",
       "      <td>0.732</td>\n",
       "      <td>0.852</td>\n",
       "      <td>...</td>\n",
       "      <td>0.930</td>\n",
       "      <td>0.932</td>\n",
       "      <td>0.925</td>\n",
       "      <td>0.930</td>\n",
       "      <td>0.927</td>\n",
       "      <td>0.931</td>\n",
       "      <td>0.931</td>\n",
       "      <td>0.935</td>\n",
       "      <td>0.931</td>\n",
       "      <td>0.003</td>\n",
       "    </tr>\n",
       "    <tr>\n",
       "      <th>4</th>\n",
       "      <td>0.298</td>\n",
       "      <td>8.154e-02</td>\n",
       "      <td>0.002</td>\n",
       "      <td>2.953e-04</td>\n",
       "      <td>0.01</td>\n",
       "      <td>{'lasso__alpha': 0.01}</td>\n",
       "      <td>0.691</td>\n",
       "      <td>0.770</td>\n",
       "      <td>0.691</td>\n",
       "      <td>0.861</td>\n",
       "      <td>...</td>\n",
       "      <td>0.922</td>\n",
       "      <td>0.926</td>\n",
       "      <td>0.916</td>\n",
       "      <td>0.923</td>\n",
       "      <td>0.921</td>\n",
       "      <td>0.923</td>\n",
       "      <td>0.924</td>\n",
       "      <td>0.927</td>\n",
       "      <td>0.923</td>\n",
       "      <td>0.003</td>\n",
       "    </tr>\n",
       "    <tr>\n",
       "      <th>5</th>\n",
       "      <td>0.161</td>\n",
       "      <td>4.147e-02</td>\n",
       "      <td>0.001</td>\n",
       "      <td>4.570e-04</td>\n",
       "      <td>0.018</td>\n",
       "      <td>{'lasso__alpha': 0.01778279410038923}</td>\n",
       "      <td>0.762</td>\n",
       "      <td>0.773</td>\n",
       "      <td>0.634</td>\n",
       "      <td>0.870</td>\n",
       "      <td>...</td>\n",
       "      <td>0.913</td>\n",
       "      <td>0.914</td>\n",
       "      <td>0.907</td>\n",
       "      <td>0.912</td>\n",
       "      <td>0.911</td>\n",
       "      <td>0.914</td>\n",
       "      <td>0.915</td>\n",
       "      <td>0.917</td>\n",
       "      <td>0.913</td>\n",
       "      <td>0.003</td>\n",
       "    </tr>\n",
       "    <tr>\n",
       "      <th>6</th>\n",
       "      <td>0.106</td>\n",
       "      <td>3.325e-02</td>\n",
       "      <td>0.002</td>\n",
       "      <td>4.889e-04</td>\n",
       "      <td>0.032</td>\n",
       "      <td>{'lasso__alpha': 0.03162277660168379}</td>\n",
       "      <td>0.887</td>\n",
       "      <td>0.795</td>\n",
       "      <td>0.605</td>\n",
       "      <td>0.870</td>\n",
       "      <td>...</td>\n",
       "      <td>0.904</td>\n",
       "      <td>0.899</td>\n",
       "      <td>0.891</td>\n",
       "      <td>0.896</td>\n",
       "      <td>0.893</td>\n",
       "      <td>0.898</td>\n",
       "      <td>0.900</td>\n",
       "      <td>0.901</td>\n",
       "      <td>0.899</td>\n",
       "      <td>0.004</td>\n",
       "    </tr>\n",
       "    <tr>\n",
       "      <th>7</th>\n",
       "      <td>0.038</td>\n",
       "      <td>4.392e-02</td>\n",
       "      <td>0.002</td>\n",
       "      <td>4.571e-04</td>\n",
       "      <td>0.056</td>\n",
       "      <td>{'lasso__alpha': 0.05623413251903491}</td>\n",
       "      <td>0.882</td>\n",
       "      <td>0.812</td>\n",
       "      <td>0.558</td>\n",
       "      <td>0.872</td>\n",
       "      <td>...</td>\n",
       "      <td>0.890</td>\n",
       "      <td>0.875</td>\n",
       "      <td>0.868</td>\n",
       "      <td>0.872</td>\n",
       "      <td>0.870</td>\n",
       "      <td>0.876</td>\n",
       "      <td>0.878</td>\n",
       "      <td>0.876</td>\n",
       "      <td>0.876</td>\n",
       "      <td>0.006</td>\n",
       "    </tr>\n",
       "    <tr>\n",
       "      <th>8</th>\n",
       "      <td>0.010</td>\n",
       "      <td>1.685e-03</td>\n",
       "      <td>0.001</td>\n",
       "      <td>4.915e-04</td>\n",
       "      <td>0.1</td>\n",
       "      <td>{'lasso__alpha': 0.1}</td>\n",
       "      <td>0.856</td>\n",
       "      <td>0.818</td>\n",
       "      <td>0.506</td>\n",
       "      <td>0.869</td>\n",
       "      <td>...</td>\n",
       "      <td>0.873</td>\n",
       "      <td>0.848</td>\n",
       "      <td>0.834</td>\n",
       "      <td>0.845</td>\n",
       "      <td>0.843</td>\n",
       "      <td>0.849</td>\n",
       "      <td>0.849</td>\n",
       "      <td>0.854</td>\n",
       "      <td>0.849</td>\n",
       "      <td>0.010</td>\n",
       "    </tr>\n",
       "    <tr>\n",
       "      <th>9</th>\n",
       "      <td>0.006</td>\n",
       "      <td>5.119e-04</td>\n",
       "      <td>0.001</td>\n",
       "      <td>4.530e-04</td>\n",
       "      <td>0.178</td>\n",
       "      <td>{'lasso__alpha': 0.1778279410038923}</td>\n",
       "      <td>0.839</td>\n",
       "      <td>0.806</td>\n",
       "      <td>0.491</td>\n",
       "      <td>0.868</td>\n",
       "      <td>...</td>\n",
       "      <td>0.853</td>\n",
       "      <td>0.824</td>\n",
       "      <td>0.809</td>\n",
       "      <td>0.821</td>\n",
       "      <td>0.816</td>\n",
       "      <td>0.825</td>\n",
       "      <td>0.824</td>\n",
       "      <td>0.835</td>\n",
       "      <td>0.825</td>\n",
       "      <td>0.011</td>\n",
       "    </tr>\n",
       "    <tr>\n",
       "      <th>10</th>\n",
       "      <td>0.005</td>\n",
       "      <td>8.117e-04</td>\n",
       "      <td>0.001</td>\n",
       "      <td>4.600e-04</td>\n",
       "      <td>0.316</td>\n",
       "      <td>{'lasso__alpha': 0.31622776601683794}</td>\n",
       "      <td>0.809</td>\n",
       "      <td>0.775</td>\n",
       "      <td>0.489</td>\n",
       "      <td>0.866</td>\n",
       "      <td>...</td>\n",
       "      <td>0.825</td>\n",
       "      <td>0.792</td>\n",
       "      <td>0.781</td>\n",
       "      <td>0.790</td>\n",
       "      <td>0.783</td>\n",
       "      <td>0.795</td>\n",
       "      <td>0.792</td>\n",
       "      <td>0.804</td>\n",
       "      <td>0.795</td>\n",
       "      <td>0.012</td>\n",
       "    </tr>\n",
       "    <tr>\n",
       "      <th>11</th>\n",
       "      <td>0.005</td>\n",
       "      <td>4.733e-04</td>\n",
       "      <td>0.001</td>\n",
       "      <td>3.032e-04</td>\n",
       "      <td>0.562</td>\n",
       "      <td>{'lasso__alpha': 0.5623413251903491}</td>\n",
       "      <td>0.791</td>\n",
       "      <td>0.759</td>\n",
       "      <td>0.487</td>\n",
       "      <td>0.864</td>\n",
       "      <td>...</td>\n",
       "      <td>0.804</td>\n",
       "      <td>0.765</td>\n",
       "      <td>0.756</td>\n",
       "      <td>0.772</td>\n",
       "      <td>0.757</td>\n",
       "      <td>0.773</td>\n",
       "      <td>0.771</td>\n",
       "      <td>0.784</td>\n",
       "      <td>0.772</td>\n",
       "      <td>0.013</td>\n",
       "    </tr>\n",
       "    <tr>\n",
       "      <th>12</th>\n",
       "      <td>0.004</td>\n",
       "      <td>4.048e-04</td>\n",
       "      <td>0.001</td>\n",
       "      <td>4.850e-04</td>\n",
       "      <td>1.0</td>\n",
       "      <td>{'lasso__alpha': 1.0}</td>\n",
       "      <td>0.760</td>\n",
       "      <td>0.720</td>\n",
       "      <td>0.499</td>\n",
       "      <td>0.844</td>\n",
       "      <td>...</td>\n",
       "      <td>0.766</td>\n",
       "      <td>0.732</td>\n",
       "      <td>0.721</td>\n",
       "      <td>0.737</td>\n",
       "      <td>0.720</td>\n",
       "      <td>0.737</td>\n",
       "      <td>0.734</td>\n",
       "      <td>0.756</td>\n",
       "      <td>0.737</td>\n",
       "      <td>0.013</td>\n",
       "    </tr>\n",
       "  </tbody>\n",
       "</table>\n",
       "<p>13 rows × 31 columns</p>\n",
       "</div>"
      ],
      "text/plain": [
       "    mean_fit_time  std_fit_time  mean_score_time  std_score_time  \\\n",
       "0           3.535     4.924e-01            0.002       4.530e-04   \n",
       "1           2.514     4.877e-01            0.002       4.002e-04   \n",
       "2           1.178     4.504e-01            0.001       4.920e-04   \n",
       "3           0.767     3.849e-01            0.002       4.009e-04   \n",
       "4           0.298     8.154e-02            0.002       2.953e-04   \n",
       "5           0.161     4.147e-02            0.001       4.570e-04   \n",
       "6           0.106     3.325e-02            0.002       4.889e-04   \n",
       "7           0.038     4.392e-02            0.002       4.571e-04   \n",
       "8           0.010     1.685e-03            0.001       4.915e-04   \n",
       "9           0.006     5.119e-04            0.001       4.530e-04   \n",
       "10          0.005     8.117e-04            0.001       4.600e-04   \n",
       "11          0.005     4.733e-04            0.001       3.032e-04   \n",
       "12          0.004     4.048e-04            0.001       4.850e-04   \n",
       "\n",
       "   param_lasso__alpha                                   params  \\\n",
       "0               0.001                  {'lasso__alpha': 0.001}   \n",
       "1               0.002  {'lasso__alpha': 0.0017782794100389228}   \n",
       "2               0.003  {'lasso__alpha': 0.0031622776601683794}   \n",
       "3               0.006   {'lasso__alpha': 0.005623413251903491}   \n",
       "4                0.01                   {'lasso__alpha': 0.01}   \n",
       "5               0.018    {'lasso__alpha': 0.01778279410038923}   \n",
       "6               0.032    {'lasso__alpha': 0.03162277660168379}   \n",
       "7               0.056    {'lasso__alpha': 0.05623413251903491}   \n",
       "8                 0.1                    {'lasso__alpha': 0.1}   \n",
       "9               0.178     {'lasso__alpha': 0.1778279410038923}   \n",
       "10              0.316    {'lasso__alpha': 0.31622776601683794}   \n",
       "11              0.562     {'lasso__alpha': 0.5623413251903491}   \n",
       "12                1.0                    {'lasso__alpha': 1.0}   \n",
       "\n",
       "    split0_test_score  split1_test_score  split2_test_score  \\\n",
       "0               0.609              0.776              0.808   \n",
       "1               0.622              0.779              0.797   \n",
       "2               0.632              0.780              0.770   \n",
       "3               0.663              0.780              0.732   \n",
       "4               0.691              0.770              0.691   \n",
       "5               0.762              0.773              0.634   \n",
       "6               0.887              0.795              0.605   \n",
       "7               0.882              0.812              0.558   \n",
       "8               0.856              0.818              0.506   \n",
       "9               0.839              0.806              0.491   \n",
       "10              0.809              0.775              0.489   \n",
       "11              0.791              0.759              0.487   \n",
       "12              0.760              0.720              0.499   \n",
       "\n",
       "    split3_test_score  ...  split2_train_score  split3_train_score  \\\n",
       "0               0.864  ...               0.944               0.944   \n",
       "1               0.864  ...               0.941               0.942   \n",
       "2               0.859  ...               0.935               0.937   \n",
       "3               0.852  ...               0.930               0.932   \n",
       "4               0.861  ...               0.922               0.926   \n",
       "5               0.870  ...               0.913               0.914   \n",
       "6               0.870  ...               0.904               0.899   \n",
       "7               0.872  ...               0.890               0.875   \n",
       "8               0.869  ...               0.873               0.848   \n",
       "9               0.868  ...               0.853               0.824   \n",
       "10              0.866  ...               0.825               0.792   \n",
       "11              0.864  ...               0.804               0.765   \n",
       "12              0.844  ...               0.766               0.732   \n",
       "\n",
       "    split4_train_score  split5_train_score  split6_train_score  \\\n",
       "0                0.940               0.944               0.941   \n",
       "1                0.938               0.942               0.938   \n",
       "2                0.932               0.936               0.933   \n",
       "3                0.925               0.930               0.927   \n",
       "4                0.916               0.923               0.921   \n",
       "5                0.907               0.912               0.911   \n",
       "6                0.891               0.896               0.893   \n",
       "7                0.868               0.872               0.870   \n",
       "8                0.834               0.845               0.843   \n",
       "9                0.809               0.821               0.816   \n",
       "10               0.781               0.790               0.783   \n",
       "11               0.756               0.772               0.757   \n",
       "12               0.721               0.737               0.720   \n",
       "\n",
       "    split7_train_score  split8_train_score  split9_train_score  \\\n",
       "0                0.944               0.944               0.948   \n",
       "1                0.941               0.942               0.945   \n",
       "2                0.936               0.937               0.940   \n",
       "3                0.931               0.931               0.935   \n",
       "4                0.923               0.924               0.927   \n",
       "5                0.914               0.915               0.917   \n",
       "6                0.898               0.900               0.901   \n",
       "7                0.876               0.878               0.876   \n",
       "8                0.849               0.849               0.854   \n",
       "9                0.825               0.824               0.835   \n",
       "10               0.795               0.792               0.804   \n",
       "11               0.773               0.771               0.784   \n",
       "12               0.737               0.734               0.756   \n",
       "\n",
       "    mean_train_score  std_train_score  \n",
       "0              0.944            0.002  \n",
       "1              0.942            0.002  \n",
       "2              0.937            0.003  \n",
       "3              0.931            0.003  \n",
       "4              0.923            0.003  \n",
       "5              0.913            0.003  \n",
       "6              0.899            0.004  \n",
       "7              0.876            0.006  \n",
       "8              0.849            0.010  \n",
       "9              0.825            0.011  \n",
       "10             0.795            0.012  \n",
       "11             0.772            0.013  \n",
       "12             0.737            0.013  \n",
       "\n",
       "[13 rows x 31 columns]"
      ]
     },
     "execution_count": 47,
     "metadata": {},
     "output_type": "execute_result"
    }
   ],
   "source": [
    "results = pd.DataFrame(grid2.cv_results_)\n",
    "results"
   ]
  },
  {
   "cell_type": "code",
   "execution_count": 48,
   "metadata": {
    "jupyter": {
     "outputs_hidden": false
    }
   },
   "outputs": [
    {
     "name": "stderr",
     "output_type": "stream",
     "text": [
      "C:\\Users\\tli1\\AppData\\Local\\Continuum\\anaconda3\\lib\\site-packages\\ipykernel_launcher.py:3: DeprecationWarning: `np.float` is a deprecated alias for the builtin `float`. To silence this warning, use `float` by itself. Doing this will not modify any behavior and is safe. If you specifically wanted the numpy scalar type, use `np.float64` here.\n",
      "Deprecated in NumPy 1.20; for more details and guidance: https://numpy.org/devdocs/release/1.20.0-notes.html#deprecations\n",
      "  This is separate from the ipykernel package so we can avoid doing imports until\n",
      "C:\\Users\\tli1\\AppData\\Local\\Continuum\\anaconda3\\lib\\site-packages\\ipykernel_launcher.py:6: DeprecationWarning: `np.float` is a deprecated alias for the builtin `float`. To silence this warning, use `float` by itself. Doing this will not modify any behavior and is safe. If you specifically wanted the numpy scalar type, use `np.float64` here.\n",
      "Deprecated in NumPy 1.20; for more details and guidance: https://numpy.org/devdocs/release/1.20.0-notes.html#deprecations\n",
      "  \n"
     ]
    },
    {
     "data": {
      "image/png": "[encoded data removed]",
      "text/plain": [
       "<Figure size 432x288 with 1 Axes>"
      ]
     },
     "metadata": {
      "needs_background": "light"
     },
     "output_type": "display_data"
    }
   ],
   "source": [
    "results.plot('param_lasso__alpha', 'mean_train_score')\n",
    "results.plot('param_lasso__alpha', 'mean_test_score', ax=plt.gca())\n",
    "plt.fill_between(results.param_lasso__alpha.astype(np.float),\n",
    "                 results['mean_train_score'] + results['std_train_score'],\n",
    "                 results['mean_train_score'] - results['std_train_score'], alpha=0.2)\n",
    "plt.fill_between(results.param_lasso__alpha.astype(np.float),\n",
    "                 results['mean_test_score'] + results['std_test_score'],\n",
    "                 results['mean_test_score'] - results['std_test_score'], alpha=0.2)\n",
    "plt.legend()\n",
    "plt.xscale(\"log\")"
   ]
  },
  {
   "cell_type": "code",
   "execution_count": 49,
   "metadata": {
    "jupyter": {
     "outputs_hidden": false
    }
   },
   "outputs": [
    {
     "name": "stdout",
     "output_type": "stream",
     "text": [
      "{'lasso__alpha': 0.03162277660168379}\n",
      "0.8359714417058427\n"
     ]
    }
   ],
   "source": [
    "print(grid2.best_params_)\n",
    "print(grid2.best_score_)"
   ]
  },
  {
   "cell_type": "code",
   "execution_count": 50,
   "metadata": {},
   "outputs": [
    {
     "data": {
      "text/plain": [
       "0.8130405334946651"
      ]
     },
     "execution_count": 50,
     "metadata": {},
     "output_type": "execute_result"
    }
   ],
   "source": [
    "grid2.score(X_test, y_test)"
   ]
  },
  {
   "cell_type": "code",
   "execution_count": 51,
   "metadata": {
    "jupyter": {
     "outputs_hidden": false
    }
   },
   "outputs": [
    {
     "data": {
      "text/plain": [
       "<matplotlib.collections.PathCollection at 0x256ff92f208>"
      ]
     },
     "execution_count": 51,
     "metadata": {},
     "output_type": "execute_result"
    },
    {
     "data": {
      "image/png": "[encoded data removed]",
      "text/plain": [
       "<Figure size 432x288 with 1 Axes>"
      ]
     },
     "metadata": {
      "needs_background": "light"
     },
     "output_type": "display_data"
    }
   ],
   "source": [
    "lasso = grid2.best_estimator_\n",
    "plt.scatter(range(X_train_poly.shape[1]), lasso['lasso'].coef_, c=np.sign(lasso['lasso'].coef_), cmap=\"bwr_r\", edgecolor='k')"
   ]
  },
  {
   "cell_type": "code",
   "execution_count": 52,
   "metadata": {
    "jupyter": {
     "outputs_hidden": false
    }
   },
   "outputs": [
    {
     "name": "stdout",
     "output_type": "stream",
     "text": [
      "(379, 105)\n"
     ]
    },
    {
     "data": {
      "text/plain": [
       "39"
      ]
     },
     "execution_count": 52,
     "metadata": {},
     "output_type": "execute_result"
    }
   ],
   "source": [
    "print(X_train_poly.shape)\n",
    "np.sum(lasso['lasso'].coef_ != 0)"
   ]
  },
  {
   "cell_type": "code",
   "execution_count": 53,
   "metadata": {
    "jupyter": {
     "outputs_hidden": false
    }
   },
   "outputs": [],
   "source": [
    "from sklearn.linear_model import lars_path\n",
    "# lars_path computes the exact regularization path which is piecewise linear.\n",
    "X_train, X_test, y_train, y_test = train_test_split(X.values, y.values, random_state=42)\n",
    "alphas, active, coefs = lars_path(X_train, y_train, eps=0.00001, method=\"lasso\")"
   ]
  },
  {
   "cell_type": "code",
   "execution_count": 54,
   "metadata": {
    "jupyter": {
     "outputs_hidden": false
    }
   },
   "outputs": [
    {
     "data": {
      "image/png": "[encoded data removed]",
      "text/plain": [
       "<Figure size 432x288 with 1 Axes>"
      ]
     },
     "metadata": {
      "needs_background": "light"
     },
     "output_type": "display_data"
    }
   ],
   "source": [
    "plt.plot(alphas, coefs.T, alpha=.5)\n",
    "plt.xscale(\"log\")"
   ]
  },
  {
   "cell_type": "markdown",
   "metadata": {},
   "source": [
    "# Elastic Net"
   ]
  },
  {
   "cell_type": "code",
   "execution_count": 55,
   "metadata": {},
   "outputs": [],
   "source": [
    "from sklearn.linear_model import ElasticNet"
   ]
  },
  {
   "cell_type": "code",
   "execution_count": 56,
   "metadata": {},
   "outputs": [
    {
     "data": {
      "text/plain": [
       "GridSearchCV(cv=10,\n",
       "             estimator=Pipeline(steps=[('polynomialfeatures',\n",
       "                                        PolynomialFeatures()),\n",
       "                                       ('standardscaler', StandardScaler()),\n",
       "                                       ('elasticnet',\n",
       "                                        ElasticNet(max_iter=100000))]),\n",
       "             param_grid={'elasticnet__alpha': array([0.001, 0.003, 0.01 , 0.032, 0.1  ]),\n",
       "                         'elasticnet__l1_ratio': [0.01, 0.1, 0.5, 0.9, 1]},\n",
       "             return_train_score=True)"
      ]
     },
     "execution_count": 56,
     "metadata": {},
     "output_type": "execute_result"
    }
   ],
   "source": [
    "pipe3 = make_pipeline(PolynomialFeatures(degree=2),StandardScaler(),ElasticNet(max_iter=100000))\n",
    "\n",
    "param_grid = {'elasticnet__alpha': np.logspace(-3, -1, 5), 'elasticnet__l1_ratio': [0.01, .1, .5, .9, 1]}\n",
    "\n",
    "grid3 = GridSearchCV(pipe3, param_grid, cv=10, return_train_score=True)\n",
    "grid3.fit(X_train, y_train)"
   ]
  },
  {
   "cell_type": "code",
   "execution_count": 57,
   "metadata": {},
   "outputs": [
    {
     "data": {
      "text/plain": [
       "Index(['mean_fit_time', 'std_fit_time', 'mean_score_time', 'std_score_time',\n",
       "       'param_elasticnet__alpha', 'param_elasticnet__l1_ratio', 'params',\n",
       "       'split0_test_score', 'split1_test_score', 'split2_test_score',\n",
       "       'split3_test_score', 'split4_test_score', 'split5_test_score',\n",
       "       'split6_test_score', 'split7_test_score', 'split8_test_score',\n",
       "       'split9_test_score', 'mean_test_score', 'std_test_score',\n",
       "       'rank_test_score', 'split0_train_score', 'split1_train_score',\n",
       "       'split2_train_score', 'split3_train_score', 'split4_train_score',\n",
       "       'split5_train_score', 'split6_train_score', 'split7_train_score',\n",
       "       'split8_train_score', 'split9_train_score', 'mean_train_score',\n",
       "       'std_train_score'],\n",
       "      dtype='object')"
      ]
     },
     "execution_count": 57,
     "metadata": {},
     "output_type": "execute_result"
    }
   ],
   "source": [
    "pd.DataFrame(grid3.cv_results_).columns"
   ]
  },
  {
   "cell_type": "code",
   "execution_count": 58,
   "metadata": {},
   "outputs": [],
   "source": [
    "import pandas as pd\n",
    "res = pd.pivot_table(pd.DataFrame(grid3.cv_results_), values='mean_test_score', index='param_elasticnet__alpha', columns='param_elasticnet__l1_ratio')\n",
    "pd.set_option(\"display.precision\",3)\n",
    "res = res.set_index(res.index.values.round(4))"
   ]
  },
  {
   "cell_type": "code",
   "execution_count": 59,
   "metadata": {},
   "outputs": [
    {
     "data": {
      "text/html": [
       "<div>\n",
       "<style scoped>\n",
       "    .dataframe tbody tr th:only-of-type {\n",
       "        vertical-align: middle;\n",
       "    }\n",
       "\n",
       "    .dataframe tbody tr th {\n",
       "        vertical-align: top;\n",
       "    }\n",
       "\n",
       "    .dataframe thead th {\n",
       "        text-align: right;\n",
       "    }\n",
       "</style>\n",
       "<table border=\"1\" class=\"dataframe\">\n",
       "  <thead>\n",
       "    <tr style=\"text-align: right;\">\n",
       "      <th>param_elasticnet__l1_ratio</th>\n",
       "      <th>0.01</th>\n",
       "      <th>0.10</th>\n",
       "      <th>0.50</th>\n",
       "      <th>0.90</th>\n",
       "      <th>1.00</th>\n",
       "    </tr>\n",
       "  </thead>\n",
       "  <tbody>\n",
       "    <tr>\n",
       "      <th>0.001</th>\n",
       "      <td>0.848</td>\n",
       "      <td>0.847</td>\n",
       "      <td>0.841</td>\n",
       "      <td>0.826</td>\n",
       "      <td>0.821</td>\n",
       "    </tr>\n",
       "    <tr>\n",
       "      <th>0.003</th>\n",
       "      <td>0.854</td>\n",
       "      <td>0.854</td>\n",
       "      <td>0.852</td>\n",
       "      <td>0.840</td>\n",
       "      <td>0.829</td>\n",
       "    </tr>\n",
       "    <tr>\n",
       "      <th>0.010</th>\n",
       "      <td>0.846</td>\n",
       "      <td>0.846</td>\n",
       "      <td>0.846</td>\n",
       "      <td>0.843</td>\n",
       "      <td>0.831</td>\n",
       "    </tr>\n",
       "    <tr>\n",
       "      <th>0.032</th>\n",
       "      <td>0.827</td>\n",
       "      <td>0.828</td>\n",
       "      <td>0.830</td>\n",
       "      <td>0.833</td>\n",
       "      <td>0.836</td>\n",
       "    </tr>\n",
       "    <tr>\n",
       "      <th>0.100</th>\n",
       "      <td>0.795</td>\n",
       "      <td>0.795</td>\n",
       "      <td>0.796</td>\n",
       "      <td>0.801</td>\n",
       "      <td>0.801</td>\n",
       "    </tr>\n",
       "  </tbody>\n",
       "</table>\n",
       "</div>"
      ],
      "text/plain": [
       "param_elasticnet__l1_ratio   0.01   0.10   0.50   0.90   1.00\n",
       "0.001                       0.848  0.847  0.841  0.826  0.821\n",
       "0.003                       0.854  0.854  0.852  0.840  0.829\n",
       "0.010                       0.846  0.846  0.846  0.843  0.831\n",
       "0.032                       0.827  0.828  0.830  0.833  0.836\n",
       "0.100                       0.795  0.795  0.796  0.801  0.801"
      ]
     },
     "execution_count": 59,
     "metadata": {},
     "output_type": "execute_result"
    }
   ],
   "source": [
    "res"
   ]
  },
  {
   "cell_type": "code",
   "execution_count": 60,
   "metadata": {},
   "outputs": [
    {
     "data": {
      "text/plain": [
       "<matplotlib.axes._subplots.AxesSubplot at 0x256ffbfe4c8>"
      ]
     },
     "execution_count": 60,
     "metadata": {},
     "output_type": "execute_result"
    },
    {
     "data": {
      "image/png": "[encoded data removed]",
      "text/plain": [
       "<Figure size 432x288 with 2 Axes>"
      ]
     },
     "metadata": {
      "needs_background": "light"
     },
     "output_type": "display_data"
    }
   ],
   "source": [
    "import seaborn as sns\n",
    "sns.heatmap(res, annot=True, fmt=\".3g\", vmin=0.6)"
   ]
  },
  {
   "cell_type": "code",
   "execution_count": 61,
   "metadata": {
    "scrolled": true
   },
   "outputs": [
    {
     "data": {
      "image/png": "[encoded data removed]",
      "text/plain": [
       "<Figure size 600x400 with 2 Axes>"
      ]
     },
     "metadata": {
      "needs_background": "light"
     },
     "output_type": "display_data"
    }
   ],
   "source": [
    "plt.figure(dpi=100)\n",
    "plt.imshow(res) #, vmin=.70, vmax=.825)\n",
    "plt.colorbar()\n",
    "alphas = param_grid['elasticnet__alpha']\n",
    "l1_ratio = np.array(param_grid['elasticnet__l1_ratio'])\n",
    "plt.xlabel(\"l1_ratio\")\n",
    "plt.ylabel(\"alpha\")\n",
    "plt.yticks(range(len(alphas)), [\"{:.4f}\".format(a) for a in alphas])\n",
    "plt.xticks(range(len(l1_ratio)), l1_ratio);"
   ]
  },
  {
   "cell_type": "code",
   "execution_count": 62,
   "metadata": {},
   "outputs": [
    {
     "name": "stdout",
     "output_type": "stream",
     "text": [
      "{'elasticnet__alpha': 0.0031622776601683794, 'elasticnet__l1_ratio': 0.01}\n",
      "0.8536672691530309\n"
     ]
    }
   ],
   "source": [
    "print(grid3.best_params_)\n",
    "print(grid3.best_score_)"
   ]
  },
  {
   "cell_type": "code",
   "execution_count": 63,
   "metadata": {},
   "outputs": [
    {
     "data": {
      "text/plain": [
       "<matplotlib.collections.PathCollection at 0x256ff92f688>"
      ]
     },
     "execution_count": 63,
     "metadata": {},
     "output_type": "execute_result"
    },
    {
     "data": {
      "image/png": "[encoded data removed]",
      "text/plain": [
       "<Figure size 432x288 with 1 Axes>"
      ]
     },
     "metadata": {
      "needs_background": "light"
     },
     "output_type": "display_data"
    }
   ],
   "source": [
    "en = grid3.best_estimator_\n",
    "plt.scatter(range(X_train_poly.shape[1]), en['elasticnet'].coef_, c=np.sign(en['elasticnet'].coef_), cmap=\"bwr_r\", edgecolor='k')"
   ]
  },
  {
   "cell_type": "code",
   "execution_count": 64,
   "metadata": {},
   "outputs": [
    {
     "name": "stdout",
     "output_type": "stream",
     "text": [
      "(379, 105)\n"
     ]
    },
    {
     "data": {
      "text/plain": [
       "104"
      ]
     },
     "execution_count": 64,
     "metadata": {},
     "output_type": "execute_result"
    }
   ],
   "source": [
    "print(X_train_poly.shape)\n",
    "np.sum(en['elasticnet'].coef_ != 0)"
   ]
  },
  {
   "cell_type": "code",
   "execution_count": 65,
   "metadata": {},
   "outputs": [
    {
     "data": {
      "text/plain": [
       "0.8295292473167917"
      ]
     },
     "execution_count": 65,
     "metadata": {},
     "output_type": "execute_result"
    }
   ],
   "source": [
    "grid3.score(X_test, y_test)"
   ]
  },
  {
   "cell_type": "markdown",
   "metadata": {},
   "source": [
    "# Random Forest Regressor"
   ]
  },
  {
   "cell_type": "code",
   "execution_count": 66,
   "metadata": {},
   "outputs": [
    {
     "name": "stdout",
     "output_type": "stream",
     "text": [
      "Score without interactions: 0.850\n",
      "Score with interactions: 0.849\n"
     ]
    }
   ],
   "source": [
    "from sklearn.ensemble import RandomForestRegressor\n",
    "rf = RandomForestRegressor(n_estimators=100).fit(X_train, y_train)\n",
    "print(\"Score without interactions: {:.3f}\".format(\n",
    "    rf.score(X_test, y_test)))\n",
    "rf = RandomForestRegressor(n_estimators=100).fit(X_train_poly, y_train)\n",
    "print(\"Score with interactions: {:.3f}\".format(rf.score(X_test_poly, y_test)))"
   ]
  },
  {
   "cell_type": "code",
   "execution_count": null,
   "metadata": {},
   "outputs": [],
   "source": []
  }
 ],
 "metadata": {
  "anaconda-cloud": {},
  "kernelspec": {
   "display_name": "Python 3",
   "language": "python",
   "name": "python3"
  },
  "language_info": {
   "codemirror_mode": {
    "name": "ipython",
    "version": 3
   },
   "file_extension": ".py",
   "mimetype": "text/x-python",
   "name": "python",
   "nbconvert_exporter": "python",
   "pygments_lexer": "ipython3",
   "version": "3.7.4"
  }
 },
 "nbformat": 4,
 "nbformat_minor": 4
}
